{
 "cells": [
  {
   "cell_type": "markdown",
   "metadata": {},
   "source": [
    "# COGS 108 - Data Checkpoint"
   ]
  },
  {
   "cell_type": "markdown",
   "metadata": {},
   "source": [
    "# Names\n",
    "\n",
    "- Karthik Guruvayurappan\n",
    "- Evan Chen\n",
    "- Katherine Kim\n",
    "- Brandon Born"
   ]
  },
  {
   "cell_type": "markdown",
   "metadata": {},
   "source": [
    "<a id='research_question'></a>\n",
    "# Research Question"
   ]
  },
  {
   "cell_type": "markdown",
   "metadata": {},
   "source": [
    "Is there a relationship between government policies and agreements and reduced global carbon emissions of countries from 1970 to 2018?"
   ]
  },
  {
   "cell_type": "markdown",
   "metadata": {},
   "source": [
    "# Dataset(s)"
   ]
  },
  {
   "cell_type": "markdown",
   "metadata": {},
   "source": [
    "- Dataset Name: EDGAR CO2 Emissions 1970-2018 Data\n",
    "- Link to the dataset: https://github.com/openclimatedata/edgar-co2-emissions\n",
    "- Number of observations: 50764\n",
    "This datasets includes observations from 1970 to 2018 of CO2 emissions by country and sector including building, power industry, transport, and other industrial combustion. \n",
    "\n",
    "\n",
    "- Dataset Name: Climate Policy Dataset \n",
    "- Link to the dataset: https://climatepolicydatabase.org/policies\n",
    "- Number of observations: 5120\n",
    "This dataset contains observations of all climate policies by country, sector, its current status, decision year from as early as 1927, and policy type (e.g. Agricultural, energy service demand, energy efficiency). \n",
    "\n",
    "\n",
    "\n",
    "We are interested in looking at carbon emissions over time and seeing if there is a substantial change once a climate policy is implemented. Therefore, the EDGAR CO2 emissions data set offers us a continual set of data to see trends of emissions, and the Climate Policy Dataset can be combined to denote when policies were implemented and if carbon emissions decreased as a result. We can join the policy dataset with the carbon emissions data by year, and then analyze the change in carbon emissions over time using these datasets. "
   ]
  },
  {
   "cell_type": "markdown",
   "metadata": {},
   "source": [
    "# Setup"
   ]
  },
  {
   "cell_type": "code",
   "execution_count": 1,
   "metadata": {},
   "outputs": [],
   "source": [
    "# import packages\n",
    "import numpy as np\n",
    "import pandas as pd\n",
    "import matplotlib.pyplot as plt\n",
    "import seaborn as sns"
   ]
  },
  {
   "cell_type": "markdown",
   "metadata": {},
   "source": [
    "# Data Cleaning"
   ]
  },
  {
   "cell_type": "markdown",
   "metadata": {},
   "source": [
    "Both the Edgar CO2 Emissions Dataset and Climate Policy Dataset are contained in a CSV file which means the data for both is in a semi-structured format. The data itself is already tidy. Each variable we are measuring is in a single column while every observation of a variable is in a different row resulting in rectangular data. All that is left is to clean the data. \n",
    "\n",
    "Our data cleaning steps include: \n",
    "- identifying any null values and dropping (if applicable) \n",
    "- checking the data for duplicate entries\n",
    "- changing column names (if applicable)\n",
    "- standardizing the responses (if applicable). "
   ]
  },
  {
   "cell_type": "code",
   "execution_count": 42,
   "metadata": {},
   "outputs": [
    {
     "data": {
      "text/html": [
       "<div>\n",
       "<style scoped>\n",
       "    .dataframe tbody tr th:only-of-type {\n",
       "        vertical-align: middle;\n",
       "    }\n",
       "\n",
       "    .dataframe tbody tr th {\n",
       "        vertical-align: top;\n",
       "    }\n",
       "\n",
       "    .dataframe thead th {\n",
       "        text-align: right;\n",
       "    }\n",
       "</style>\n",
       "<table border=\"1\" class=\"dataframe\">\n",
       "  <thead>\n",
       "    <tr style=\"text-align: right;\">\n",
       "      <th></th>\n",
       "      <th>Policy ID</th>\n",
       "      <th>Country ISO</th>\n",
       "      <th>Policy name</th>\n",
       "      <th>Policy Title</th>\n",
       "      <th>Jurisdiction</th>\n",
       "      <th>Supranational region</th>\n",
       "      <th>Country</th>\n",
       "      <th>Subnational region or state</th>\n",
       "      <th>City or local</th>\n",
       "      <th>Type of policy instrument</th>\n",
       "      <th>...</th>\n",
       "      <th>Start date of implementation</th>\n",
       "      <th>End date of implementation</th>\n",
       "      <th>High impact</th>\n",
       "      <th>Policy objective</th>\n",
       "      <th>Source or references</th>\n",
       "      <th>Impact indicators: comments</th>\n",
       "      <th>Impact indicators: name</th>\n",
       "      <th>Impact indicators: value</th>\n",
       "      <th>Impact indicators: base year</th>\n",
       "      <th>Impact indicators: target year</th>\n",
       "    </tr>\n",
       "  </thead>\n",
       "  <tbody>\n",
       "    <tr>\n",
       "      <th>0</th>\n",
       "      <td>5244.0</td>\n",
       "      <td>USA</td>\n",
       "      <td>Nationally Determined Contribution – NDC Unite...</td>\n",
       "      <td>Nationally Determined Contribution - NDC</td>\n",
       "      <td>Country</td>\n",
       "      <td>NaN</td>\n",
       "      <td>United States of America</td>\n",
       "      <td>NaN</td>\n",
       "      <td>NaN</td>\n",
       "      <td>Climate strategy, Political &amp; non-binding clim...</td>\n",
       "      <td>...</td>\n",
       "      <td>2021.0</td>\n",
       "      <td>2030.0</td>\n",
       "      <td>Unknown</td>\n",
       "      <td>Mitigation</td>\n",
       "      <td>https://www4.unfccc.int/sites/ndcstaging/Publi...</td>\n",
       "      <td>NaN</td>\n",
       "      <td>NaN</td>\n",
       "      <td>NaN</td>\n",
       "      <td>NaN</td>\n",
       "      <td>NaN</td>\n",
       "    </tr>\n",
       "    <tr>\n",
       "      <th>1</th>\n",
       "      <td>5243.0</td>\n",
       "      <td>BIH</td>\n",
       "      <td>Nationally Determined Contribution – NDC Bosni...</td>\n",
       "      <td>Nationally Determined Contribution - NDC</td>\n",
       "      <td>Country</td>\n",
       "      <td>NaN</td>\n",
       "      <td>Bosnia and Herzegovina</td>\n",
       "      <td>NaN</td>\n",
       "      <td>NaN</td>\n",
       "      <td>Climate strategy, Political &amp; non-binding clim...</td>\n",
       "      <td>...</td>\n",
       "      <td>2020.0</td>\n",
       "      <td>2030.0</td>\n",
       "      <td>Unknown</td>\n",
       "      <td>Adaptation, Mitigation</td>\n",
       "      <td>https://www4.unfccc.int/sites/ndcstaging/Publi...</td>\n",
       "      <td>NaN</td>\n",
       "      <td>NaN</td>\n",
       "      <td>NaN</td>\n",
       "      <td>NaN</td>\n",
       "      <td>NaN</td>\n",
       "    </tr>\n",
       "    <tr>\n",
       "      <th>2</th>\n",
       "      <td>5242.0</td>\n",
       "      <td>MKD</td>\n",
       "      <td>Nationally Determined Contribution – NDC Maced...</td>\n",
       "      <td>Nationally Determined Contribution - NDC</td>\n",
       "      <td>Country</td>\n",
       "      <td>NaN</td>\n",
       "      <td>Macedonia, the former Yugoslav Republic of</td>\n",
       "      <td>NaN</td>\n",
       "      <td>NaN</td>\n",
       "      <td>Climate strategy, Political &amp; non-binding clim...</td>\n",
       "      <td>...</td>\n",
       "      <td>2021.0</td>\n",
       "      <td>2030.0</td>\n",
       "      <td>Unknown</td>\n",
       "      <td>Adaptation, Mitigation</td>\n",
       "      <td>https://www4.unfccc.int/sites/ndcstaging/Publi...</td>\n",
       "      <td>NaN</td>\n",
       "      <td>NaN</td>\n",
       "      <td>NaN</td>\n",
       "      <td>NaN</td>\n",
       "      <td>NaN</td>\n",
       "    </tr>\n",
       "    <tr>\n",
       "      <th>3</th>\n",
       "      <td>5241.0</td>\n",
       "      <td>PHL</td>\n",
       "      <td>Nationally Determined Contribution – NDC Phili...</td>\n",
       "      <td>Nationally Determined Contribution - NDC</td>\n",
       "      <td>Country</td>\n",
       "      <td>NaN</td>\n",
       "      <td>Philippines</td>\n",
       "      <td>NaN</td>\n",
       "      <td>NaN</td>\n",
       "      <td>Climate strategy, Political &amp; non-binding clim...</td>\n",
       "      <td>...</td>\n",
       "      <td>2021.0</td>\n",
       "      <td>2030.0</td>\n",
       "      <td>Unknown</td>\n",
       "      <td>Adaptation, Mitigation</td>\n",
       "      <td>https://www4.unfccc.int/sites/ndcstaging/Publi...</td>\n",
       "      <td>NaN</td>\n",
       "      <td>NaN</td>\n",
       "      <td>NaN</td>\n",
       "      <td>NaN</td>\n",
       "      <td>NaN</td>\n",
       "    </tr>\n",
       "    <tr>\n",
       "      <th>4</th>\n",
       "      <td>5240.0</td>\n",
       "      <td>CPV</td>\n",
       "      <td>Nationally Determined Contribution – NDC Cape ...</td>\n",
       "      <td>Nationally Determined Contribution - NDC</td>\n",
       "      <td>Country</td>\n",
       "      <td>NaN</td>\n",
       "      <td>Cape Verde</td>\n",
       "      <td>NaN</td>\n",
       "      <td>NaN</td>\n",
       "      <td>Climate strategy, Political &amp; non-binding clim...</td>\n",
       "      <td>...</td>\n",
       "      <td>2021.0</td>\n",
       "      <td>2030.0</td>\n",
       "      <td>Unknown</td>\n",
       "      <td>Adaptation, Mitigation</td>\n",
       "      <td>https://www4.unfccc.int/sites/ndcstaging/Publi...</td>\n",
       "      <td>NaN</td>\n",
       "      <td>NaN</td>\n",
       "      <td>NaN</td>\n",
       "      <td>NaN</td>\n",
       "      <td>NaN</td>\n",
       "    </tr>\n",
       "  </tbody>\n",
       "</table>\n",
       "<p>5 rows × 26 columns</p>\n",
       "</div>"
      ],
      "text/plain": [
       "   Policy ID Country ISO                                        Policy name  \\\n",
       "0     5244.0         USA  Nationally Determined Contribution – NDC Unite...   \n",
       "1     5243.0         BIH  Nationally Determined Contribution – NDC Bosni...   \n",
       "2     5242.0         MKD  Nationally Determined Contribution – NDC Maced...   \n",
       "3     5241.0         PHL  Nationally Determined Contribution – NDC Phili...   \n",
       "4     5240.0         CPV  Nationally Determined Contribution – NDC Cape ...   \n",
       "\n",
       "                               Policy Title Jurisdiction Supranational region  \\\n",
       "0  Nationally Determined Contribution - NDC      Country                  NaN   \n",
       "1  Nationally Determined Contribution - NDC      Country                  NaN   \n",
       "2  Nationally Determined Contribution - NDC      Country                  NaN   \n",
       "3  Nationally Determined Contribution - NDC      Country                  NaN   \n",
       "4  Nationally Determined Contribution - NDC      Country                  NaN   \n",
       "\n",
       "                                      Country Subnational region or state  \\\n",
       "0                    United States of America                         NaN   \n",
       "1                      Bosnia and Herzegovina                         NaN   \n",
       "2  Macedonia, the former Yugoslav Republic of                         NaN   \n",
       "3                                 Philippines                         NaN   \n",
       "4                                  Cape Verde                         NaN   \n",
       "\n",
       "  City or local                          Type of policy instrument  ...  \\\n",
       "0           NaN  Climate strategy, Political & non-binding clim...  ...   \n",
       "1           NaN  Climate strategy, Political & non-binding clim...  ...   \n",
       "2           NaN  Climate strategy, Political & non-binding clim...  ...   \n",
       "3           NaN  Climate strategy, Political & non-binding clim...  ...   \n",
       "4           NaN  Climate strategy, Political & non-binding clim...  ...   \n",
       "\n",
       "  Start date of implementation End date of implementation High impact  \\\n",
       "0                       2021.0                     2030.0     Unknown   \n",
       "1                       2020.0                     2030.0     Unknown   \n",
       "2                       2021.0                     2030.0     Unknown   \n",
       "3                       2021.0                     2030.0     Unknown   \n",
       "4                       2021.0                     2030.0     Unknown   \n",
       "\n",
       "         Policy objective                               Source or references  \\\n",
       "0              Mitigation  https://www4.unfccc.int/sites/ndcstaging/Publi...   \n",
       "1  Adaptation, Mitigation  https://www4.unfccc.int/sites/ndcstaging/Publi...   \n",
       "2  Adaptation, Mitigation  https://www4.unfccc.int/sites/ndcstaging/Publi...   \n",
       "3  Adaptation, Mitigation  https://www4.unfccc.int/sites/ndcstaging/Publi...   \n",
       "4  Adaptation, Mitigation  https://www4.unfccc.int/sites/ndcstaging/Publi...   \n",
       "\n",
       "   Impact indicators: comments  Impact indicators: name  \\\n",
       "0                          NaN                      NaN   \n",
       "1                          NaN                      NaN   \n",
       "2                          NaN                      NaN   \n",
       "3                          NaN                      NaN   \n",
       "4                          NaN                      NaN   \n",
       "\n",
       "   Impact indicators: value Impact indicators: base year  \\\n",
       "0                       NaN                          NaN   \n",
       "1                       NaN                          NaN   \n",
       "2                       NaN                          NaN   \n",
       "3                       NaN                          NaN   \n",
       "4                       NaN                          NaN   \n",
       "\n",
       "  Impact indicators: target year  \n",
       "0                            NaN  \n",
       "1                            NaN  \n",
       "2                            NaN  \n",
       "3                            NaN  \n",
       "4                            NaN  \n",
       "\n",
       "[5 rows x 26 columns]"
      ]
     },
     "execution_count": 42,
     "metadata": {},
     "output_type": "execute_result"
    }
   ],
   "source": [
    "# read in Climate Policy Dataset\n",
    "climate_policy_data = pd.read_csv('./data/climate_policy_database_policies_export.csv')\n",
    "climate_policy_data.head()"
   ]
  },
  {
   "cell_type": "code",
   "execution_count": 43,
   "metadata": {},
   "outputs": [
    {
     "data": {
      "text/plain": [
       "Index(['Policy ID', 'Country ISO', 'Policy name', 'Policy Title',\n",
       "       'Jurisdiction', 'Supranational region', 'Country',\n",
       "       'Subnational region or state', 'City or local',\n",
       "       'Type of policy instrument', 'Sector name', 'Policy description',\n",
       "       'Policy type', 'Policy stringency', 'Implementation state',\n",
       "       'Date of decision', 'Start date of implementation',\n",
       "       'End date of implementation', 'High impact', 'Policy objective',\n",
       "       'Source or references', 'Impact indicators: comments',\n",
       "       'Impact indicators: name', 'Impact indicators: value',\n",
       "       'Impact indicators: base year', 'Impact indicators: target year'],\n",
       "      dtype='object')"
      ]
     },
     "execution_count": 43,
     "metadata": {},
     "output_type": "execute_result"
    }
   ],
   "source": [
    "# list columns from dataset\n",
    "climate_policy_data.columns"
   ]
  },
  {
   "cell_type": "code",
   "execution_count": 44,
   "metadata": {},
   "outputs": [],
   "source": [
    "# select necessary columns from the dataset\n",
    "climate_policy_data = climate_policy_data[['Country ISO', 'Policy name', 'Policy Title', 'Country', \n",
    "                                           'Sector name', 'Policy type', 'Date of decision', \n",
    "                                           'Policy objective']]"
   ]
  },
  {
   "cell_type": "code",
   "execution_count": 45,
   "metadata": {},
   "outputs": [
    {
     "data": {
      "text/plain": [
       "Country ISO           0\n",
       "Policy name           0\n",
       "Policy Title          0\n",
       "Country               0\n",
       "Sector name         421\n",
       "Policy type         496\n",
       "Date of decision    132\n",
       "Policy objective     60\n",
       "dtype: int64"
      ]
     },
     "execution_count": 45,
     "metadata": {},
     "output_type": "execute_result"
    }
   ],
   "source": [
    "# analyze nans from dataset\n",
    "climate_policy_data.isna().sum()"
   ]
  },
  {
   "cell_type": "code",
   "execution_count": 46,
   "metadata": {},
   "outputs": [
    {
     "data": {
      "text/plain": [
       "132"
      ]
     },
     "execution_count": 46,
     "metadata": {},
     "output_type": "execute_result"
    }
   ],
   "source": [
    "# drop nan values for necesary columns for analysis\n",
    "(climate_policy_data['Date of decision'].isna()).sum()"
   ]
  },
  {
   "cell_type": "code",
   "execution_count": 55,
   "metadata": {},
   "outputs": [
    {
     "data": {
      "text/html": [
       "<div>\n",
       "<style scoped>\n",
       "    .dataframe tbody tr th:only-of-type {\n",
       "        vertical-align: middle;\n",
       "    }\n",
       "\n",
       "    .dataframe tbody tr th {\n",
       "        vertical-align: top;\n",
       "    }\n",
       "\n",
       "    .dataframe thead th {\n",
       "        text-align: right;\n",
       "    }\n",
       "</style>\n",
       "<table border=\"1\" class=\"dataframe\">\n",
       "  <thead>\n",
       "    <tr style=\"text-align: right;\">\n",
       "      <th></th>\n",
       "      <th>Country ISO</th>\n",
       "      <th>Policy name</th>\n",
       "      <th>Policy Title</th>\n",
       "      <th>Country</th>\n",
       "      <th>Sector name</th>\n",
       "      <th>Policy type</th>\n",
       "      <th>Date of decision</th>\n",
       "      <th>Policy objective</th>\n",
       "    </tr>\n",
       "  </thead>\n",
       "  <tbody>\n",
       "    <tr>\n",
       "      <th>0</th>\n",
       "      <td>USA</td>\n",
       "      <td>Nationally Determined Contribution – NDC Unite...</td>\n",
       "      <td>Nationally Determined Contribution - NDC</td>\n",
       "      <td>United States of America</td>\n",
       "      <td>General</td>\n",
       "      <td>Energy efficiency, Energy service demand reduc...</td>\n",
       "      <td>2021.0</td>\n",
       "      <td>Mitigation</td>\n",
       "    </tr>\n",
       "    <tr>\n",
       "      <th>1</th>\n",
       "      <td>BIH</td>\n",
       "      <td>Nationally Determined Contribution – NDC Bosni...</td>\n",
       "      <td>Nationally Determined Contribution - NDC</td>\n",
       "      <td>Bosnia and Herzegovina</td>\n",
       "      <td>General</td>\n",
       "      <td>Energy efficiency, Energy service demand reduc...</td>\n",
       "      <td>2021.0</td>\n",
       "      <td>Adaptation, Mitigation</td>\n",
       "    </tr>\n",
       "    <tr>\n",
       "      <th>2</th>\n",
       "      <td>MKD</td>\n",
       "      <td>Nationally Determined Contribution – NDC Maced...</td>\n",
       "      <td>Nationally Determined Contribution - NDC</td>\n",
       "      <td>Macedonia, the former Yugoslav Republic of</td>\n",
       "      <td>General</td>\n",
       "      <td>Energy efficiency, Energy service demand reduc...</td>\n",
       "      <td>2021.0</td>\n",
       "      <td>Adaptation, Mitigation</td>\n",
       "    </tr>\n",
       "    <tr>\n",
       "      <th>3</th>\n",
       "      <td>PHL</td>\n",
       "      <td>Nationally Determined Contribution – NDC Phili...</td>\n",
       "      <td>Nationally Determined Contribution - NDC</td>\n",
       "      <td>Philippines</td>\n",
       "      <td>General</td>\n",
       "      <td>Energy efficiency, Energy service demand reduc...</td>\n",
       "      <td>2021.0</td>\n",
       "      <td>Adaptation, Mitigation</td>\n",
       "    </tr>\n",
       "    <tr>\n",
       "      <th>4</th>\n",
       "      <td>CPV</td>\n",
       "      <td>Nationally Determined Contribution – NDC Cape ...</td>\n",
       "      <td>Nationally Determined Contribution - NDC</td>\n",
       "      <td>Cape Verde</td>\n",
       "      <td>General</td>\n",
       "      <td>Energy efficiency, Energy service demand reduc...</td>\n",
       "      <td>2021.0</td>\n",
       "      <td>Adaptation, Mitigation</td>\n",
       "    </tr>\n",
       "  </tbody>\n",
       "</table>\n",
       "</div>"
      ],
      "text/plain": [
       "  Country ISO                                        Policy name  \\\n",
       "0         USA  Nationally Determined Contribution – NDC Unite...   \n",
       "1         BIH  Nationally Determined Contribution – NDC Bosni...   \n",
       "2         MKD  Nationally Determined Contribution – NDC Maced...   \n",
       "3         PHL  Nationally Determined Contribution – NDC Phili...   \n",
       "4         CPV  Nationally Determined Contribution – NDC Cape ...   \n",
       "\n",
       "                               Policy Title  \\\n",
       "0  Nationally Determined Contribution - NDC   \n",
       "1  Nationally Determined Contribution - NDC   \n",
       "2  Nationally Determined Contribution - NDC   \n",
       "3  Nationally Determined Contribution - NDC   \n",
       "4  Nationally Determined Contribution - NDC   \n",
       "\n",
       "                                      Country Sector name  \\\n",
       "0                    United States of America     General   \n",
       "1                      Bosnia and Herzegovina     General   \n",
       "2  Macedonia, the former Yugoslav Republic of     General   \n",
       "3                                 Philippines     General   \n",
       "4                                  Cape Verde     General   \n",
       "\n",
       "                                         Policy type  Date of decision  \\\n",
       "0  Energy efficiency, Energy service demand reduc...            2021.0   \n",
       "1  Energy efficiency, Energy service demand reduc...            2021.0   \n",
       "2  Energy efficiency, Energy service demand reduc...            2021.0   \n",
       "3  Energy efficiency, Energy service demand reduc...            2021.0   \n",
       "4  Energy efficiency, Energy service demand reduc...            2021.0   \n",
       "\n",
       "         Policy objective  \n",
       "0              Mitigation  \n",
       "1  Adaptation, Mitigation  \n",
       "2  Adaptation, Mitigation  \n",
       "3  Adaptation, Mitigation  \n",
       "4  Adaptation, Mitigation  "
      ]
     },
     "execution_count": 55,
     "metadata": {},
     "output_type": "execute_result"
    }
   ],
   "source": [
    "climate_policy_data = climate_policy_data.dropna(axis=0, subset=['Date of decision'])\n",
    "climate_policy_data.head()"
   ]
  },
  {
   "cell_type": "code",
   "execution_count": 57,
   "metadata": {},
   "outputs": [
    {
     "data": {
      "text/plain": [
       "<matplotlib.axes._subplots.AxesSubplot at 0x7fdd228d1fd0>"
      ]
     },
     "execution_count": 57,
     "metadata": {},
     "output_type": "execute_result"
    },
    {
     "data": {
      "image/png": "[encoded data removed]",
      "text/plain": [
       "<Figure size 432x288 with 1 Axes>"
      ]
     },
     "metadata": {
      "needs_background": "light"
     },
     "output_type": "display_data"
    }
   ],
   "source": [
    "# generate plot of years to analyze values\n",
    "climate_policy_data['Date of decision'].plot(kind='hist')"
   ]
  },
  {
   "cell_type": "code",
   "execution_count": 61,
   "metadata": {},
   "outputs": [
    {
     "data": {
      "text/plain": [
       "<matplotlib.axes._subplots.AxesSubplot at 0x7fdd22eb9610>"
      ]
     },
     "execution_count": 61,
     "metadata": {},
     "output_type": "execute_result"
    },
    {
     "data": {
      "image/png": "[encoded data removed]",
      "text/plain": [
       "<Figure size 432x288 with 1 Axes>"
      ]
     },
     "metadata": {
      "needs_background": "light"
     },
     "output_type": "display_data"
    }
   ],
   "source": [
    "# generate plot of top countries to analyze values\n",
    "climate_policy_data['Country ISO'].value_counts().nlargest(20).plot(kind='bar')"
   ]
  },
  {
   "cell_type": "code",
   "execution_count": 67,
   "metadata": {},
   "outputs": [
    {
     "data": {
      "text/plain": [
       "<matplotlib.axes._subplots.AxesSubplot at 0x7fdd23022c90>"
      ]
     },
     "execution_count": 67,
     "metadata": {},
     "output_type": "execute_result"
    },
    {
     "data": {
      "image/png": "[encoded data removed]",
      "text/plain": [
       "<Figure size 432x288 with 1 Axes>"
      ]
     },
     "metadata": {
      "needs_background": "light"
     },
     "output_type": "display_data"
    }
   ],
   "source": [
    "# generate same plot using other country label\n",
    "climate_policy_data['Country'].value_counts().nlargest(20).plot(kind='bar')"
   ]
  },
  {
   "cell_type": "code",
   "execution_count": 62,
   "metadata": {},
   "outputs": [
    {
     "data": {
      "text/plain": [
       "array(['USA', 'BIH', 'MKD', 'PHL', 'CPV', 'VUT', 'BRA', 'VNM', 'UKR',\n",
       "       'THA', 'ZAF', 'RUS', 'MAR', 'MEX', 'JPN', 'IDN', 'EUE', 'ETH',\n",
       "       'COL', 'CHN', 'CAN', 'AUS', 'ARG', 'PYF', 'AND', 'MCO', 'GBR',\n",
       "       'NOR', 'CHE', 'MDA', 'NZL', 'FJI', 'MHL', 'TON', 'PNG', 'BRN',\n",
       "       'KOR', 'KHM', 'SGP', 'MNG', 'KGZ', 'PRK', 'ECU', 'SYR', 'BGD',\n",
       "       'NPL', 'MDV', 'AGO', 'LBN', 'ARE', 'SSD', 'KEN', 'RWA', 'ZMB',\n",
       "       'GRD', 'ISL', 'CHL', 'PER', 'SEN', 'SUR', 'CRI', 'PAN', 'NIC',\n",
       "       'JAM', 'DOM', 'CMR', 'GRC', 'SWE', 'IND', 'FRA', 'ESP', 'ITA',\n",
       "       'SAU', 'SDN', 'DNK', 'BEL', 'DEU', 'LKA', 'BGR', 'TUR', 'UZB',\n",
       "       'SLB', 'NLD', 'TGO', 'LUX', 'COD', 'FIN', 'TUN', 'SVK', 'GMB',\n",
       "       'MNE', 'URY', 'TLS', 'TZA', 'IRQ', 'ISR', 'PRY', 'NGA', 'BEN',\n",
       "       'AFG', 'ERI', 'NRU', 'NAM', 'MOZ', 'FSM', 'ZWE', 'STP', 'GAB',\n",
       "       'GHA', 'GEO', 'GUY', 'GTM', 'GNB', 'GNQ', 'GIN', 'HTI', 'COK',\n",
       "       'CIV', 'NER', 'MUS', 'MRT', 'NIU', 'MLI', 'MYS', 'MWI', 'MDG',\n",
       "       'LIE', 'LBR', 'LSO', 'LAO', 'KWT', 'VEN', 'IRL', 'SOM', 'JOR',\n",
       "       'YEM', 'SLE', 'SYC', 'SRB', 'SMR', 'WSM', 'VCT', 'LCA', 'SWZ',\n",
       "       'KNA', 'CAF', 'QAT', 'KAZ', 'PAK', 'UGA', 'TUV', 'TKM', 'OMN',\n",
       "       'ALB', 'DZA', 'TCD', 'BLZ', 'BRB', 'BHR', 'ATG', 'BHS', 'BTN',\n",
       "       'EGY', 'AZE', 'BLR', 'BOL', 'DJI', 'BWA', 'ARM', 'DMA', 'BDI',\n",
       "       'BFA', 'TJK', 'CZE', 'POL', 'AUT', 'ROU', 'LVA', 'IRN', 'KIR',\n",
       "       'HND', 'MMR', 'HRV', 'SVN', 'SLV', 'PRT', 'LTU', 'TTO', 'HUN',\n",
       "       'CUB', 'MLT', 'EST', 'CYP', 'LBY'], dtype=object)"
      ]
     },
     "execution_count": 62,
     "metadata": {},
     "output_type": "execute_result"
    }
   ],
   "source": [
    "# get unique countries\n",
    "climate_policy_data['Country ISO'].unique()"
   ]
  },
  {
   "cell_type": "code",
   "execution_count": 66,
   "metadata": {},
   "outputs": [
    {
     "name": "stdout",
     "output_type": "stream",
     "text": [
      "194\n",
      "194\n"
     ]
    }
   ],
   "source": [
    "# ensure there is a one to one mapping between Country ISO and Country\n",
    "print(climate_policy_data['Country ISO'].nunique())\n",
    "print(climate_policy_data['Country'].nunique())"
   ]
  },
  {
   "cell_type": "code",
   "execution_count": 70,
   "metadata": {},
   "outputs": [
    {
     "data": {
      "text/plain": [
       "General                                                                                                                                                   979\n",
       "Electricity and heat, Renewables                                                                                                                          693\n",
       "Electricity and heat                                                                                                                                      288\n",
       "Transport                                                                                                                                                 243\n",
       "Buildings                                                                                                                                                 206\n",
       "                                                                                                                                                         ... \n",
       "Electricity and heat, Buildings, Renewables                                                                                                                 1\n",
       "Electricity and heat, CCS, Gas, Coal                                                                                                                        1\n",
       "Industry, Industrial N2O, Industrial process CO2                                                                                                            1\n",
       "Buildings, Industry, Electricity and heat, Heating and cooling, Hot water and cooking, Appliances, Transport, Heavy-duty vehicles, Light-duty vehicles      1\n",
       "Electricity and heat, Industry, Transport, Gas, Renewables                                                                                                  1\n",
       "Name: Sector name, Length: 417, dtype: int64"
      ]
     },
     "execution_count": 70,
     "metadata": {},
     "output_type": "execute_result"
    }
   ],
   "source": [
    "# analyze sector name data\n",
    "climate_policy_data['Sector name'].value_counts()"
   ]
  },
  {
   "cell_type": "code",
   "execution_count": 72,
   "metadata": {},
   "outputs": [
    {
     "data": {
      "text/plain": [
       "Country ISO          object\n",
       "Policy name          object\n",
       "Policy Title         object\n",
       "Country              object\n",
       "Sector name          object\n",
       "Policy type          object\n",
       "Date of decision    float64\n",
       "Policy objective     object\n",
       "dtype: object"
      ]
     },
     "execution_count": 72,
     "metadata": {},
     "output_type": "execute_result"
    }
   ],
   "source": [
    "# check data types\n",
    "climate_policy_data.dtypes"
   ]
  },
  {
   "cell_type": "code",
   "execution_count": 73,
   "metadata": {},
   "outputs": [
    {
     "data": {
      "text/plain": [
       "(4988, 8)"
      ]
     },
     "execution_count": 73,
     "metadata": {},
     "output_type": "execute_result"
    }
   ],
   "source": [
    "# check data shape\n",
    "climate_policy_data.shape"
   ]
  },
  {
   "cell_type": "code",
   "execution_count": 75,
   "metadata": {},
   "outputs": [],
   "source": [
    "# drop duplicates\n",
    "climate_policy_data = climate_policy_data.drop_duplicates()"
   ]
  },
  {
   "cell_type": "code",
   "execution_count": 76,
   "metadata": {},
   "outputs": [
    {
     "data": {
      "text/plain": [
       "(4754, 8)"
      ]
     },
     "execution_count": 76,
     "metadata": {},
     "output_type": "execute_result"
    }
   ],
   "source": [
    "# check data shape\n",
    "climate_policy_data.shape"
   ]
  },
  {
   "cell_type": "code",
   "execution_count": 78,
   "metadata": {},
   "outputs": [
    {
     "data": {
      "text/html": [
       "<div>\n",
       "<style scoped>\n",
       "    .dataframe tbody tr th:only-of-type {\n",
       "        vertical-align: middle;\n",
       "    }\n",
       "\n",
       "    .dataframe tbody tr th {\n",
       "        vertical-align: top;\n",
       "    }\n",
       "\n",
       "    .dataframe thead th {\n",
       "        text-align: right;\n",
       "    }\n",
       "</style>\n",
       "<table border=\"1\" class=\"dataframe\">\n",
       "  <thead>\n",
       "    <tr style=\"text-align: right;\">\n",
       "      <th></th>\n",
       "      <th>Code</th>\n",
       "      <th>Name</th>\n",
       "      <th>Sector</th>\n",
       "      <th>Year</th>\n",
       "      <th>Emissions</th>\n",
       "    </tr>\n",
       "  </thead>\n",
       "  <tbody>\n",
       "    <tr>\n",
       "      <th>0</th>\n",
       "      <td>AFG</td>\n",
       "      <td>Afghanistan</td>\n",
       "      <td>Power Industry</td>\n",
       "      <td>1970</td>\n",
       "      <td>0.056962</td>\n",
       "    </tr>\n",
       "    <tr>\n",
       "      <th>1</th>\n",
       "      <td>ALB</td>\n",
       "      <td>Albania</td>\n",
       "      <td>Power Industry</td>\n",
       "      <td>1970</td>\n",
       "      <td>0.600624</td>\n",
       "    </tr>\n",
       "    <tr>\n",
       "      <th>2</th>\n",
       "      <td>DZA</td>\n",
       "      <td>Algeria</td>\n",
       "      <td>Power Industry</td>\n",
       "      <td>1970</td>\n",
       "      <td>1.645869</td>\n",
       "    </tr>\n",
       "    <tr>\n",
       "      <th>3</th>\n",
       "      <td>AGO</td>\n",
       "      <td>Angola</td>\n",
       "      <td>Power Industry</td>\n",
       "      <td>1970</td>\n",
       "      <td>0.137546</td>\n",
       "    </tr>\n",
       "    <tr>\n",
       "      <th>4</th>\n",
       "      <td>AIA</td>\n",
       "      <td>Anguilla</td>\n",
       "      <td>Power Industry</td>\n",
       "      <td>1970</td>\n",
       "      <td>0.000430</td>\n",
       "    </tr>\n",
       "  </tbody>\n",
       "</table>\n",
       "</div>"
      ],
      "text/plain": [
       "  Code         Name          Sector  Year  Emissions\n",
       "0  AFG  Afghanistan  Power Industry  1970   0.056962\n",
       "1  ALB      Albania  Power Industry  1970   0.600624\n",
       "2  DZA      Algeria  Power Industry  1970   1.645869\n",
       "3  AGO       Angola  Power Industry  1970   0.137546\n",
       "4  AIA     Anguilla  Power Industry  1970   0.000430"
      ]
     },
     "execution_count": 78,
     "metadata": {},
     "output_type": "execute_result"
    }
   ],
   "source": [
    "# Reads in dataset from where it was saved in datahub\n",
    "df = pd.read_csv('https://raw.githubusercontent.com/openclimatedata/edgar-co2-emissions/master/data/edgar-co2-emissions.csv')\n",
    "df.head()"
   ]
  },
  {
   "cell_type": "code",
   "execution_count": 79,
   "metadata": {},
   "outputs": [
    {
     "data": {
      "text/plain": [
       "Code         False\n",
       "Name         False\n",
       "Sector       False\n",
       "Year         False\n",
       "Emissions     True\n",
       "dtype: bool"
      ]
     },
     "execution_count": 79,
     "metadata": {},
     "output_type": "execute_result"
    }
   ],
   "source": [
    "# Check for null values, only null values appear in emissions column\n",
    "df.isna().any()"
   ]
  },
  {
   "cell_type": "code",
   "execution_count": 80,
   "metadata": {},
   "outputs": [
    {
     "data": {
      "text/plain": [
       "387"
      ]
     },
     "execution_count": 80,
     "metadata": {},
     "output_type": "execute_result"
    }
   ],
   "source": [
    "# number of null/missing values in Emissions column\n",
    "df['Emissions'].isnull().sum()"
   ]
  },
  {
   "cell_type": "code",
   "execution_count": 82,
   "metadata": {},
   "outputs": [
    {
     "data": {
      "text/plain": [
       "Name\n",
       "United States                                   256355.650474\n",
       "China                                           215491.859571\n",
       "Russia                                           85982.870481\n",
       "Japan                                            55297.538635\n",
       "Germany                                          46955.011838\n",
       "                                                    ...      \n",
       "Kiribati                                             1.309827\n",
       "Falkland Islands                                     0.743025\n",
       "Anguilla                                             0.583611\n",
       "Saint Helena, Ascension and Tristan da Cunha         0.336218\n",
       "Faroes                                               0.074013\n",
       "Name: Emissions, Length: 210, dtype: float64"
      ]
     },
     "execution_count": 82,
     "metadata": {},
     "output_type": "execute_result"
    }
   ],
   "source": [
    "#Seeing the total emissions by country in order to see if the null values affect calculations, #which they don’t so we will keep the null values in the dataset\n",
    "df.groupby('Name').agg('sum').sort_values(by='Emissions', ascending=False)['Emissions']"
   ]
  },
  {
   "cell_type": "code",
   "execution_count": 84,
   "metadata": {},
   "outputs": [
    {
     "data": {
      "text/plain": [
       "False"
      ]
     },
     "execution_count": 84,
     "metadata": {},
     "output_type": "execute_result"
    }
   ],
   "source": [
    "# No duplicate rows\n",
    "df.duplicated().any()"
   ]
  },
  {
   "cell_type": "code",
   "execution_count": 85,
   "metadata": {},
   "outputs": [
    {
     "data": {
      "text/html": [
       "<div>\n",
       "<style scoped>\n",
       "    .dataframe tbody tr th:only-of-type {\n",
       "        vertical-align: middle;\n",
       "    }\n",
       "\n",
       "    .dataframe tbody tr th {\n",
       "        vertical-align: top;\n",
       "    }\n",
       "\n",
       "    .dataframe thead th {\n",
       "        text-align: right;\n",
       "    }\n",
       "</style>\n",
       "<table border=\"1\" class=\"dataframe\">\n",
       "  <thead>\n",
       "    <tr style=\"text-align: right;\">\n",
       "      <th></th>\n",
       "      <th>Code</th>\n",
       "      <th>Name</th>\n",
       "      <th>Sector</th>\n",
       "      <th>Year</th>\n",
       "      <th>Emissions</th>\n",
       "    </tr>\n",
       "  </thead>\n",
       "  <tbody>\n",
       "    <tr>\n",
       "      <th>0</th>\n",
       "      <td>AFG</td>\n",
       "      <td>Afghanistan</td>\n",
       "      <td>Power Industry</td>\n",
       "      <td>1970</td>\n",
       "      <td>0.056962</td>\n",
       "    </tr>\n",
       "    <tr>\n",
       "      <th>1</th>\n",
       "      <td>ALB</td>\n",
       "      <td>Albania</td>\n",
       "      <td>Power Industry</td>\n",
       "      <td>1970</td>\n",
       "      <td>0.600624</td>\n",
       "    </tr>\n",
       "    <tr>\n",
       "      <th>2</th>\n",
       "      <td>DZA</td>\n",
       "      <td>Algeria</td>\n",
       "      <td>Power Industry</td>\n",
       "      <td>1970</td>\n",
       "      <td>1.645869</td>\n",
       "    </tr>\n",
       "    <tr>\n",
       "      <th>3</th>\n",
       "      <td>AGO</td>\n",
       "      <td>Angola</td>\n",
       "      <td>Power Industry</td>\n",
       "      <td>1970</td>\n",
       "      <td>0.137546</td>\n",
       "    </tr>\n",
       "    <tr>\n",
       "      <th>4</th>\n",
       "      <td>AIA</td>\n",
       "      <td>Anguilla</td>\n",
       "      <td>Power Industry</td>\n",
       "      <td>1970</td>\n",
       "      <td>0.000430</td>\n",
       "    </tr>\n",
       "  </tbody>\n",
       "</table>\n",
       "</div>"
      ],
      "text/plain": [
       "  Code         Name          Sector  Year  Emissions\n",
       "0  AFG  Afghanistan  Power Industry  1970   0.056962\n",
       "1  ALB      Albania  Power Industry  1970   0.600624\n",
       "2  DZA      Algeria  Power Industry  1970   1.645869\n",
       "3  AGO       Angola  Power Industry  1970   0.137546\n",
       "4  AIA     Anguilla  Power Industry  1970   0.000430"
      ]
     },
     "execution_count": 85,
     "metadata": {},
     "output_type": "execute_result"
    }
   ],
   "source": [
    "df.head()"
   ]
  },
  {
   "cell_type": "code",
   "execution_count": 88,
   "metadata": {},
   "outputs": [
    {
     "data": {
      "text/plain": [
       "<matplotlib.axes._subplots.AxesSubplot at 0x7fdd276519d0>"
      ]
     },
     "execution_count": 88,
     "metadata": {},
     "output_type": "execute_result"
    },
    {
     "data": {
      "image/png": "[encoded data removed]",
      "text/plain": [
       "<Figure size 432x288 with 1 Axes>"
      ]
     },
     "metadata": {
      "needs_background": "light"
     },
     "output_type": "display_data"
    }
   ],
   "source": [
    "# check distribution of years\n",
    "df['Year'].plot(kind='hist')"
   ]
  },
  {
   "cell_type": "code",
   "execution_count": 89,
   "metadata": {},
   "outputs": [
    {
     "data": {
      "text/plain": [
       "array(['AFG', 'ALB', 'DZA', 'AGO', 'AIA', 'ATG', 'ARG', 'ARM', 'ABW',\n",
       "       'AUS', 'AUT', 'AZE', 'BHS', 'BHR', 'BGD', 'BRB', 'BLR', 'BEL',\n",
       "       'BLZ', 'BEN', 'BMU', 'BTN', 'BOL', 'BIH', 'BWA', 'BRA', 'VGB',\n",
       "       'BRN', 'BGR', 'BFA', 'BDI', 'KHM', 'CMR', 'CAN', 'CPV', 'CYM',\n",
       "       'CAF', 'TCD', 'CHL', 'CHN', 'COL', 'COM', 'COG', 'COK', 'CRI',\n",
       "       'CIV', 'HRV', 'CUB', 'CUW', 'CYP', 'CZE', 'COD', 'DNK', 'DJI',\n",
       "       'DMA', 'DOM', 'ECU', 'EGY', 'SLV', 'GNQ', 'ERI', 'EST', 'SWZ',\n",
       "       'ETH', 'FLK', 'FJI', 'FIN', 'FRA_MCO', 'GUF', 'PYF', 'GAB', 'GEO',\n",
       "       'DEU', 'GHA', 'GIB', 'GRC', 'GRL', 'GRD', 'GLP', 'GTM', 'GIN',\n",
       "       'GNB', 'GUY', 'HTI', 'HND', 'HKG', 'HUN', 'ISL', 'IND', 'IDN',\n",
       "       'IRN', 'IRQ', 'IRL', 'ISR_PSE', 'ITA_SMR_VAT', 'JAM', 'JPN', 'JOR',\n",
       "       'KAZ', 'KEN', 'KIR', 'KWT', 'KGZ', 'LAO', 'LVA', 'LBN', 'LSO',\n",
       "       'LBR', 'LBY', 'LTU', 'LUX', 'MAC', 'MDG', 'MWI', 'MYS', 'MDV',\n",
       "       'MLI', 'MLT', 'MTQ', 'MRT', 'MUS', 'MEX', 'MDA', 'MNG', 'MAR',\n",
       "       'MOZ', 'MMR', 'NAM', 'NPL', 'NLD', 'NCL', 'NZL', 'NIC', 'NER',\n",
       "       'NGA', 'PRK', 'MKD', 'NOR', 'OMN', 'PAK', 'PLW', 'PAN', 'PNG',\n",
       "       'PRY', 'PER', 'PHL', 'POL', 'PRT', 'PRI', 'QAT', 'REU', 'ROU',\n",
       "       'RUS', 'RWA', 'SHN', 'KNA', 'LCA', 'SPM', 'VCT', 'WSM', 'STP',\n",
       "       'SAU', 'SEN', 'CSXX', 'SYC', 'SLE', 'SGP', 'SVK', 'SVN', 'SLB',\n",
       "       'SOM', 'ZAF', 'KOR', 'ESP_AND', 'LKA', 'SDN_SSD', 'SUR', 'SWE',\n",
       "       'CHE_LIE', 'SYR', 'TWN', 'TJK', 'TZA', 'THA', 'GMB', 'TLS', 'TGO',\n",
       "       'TON', 'TTO', 'TUN', 'TUR', 'TKM', 'TCA', 'UGA', 'UKR', 'ARE',\n",
       "       'GBR', 'USA', 'URY', 'UZB', 'VUT', 'VEN', 'VNM', 'ESH', 'YEM',\n",
       "       'ZMB', 'ZWE', 'FRO', 'AIR', 'SEA'], dtype=object)"
      ]
     },
     "execution_count": 89,
     "metadata": {},
     "output_type": "execute_result"
    }
   ],
   "source": [
    "# check distribution of countries\n",
    "df['Code'].unique()"
   ]
  },
  {
   "cell_type": "code",
   "execution_count": 90,
   "metadata": {},
   "outputs": [
    {
     "data": {
      "text/plain": [
       "<matplotlib.axes._subplots.AxesSubplot at 0x7fdd253cc5d0>"
      ]
     },
     "execution_count": 90,
     "metadata": {},
     "output_type": "execute_result"
    },
    {
     "data": {
      "image/png": "[encoded data removed]",
      "text/plain": [
       "<Figure size 432x288 with 1 Axes>"
      ]
     },
     "metadata": {
      "needs_background": "light"
     },
     "output_type": "display_data"
    }
   ],
   "source": [
    "df['Code'].value_counts().nlargest(10).plot(kind='bar')"
   ]
  },
  {
   "cell_type": "code",
   "execution_count": 95,
   "metadata": {},
   "outputs": [
    {
     "name": "stdout",
     "output_type": "stream",
     "text": [
      "210\n",
      "210\n"
     ]
    }
   ],
   "source": [
    "# ensure one to one mapping between country names and codes\n",
    "print(df['Name'].nunique())\n",
    "print(df['Code'].nunique())"
   ]
  },
  {
   "cell_type": "code",
   "execution_count": 104,
   "metadata": {},
   "outputs": [
    {
     "data": {
      "text/plain": [
       "<matplotlib.axes._subplots.AxesSubplot at 0x7fdd24e85c10>"
      ]
     },
     "execution_count": 104,
     "metadata": {},
     "output_type": "execute_result"
    },
    {
     "data": {
      "image/png": "[encoded data removed]",
      "text/plain": [
       "<Figure size 432x288 with 1 Axes>"
      ]
     },
     "metadata": {
      "needs_background": "light"
     },
     "output_type": "display_data"
    }
   ],
   "source": [
    "# check sector distribution\n",
    "df['Sector'].value_counts().nlargest(5).plot(kind='bar')"
   ]
  },
  {
   "cell_type": "code",
   "execution_count": 105,
   "metadata": {},
   "outputs": [
    {
     "data": {
      "text/plain": [
       "Transport                      10241\n",
       "Other sectors                  10192\n",
       "Power Industry                 10143\n",
       "Buildings                      10094\n",
       "Other industrial combustion    10094\n",
       "Name: Sector, dtype: int64"
      ]
     },
     "execution_count": 105,
     "metadata": {},
     "output_type": "execute_result"
    }
   ],
   "source": [
    "# check sector value counts\n",
    "df['Sector'].value_counts()"
   ]
  },
  {
   "cell_type": "code",
   "execution_count": null,
   "metadata": {},
   "outputs": [],
   "source": []
  }
 ],
 "metadata": {
  "kernelspec": {
   "display_name": "Python 3",
   "language": "python",
   "name": "python3"
  },
  "language_info": {
   "codemirror_mode": {
    "name": "ipython",
    "version": 3
   },
   "file_extension": ".py",
   "mimetype": "text/x-python",
   "name": "python",
   "nbconvert_exporter": "python",
   "pygments_lexer": "ipython3",
   "version": "3.7.6"
  }
 },
 "nbformat": 4,
 "nbformat_minor": 2
}
