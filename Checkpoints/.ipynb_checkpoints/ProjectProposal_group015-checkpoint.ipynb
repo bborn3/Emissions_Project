{
 "cells": [
  {
   "cell_type": "markdown",
   "metadata": {},
   "source": [
    "# COGS 108 - Final Project Proposal"
   ]
  },
  {
   "cell_type": "markdown",
   "metadata": {},
   "source": [
    "# Names\n",
    "\n",
    "- Brandon Born\n",
    "- Evan Chen\n",
    "- Karthik Guruvayurappan\n",
    "- Katherine Kim"
   ]
  },
  {
   "cell_type": "markdown",
   "metadata": {},
   "source": [
    "# Research Question"
   ]
  },
  {
   "cell_type": "markdown",
   "metadata": {},
   "source": [
    "Is there a relationship between what celebrities say and American sentiment/conversation about climate change? Is there an actual change/correlation in American behavior? (Do people really do what they say?)"
   ]
  },
  {
   "cell_type": "markdown",
   "metadata": {},
   "source": [
    "## Background and Prior Work"
   ]
  },
  {
   "cell_type": "markdown",
   "metadata": {},
   "source": [
    "Celebrities with large followings arguably carry an immense amount of influence. Specifically through social media, celebrities have direct and daily access to millions of people, and while such platforms are typically used to promote their activities or offer insight to personal life, celebrities have used them as a means for spreading awareness or to support certain political movements including climate change. These endorsements, however, are not simply limited to social media. For instance, Leonardo Dicaprio upon winning his first Oscar used his speech as an opportunity to urge watchers to “work collectively together and to stop procrastinating” in combating climate change (Decaprio, 2016).\n",
    "    \n",
    "A recent study observed that the impact of celebrity endorsements concerning environmental campaigns was unclear (Verissimo, Challender, Olmedo). Although campaign organizers through celebrities intended for greater media coverage and “visibility,” it did not ensure the correct delivery indicated through reactions (Verissimo, Challender, Olmedo). Research using different environmental campaigns was observed, but there was no evidence that celebrities were the specific factor that enabled the campaign to achieve results (Verissimo, Challender, Olmedo).\n",
    "    \n",
    "Despite the lack of evidence with celebrity endorsements, a more recent study observed Greta Thunberg and her effect on collective action. Although Greta Thunberg is not a conventional ‘celebrity,’ she has become an outspoken activist for the urgency of climate change and was named Times magazine’s 2019 person of the year. The study found that those familiar with Greta Thunberg and had similar, liberal ideologies were more likely to partake in collective action to combat global warming (Sabherwal et al. 2021). Ultimately, Greta Thunberg suggests that public figures may have an effect on the sentiments towards climate change. \n",
    "\n",
    "References (include links):\n",
    "- 1) https://www.youtube.com/watch?v=xpyrefzvTpI\n",
    "- 2) https://currently.att.yahoo.com/att/celebrity-endorsements-really-help-environmental-154545714.html\n",
    "- 3) https://onlinelibrary.wiley.com/doi/10.1111/jasp.12737\n",
    "- 4) https://climatecommunication.yale.edu/visualizations-data/americans-climate-views/ "
   ]
  },
  {
   "cell_type": "markdown",
   "metadata": {},
   "source": [
    "# Hypothesis\n"
   ]
  },
  {
   "cell_type": "markdown",
   "metadata": {},
   "source": [
    "Our hypothesis is that there is a temporary effect. Consider the effect of Greta Thunberg, she is an activist that has a constant message whereas celebrities have a platform that is used for a multitude of purposes. Also, it seems that more Americans are becoming aware and accepting of the reality of climate change each year (Wang, Leiserowitz, Marlon, 2021). It is possible that the influence celebrities have over convincing Americans of the dangers of climate change only serve as a temporary reminder of what is to come."
   ]
  },
  {
   "cell_type": "markdown",
   "metadata": {},
   "source": [
    "# Data"
   ]
  },
  {
   "cell_type": "markdown",
   "metadata": {},
   "source": [
    "The ideal dataset to answer this question would consist of three tables, with additional tables to supplement them. \n",
    "\n",
    "The first table would ideally have observations that represent each time a celebrity made a public remark about climate change. Then, the variables that this table would contain would include: the celebrity’s name, the timestamp and place where they said this, their popularity (perhaps measured through a metric like Instagram or Twitter followers?), their occupation, and how general American sentiment surrounding climate change shifted after this remark, which could be measured through the number of tweets, news articles published, or Facebook posts about the topic of climate change. This data would ideally be collected over a long period of time (roughly 10 years), which would allow for sentiment analysis over time, and to quantify the relationship between public celebrity remarks and American public sentiment surrounding climate change. Since this particular table contains tabular data, this table can be stored in a CSV file. For data collection, gathering celebrity remarks about climate change would involve creating a list of celebrities, and then individually scraping news articles or finding a database which keeps track of their public remarks. \n",
    "\n",
    "Then, to measure American public sentiment after this remark would involve analyzing a separate dataset containing information like Twitter tweets, from which sentiment could be derived and then added to the initial table, alongside celebrity remarks. An alternative approach to gathering American public sentiment about climate change would be to analyze polls about climate change, and join those results with the initial table. \n",
    "\n",
    "The third table would then contain climate change information over time. Ideally, this table would contain observations that represent different points of time, and then variables that contained overall measures of climate change, like current carbon emissions, and also more granular data, like how the carbon emissions are spread across different emission sectors, like transportation, agriculture, and energy. This data could be joined with the first two tables. \n",
    "\n",
    "Overall, the combined dataset would contain celebrity remarks as observations, and then variables that include: celebrity name, timestamp, location, popularity, American public sentiment measured through social media for a period of time following the remark (Twitter), and carbon emissions for a period of time following the remark, broken down into subsectors. "
   ]
  },
  {
   "cell_type": "markdown",
   "metadata": {},
   "source": [
    "# Ethics & Privacy"
   ]
  },
  {
   "cell_type": "markdown",
   "metadata": {},
   "source": [
    "In order to uphold ethics and privacy, we must ensure that our data does not contain any harmful biases and that our resulting subsequent analysis does not further such harmful biases. While our intentions may not be malicious, we must still be vigilant of any harmful practices that may occur unknowingly throughout our project. Concerning our Twitter, or other social media, data, it should remain anonymous to guarantee privacy. Furthermore, we should always consider the risks of using certain data sets. We want to make sure that the data we work with is substantial enough to make reliable inferences. Doing so would result in inaccurate predictions and spurious correlations. If we are not able to find sufficient data, we will need to consider changing our research. \n",
    "\n",
    "For our dataset, one of the ethical considerations is bias in our dataset, since it will be compiled across many sources with many data collection processes. For instance, analyzing only Twitter data to gauge public sentiment of America might be biased if the population using Twitter is not representative of the American population. Likewise, if we were to produce our own list of celebrities when compiling the dataset, this list of celebrities may have biases introduced by our own choices, which could then impact our final results. For instance, we might be subconsciously more likely to select a certain type of celebrity. To handle this issue, we will compare the populations sampled to the overall populations, which will be done during our EDA process. If there are differences in these populations, then we will include them in our analysis write-up. In collecting Twitter and other social media data, we should also be cautious to follow their terms of data usage and maintain the most data privacy possible. "
   ]
  },
  {
   "cell_type": "markdown",
   "metadata": {},
   "source": [
    "# Team Expectations "
   ]
  },
  {
   "cell_type": "markdown",
   "metadata": {},
   "source": [
    "* Meet before every deadline (1-2 Zoom calls every couple of weeks for project check-ins) \n",
    "* Provide team members with progress updates (coding updates) so that everyone can stay on the same page \n",
    "* Pair program if possible when two people are working at the same time, and update group every time there is a new commit to the repo\n",
    "* Don’t be afraid to ask questions and validate work with other group members"
   ]
  },
  {
   "cell_type": "markdown",
   "metadata": {},
   "source": [
    "# Project Timeline Proposal"
   ]
  },
  {
   "cell_type": "markdown",
   "metadata": {},
   "source": [
    "| Meeting Date  | Meeting Time| Completed Before Meeting  | Discuss at Meeting |\n",
    "|---|---|---|---|\n",
    "| 4/28  |  2 PM | General background research about the way that the climate has been changing. General search for what kinds of datasets and databases are available surrounding celebrity remarks, sentiment surrounding climate change, and climate change statistics. | What type of data we are looking for. Plan out how to get a dataset as close as possible to the ideal dataset for this particular data science question, and what sources we will need for our data. | \n",
    "| 5/5  |  2 PM |  Find datasets that can be used to create the final aggregated dataset that will be necessary for analysis. Work on Checkpoint #1. | Discuss data we found and how we want to go about cleaning and wrangling the data, as well as any issues surrounding data quality or biases that may be influencing our data. | \n",
    "| 5/12  | 2 PM  | Complete Checkpoint #1 by Friday 5/7. Join data into one larger aggregated data frame, and begin exploring data from all the tables, at various levels of data granularity. | Discuss a general approach for EDA, as well as what kinds of exploratory and descriptive analyses would be most useful for the given dataset. |\n",
    "| 5/19  | 2 PM  | Generate EDA results based on previous meeting’s goals. Work on Checkpoint #2. | Discuss how to approach the different parts of the final report. Discuss what visualizations will be best to represent the project. Discuss modeling process for sentiment analysis and time series analysis of climate change data. |\n",
    "| 5/26  | 2 PM | Complete Checkpoint #2  by Friday 5/21. Develop model approaches. Clean Visualizations and make them ready for final report. | Begin drafting final report document. Develop timeline to film 5 minute video displaying the project. |\n",
    "| 6/2  | 2 PM | Complete and Edit Project Write-up | Check-in and proofread project write-up |\n",
    "| 6/9  | 2 PM  | Film Project Video | Submit project report before 11:59pm |"
   ]
  }
 ],
 "metadata": {
  "kernelspec": {
   "display_name": "Python 3",
   "language": "python",
   "name": "python3"
  },
  "language_info": {
   "codemirror_mode": {
    "name": "ipython",
    "version": 3
   },
   "file_extension": ".py",
   "mimetype": "text/x-python",
   "name": "python",
   "nbconvert_exporter": "python",
   "pygments_lexer": "ipython3",
   "version": "3.9.0"
  }
 },
 "nbformat": 4,
 "nbformat_minor": 2
}
