{
 "cells": [
  {
   "cell_type": "code",
   "execution_count": 1,
   "metadata": {},
   "outputs": [],
   "source": [
    "\n",
    "import pandas as pd\n",
    "import numpy as np\n",
    "import matplotlib.pyplot as plt\n",
    "import seaborn as sns"
   ]
  },
  {
   "cell_type": "code",
   "execution_count": 4,
   "metadata": {},
   "outputs": [],
   "source": [
    "policy_data = pd.read_csv('climate_policy_database_policies_export.csv')"
   ]
  },
  {
   "cell_type": "code",
   "execution_count": 6,
   "metadata": {},
   "outputs": [
    {
     "data": {
      "text/plain": [
       "194"
      ]
     },
     "execution_count": 6,
     "metadata": {},
     "output_type": "execute_result"
    }
   ],
   "source": [
    "policy_data['Country'].nunique()"
   ]
  },
  {
   "cell_type": "code",
   "execution_count": 12,
   "metadata": {},
   "outputs": [
    {
     "data": {
      "text/plain": [
       "Policy ID                            1\n",
       "Country ISO                          0\n",
       "Policy name                          0\n",
       "Policy Title                         0\n",
       "Jurisdiction                       406\n",
       "Supranational region              4935\n",
       "Country                              0\n",
       "Subnational region or state       4982\n",
       "City or local                     5082\n",
       "Type of policy instrument          424\n",
       "Sector name                        421\n",
       "Policy description                1825\n",
       "Policy type                        496\n",
       "Policy stringency                 5014\n",
       "Implementation state               425\n",
       "Date of decision                   132\n",
       "Start date of implementation      4557\n",
       "End date of implementation        4385\n",
       "High impact                        530\n",
       "Policy objective                    60\n",
       "Source or references               143\n",
       "Impact indicators: comments       4759\n",
       "Impact indicators: name           4716\n",
       "Impact indicators: value          4716\n",
       "Impact indicators: base year      4829\n",
       "Impact indicators: target year    4723\n",
       "dtype: int64"
      ]
     },
     "execution_count": 12,
     "metadata": {},
     "output_type": "execute_result"
    }
   ],
   "source": [
    "policy_data.isna().sum()"
   ]
  },
  {
   "cell_type": "code",
   "execution_count": null,
   "metadata": {},
   "outputs": [],
   "source": []
  }
 ],
 "metadata": {
  "kernelspec": {
   "display_name": "Python 3",
   "language": "python",
   "name": "python3"
  },
  "language_info": {
   "codemirror_mode": {
    "name": "ipython",
    "version": 3
   },
   "file_extension": ".py",
   "mimetype": "text/x-python",
   "name": "python",
   "nbconvert_exporter": "python",
   "pygments_lexer": "ipython3",
   "version": "3.7.6"
  }
 },
 "nbformat": 4,
 "nbformat_minor": 4
}
