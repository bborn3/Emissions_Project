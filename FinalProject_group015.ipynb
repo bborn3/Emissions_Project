{
 "cells": [
  {
   "cell_type": "markdown",
   "metadata": {},
   "source": [
    "# COGS 108 - Final Project (change this to your project's title)"
   ]
  },
  {
   "cell_type": "markdown",
   "metadata": {},
   "source": [
    "## Permissions\n",
    "\n",
    "Place an `X` in the appropriate bracket below to specify if you would like your group's project to be made available to the public. (Note that student names will be included (but PIDs will be scraped from any groups who include their PIDs).\n",
    "\n",
    "* [  ] YES - make available\n",
    "* [ X ] NO - keep private"
   ]
  },
  {
   "cell_type": "markdown",
   "metadata": {},
   "source": [
    "# Overview"
   ]
  },
  {
   "cell_type": "markdown",
   "metadata": {},
   "source": [
    "*Fill in your overview here*\n",
    "- Write a clear summary of what you did\n",
    "- Briefly describe the results of your project\n",
    "- Limit overview to 3-4 sentences"
   ]
  },
  {
   "cell_type": "markdown",
   "metadata": {},
   "source": [
    "# Names\n",
    "\n",
    "- Brandon Born\n",
    "- Katherine Kim\n",
    "- Karthik Guruvayurappan\n",
    "- Evan Chen"
   ]
  },
  {
   "cell_type": "markdown",
   "metadata": {},
   "source": [
    "<a id='research_question'></a>\n",
    "# Research Question"
   ]
  },
  {
   "cell_type": "markdown",
   "metadata": {},
   "source": [
    "What is the relationship between government policies and agreements and reduced global carbon emissions of countries from 1970 to 2018?"
   ]
  },
  {
   "cell_type": "markdown",
   "metadata": {},
   "source": [
    "<a id='background'></a>\n",
    "\n",
    "## Background & Prior Work"
   ]
  },
  {
   "cell_type": "markdown",
   "metadata": {},
   "source": [
    "Climate change remains as a persisting, increasingly prevalent issue with the global temperature rising about 2.2 degrees Fahrenheit since the 1800s, ocean temperatures rising about 0.6 degrees Fahrenheit, sea level rise, shrinking ice caps which all have dramatic implications for our future (1). As a result, several climate policies across the globe have been introduced in order to mitigate and adapt to the effects of climate change (2). They take many forms, targeting a variety of different sectors, but with the immense contribution of emissions by human activity, it becomes a question of whether these policies are having tangible effects. \n",
    "\n",
    "\n",
    "Eskander and Fankhauser (2020) studied the impact of current cliamte policies on greenhouse gas emissions by looking at climate change legistlation in 133 countries over 18 years from 1999-2016 (3). They identified the statistical average effect of a new climate law on national emissions over the subsequent next 3 years (short-term) and after those 3 years (longer term) to build a \"counterfactual time series of greenhouse gas emissions\" with the \"impact of climate change legistlation switched off\" (3). As a result, Eskander and Fankhauser (2020) were able to derive carbon savings of about 38 GtCO2 or gigatonnes of carbon dioxide (3). While they claim this may look \"modest,\" it has offset the carbon space we have left to cap global warming at 1.5 degrees Celcius (2). This means that there is a remaining carbon budget of about 420-770 GtCO2 (versus 382-732 GtCO2 without climate policy) suggesting that global response to climate change is not as limited as people think it is (3). \n",
    "\n",
    "\n",
    "Mulvaney with National Geographic analyzed the biggest emittors of emissions after their 2015 Paris Agreement where agreements were made to limit the increase of the global temperature average below 2 degrees Celcius (4). In 2017, there was still a 1.7% increase and 2.7% increase in 2018 (4). Mulvaney split countries based on their emission goals to limit warming to 1.5 degrees Celcius and seeing their current yearly emissions fit within that framework (4). Gambia, Morocco, and India remain \"top of their class\" whereas the US, Russia, and Saudia Arabia are categorized as \"barely trying\" with emissions far greater than the 1.5 mark (4). While these observations are only in reference to the Paris Agreements without consideration for smaller climate change legislations, they are highly indicative of, in general, countries having no change or an increase in carbon emissions despite legislation. \n",
    "\n",
    "\n",
    "References (include links):\n",
    "- 1) https://climate.nasa.gov/evidence/\n",
    "- 2) https://www.rff.org/publications/explainers/federal-climate-policy-101/\n",
    "- 3) https://www.lse.ac.uk/granthaminstitute/news/the-impact-of-current-climate-policies-on-greenhouse-gas-emissions/#:~:text=The%20global%20response%20to%20climate,around%2038%20gigatonnes%20(Gt).\n",
    "- 4) https://www.nationalgeographic.com/environment/article/climate-change-report-card-co2-emissions"
   ]
  },
  {
   "cell_type": "markdown",
   "metadata": {},
   "source": [
    "# Hypothesis\n"
   ]
  },
  {
   "cell_type": "markdown",
   "metadata": {},
   "source": [
    "*Fill in your hypotheses here*"
   ]
  },
  {
   "cell_type": "markdown",
   "metadata": {},
   "source": [
    "# Datasets"
   ]
  },
  {
   "cell_type": "markdown",
   "metadata": {},
   "source": [
    "\n",
    "- Dataset Name: EDGAR CO2 Emissions 1970-2018 Data\n",
    "- Link to the dataset: https://github.com/openclimatedata/edgar-co2-emissions\n",
    "- Number of observations: 50764\n",
    "- This dataset includes observations from 1970 to 2018 of CO2 emissions by country and sector including building, power industry, transport, and other industrial combustion. \n",
    "\n",
    "\n",
    "- Dataset Name: Climate Policy Dataset \n",
    "- Link to the dataset: https://climatepolicydatabase.org/policies\n",
    "- Number of observations: 5120\n",
    "- This dataset contains observations of all climate policies by country, sector, its current status, decision year from as early as 1927, and policy type (e.g. Agricultural, energy service demand, energy efficiency). \n",
    "\n",
    "\n",
    "We are interested in looking at carbon emissions over time and seeing if there is a substantial change once a climate policy is implemented. Therefore, the EDGAR CO2 emissions data set offers us a continual set of data to see trends of emissions, and the Climate Policy Dataset can be combined to denote when policies were implemented and if carbon emissions decreased as a result. We can join the policy dataset with the carbon emissions data by year and country code, and then analyze the change in carbon emissions over time using these datasets. "
   ]
  },
  {
   "cell_type": "markdown",
   "metadata": {},
   "source": [
    "# Setup"
   ]
  },
  {
   "cell_type": "code",
   "execution_count": 1,
   "metadata": {},
   "outputs": [],
   "source": [
    "# import packages\n",
    "import numpy as np\n",
    "import pandas as pd\n",
    "import matplotlib.pyplot as plt\n",
    "import seaborn as sns\n",
    "import geopandas as gpd"
   ]
  },
  {
   "cell_type": "markdown",
   "metadata": {},
   "source": [
    "# Data Cleaning"
   ]
  },
  {
   "cell_type": "markdown",
   "metadata": {},
   "source": [
    "Both the Edgar CO2 Emissions Dataset and Climate Policy Dataset are contained in a CSV file which means the data for both is in a semi-structured format. The data itself is already tidy. Each variable we are measuring is in a single column while every observation of a variable is in a different row resulting in rectangular data. All that is left is to clean the data. \n",
    "\n",
    "Our data cleaning steps include: \n",
    "- identifying any null values and dropping (if applicable) \n",
    "- checking the data for duplicate entries\n",
    "- changing column names (if applicable)\n",
    "- standardizing the responses (if applicable). "
   ]
  },
  {
   "cell_type": "markdown",
   "metadata": {},
   "source": [
    "### Climate Policy Dataset"
   ]
  },
  {
   "cell_type": "code",
   "execution_count": 2,
   "metadata": {},
   "outputs": [
    {
     "data": {
      "text/html": [
       "<div>\n",
       "<style scoped>\n",
       "    .dataframe tbody tr th:only-of-type {\n",
       "        vertical-align: middle;\n",
       "    }\n",
       "\n",
       "    .dataframe tbody tr th {\n",
       "        vertical-align: top;\n",
       "    }\n",
       "\n",
       "    .dataframe thead th {\n",
       "        text-align: right;\n",
       "    }\n",
       "</style>\n",
       "<table border=\"1\" class=\"dataframe\">\n",
       "  <thead>\n",
       "    <tr style=\"text-align: right;\">\n",
       "      <th></th>\n",
       "      <th>Policy ID</th>\n",
       "      <th>Country ISO</th>\n",
       "      <th>Policy name</th>\n",
       "      <th>Policy Title</th>\n",
       "      <th>Jurisdiction</th>\n",
       "      <th>Supranational region</th>\n",
       "      <th>Country</th>\n",
       "      <th>Subnational region or state</th>\n",
       "      <th>City or local</th>\n",
       "      <th>Type of policy instrument</th>\n",
       "      <th>...</th>\n",
       "      <th>Start date of implementation</th>\n",
       "      <th>End date of implementation</th>\n",
       "      <th>High impact</th>\n",
       "      <th>Policy objective</th>\n",
       "      <th>Source or references</th>\n",
       "      <th>Impact indicators: comments</th>\n",
       "      <th>Impact indicators: name</th>\n",
       "      <th>Impact indicators: value</th>\n",
       "      <th>Impact indicators: base year</th>\n",
       "      <th>Impact indicators: target year</th>\n",
       "    </tr>\n",
       "  </thead>\n",
       "  <tbody>\n",
       "    <tr>\n",
       "      <th>0</th>\n",
       "      <td>5244.0</td>\n",
       "      <td>USA</td>\n",
       "      <td>Nationally Determined Contribution – NDC Unite...</td>\n",
       "      <td>Nationally Determined Contribution - NDC</td>\n",
       "      <td>Country</td>\n",
       "      <td>NaN</td>\n",
       "      <td>United States of America</td>\n",
       "      <td>NaN</td>\n",
       "      <td>NaN</td>\n",
       "      <td>Climate strategy, Political &amp; non-binding clim...</td>\n",
       "      <td>...</td>\n",
       "      <td>2021.0</td>\n",
       "      <td>2030.0</td>\n",
       "      <td>Unknown</td>\n",
       "      <td>Mitigation</td>\n",
       "      <td>https://www4.unfccc.int/sites/ndcstaging/Publi...</td>\n",
       "      <td>NaN</td>\n",
       "      <td>NaN</td>\n",
       "      <td>NaN</td>\n",
       "      <td>NaN</td>\n",
       "      <td>NaN</td>\n",
       "    </tr>\n",
       "    <tr>\n",
       "      <th>1</th>\n",
       "      <td>5243.0</td>\n",
       "      <td>BIH</td>\n",
       "      <td>Nationally Determined Contribution – NDC Bosni...</td>\n",
       "      <td>Nationally Determined Contribution - NDC</td>\n",
       "      <td>Country</td>\n",
       "      <td>NaN</td>\n",
       "      <td>Bosnia and Herzegovina</td>\n",
       "      <td>NaN</td>\n",
       "      <td>NaN</td>\n",
       "      <td>Climate strategy, Political &amp; non-binding clim...</td>\n",
       "      <td>...</td>\n",
       "      <td>2020.0</td>\n",
       "      <td>2030.0</td>\n",
       "      <td>Unknown</td>\n",
       "      <td>Adaptation, Mitigation</td>\n",
       "      <td>https://www4.unfccc.int/sites/ndcstaging/Publi...</td>\n",
       "      <td>NaN</td>\n",
       "      <td>NaN</td>\n",
       "      <td>NaN</td>\n",
       "      <td>NaN</td>\n",
       "      <td>NaN</td>\n",
       "    </tr>\n",
       "    <tr>\n",
       "      <th>2</th>\n",
       "      <td>5242.0</td>\n",
       "      <td>MKD</td>\n",
       "      <td>Nationally Determined Contribution – NDC Maced...</td>\n",
       "      <td>Nationally Determined Contribution - NDC</td>\n",
       "      <td>Country</td>\n",
       "      <td>NaN</td>\n",
       "      <td>Macedonia, the former Yugoslav Republic of</td>\n",
       "      <td>NaN</td>\n",
       "      <td>NaN</td>\n",
       "      <td>Climate strategy, Political &amp; non-binding clim...</td>\n",
       "      <td>...</td>\n",
       "      <td>2021.0</td>\n",
       "      <td>2030.0</td>\n",
       "      <td>Unknown</td>\n",
       "      <td>Adaptation, Mitigation</td>\n",
       "      <td>https://www4.unfccc.int/sites/ndcstaging/Publi...</td>\n",
       "      <td>NaN</td>\n",
       "      <td>NaN</td>\n",
       "      <td>NaN</td>\n",
       "      <td>NaN</td>\n",
       "      <td>NaN</td>\n",
       "    </tr>\n",
       "    <tr>\n",
       "      <th>3</th>\n",
       "      <td>5241.0</td>\n",
       "      <td>PHL</td>\n",
       "      <td>Nationally Determined Contribution – NDC Phili...</td>\n",
       "      <td>Nationally Determined Contribution - NDC</td>\n",
       "      <td>Country</td>\n",
       "      <td>NaN</td>\n",
       "      <td>Philippines</td>\n",
       "      <td>NaN</td>\n",
       "      <td>NaN</td>\n",
       "      <td>Climate strategy, Political &amp; non-binding clim...</td>\n",
       "      <td>...</td>\n",
       "      <td>2021.0</td>\n",
       "      <td>2030.0</td>\n",
       "      <td>Unknown</td>\n",
       "      <td>Adaptation, Mitigation</td>\n",
       "      <td>https://www4.unfccc.int/sites/ndcstaging/Publi...</td>\n",
       "      <td>NaN</td>\n",
       "      <td>NaN</td>\n",
       "      <td>NaN</td>\n",
       "      <td>NaN</td>\n",
       "      <td>NaN</td>\n",
       "    </tr>\n",
       "    <tr>\n",
       "      <th>4</th>\n",
       "      <td>5240.0</td>\n",
       "      <td>CPV</td>\n",
       "      <td>Nationally Determined Contribution – NDC Cape ...</td>\n",
       "      <td>Nationally Determined Contribution - NDC</td>\n",
       "      <td>Country</td>\n",
       "      <td>NaN</td>\n",
       "      <td>Cape Verde</td>\n",
       "      <td>NaN</td>\n",
       "      <td>NaN</td>\n",
       "      <td>Climate strategy, Political &amp; non-binding clim...</td>\n",
       "      <td>...</td>\n",
       "      <td>2021.0</td>\n",
       "      <td>2030.0</td>\n",
       "      <td>Unknown</td>\n",
       "      <td>Adaptation, Mitigation</td>\n",
       "      <td>https://www4.unfccc.int/sites/ndcstaging/Publi...</td>\n",
       "      <td>NaN</td>\n",
       "      <td>NaN</td>\n",
       "      <td>NaN</td>\n",
       "      <td>NaN</td>\n",
       "      <td>NaN</td>\n",
       "    </tr>\n",
       "  </tbody>\n",
       "</table>\n",
       "<p>5 rows × 26 columns</p>\n",
       "</div>"
      ],
      "text/plain": [
       "   Policy ID Country ISO                                        Policy name  \\\n",
       "0     5244.0         USA  Nationally Determined Contribution – NDC Unite...   \n",
       "1     5243.0         BIH  Nationally Determined Contribution – NDC Bosni...   \n",
       "2     5242.0         MKD  Nationally Determined Contribution – NDC Maced...   \n",
       "3     5241.0         PHL  Nationally Determined Contribution – NDC Phili...   \n",
       "4     5240.0         CPV  Nationally Determined Contribution – NDC Cape ...   \n",
       "\n",
       "                               Policy Title Jurisdiction Supranational region  \\\n",
       "0  Nationally Determined Contribution - NDC      Country                  NaN   \n",
       "1  Nationally Determined Contribution - NDC      Country                  NaN   \n",
       "2  Nationally Determined Contribution - NDC      Country                  NaN   \n",
       "3  Nationally Determined Contribution - NDC      Country                  NaN   \n",
       "4  Nationally Determined Contribution - NDC      Country                  NaN   \n",
       "\n",
       "                                      Country Subnational region or state  \\\n",
       "0                    United States of America                         NaN   \n",
       "1                      Bosnia and Herzegovina                         NaN   \n",
       "2  Macedonia, the former Yugoslav Republic of                         NaN   \n",
       "3                                 Philippines                         NaN   \n",
       "4                                  Cape Verde                         NaN   \n",
       "\n",
       "  City or local                          Type of policy instrument  ...  \\\n",
       "0           NaN  Climate strategy, Political & non-binding clim...  ...   \n",
       "1           NaN  Climate strategy, Political & non-binding clim...  ...   \n",
       "2           NaN  Climate strategy, Political & non-binding clim...  ...   \n",
       "3           NaN  Climate strategy, Political & non-binding clim...  ...   \n",
       "4           NaN  Climate strategy, Political & non-binding clim...  ...   \n",
       "\n",
       "  Start date of implementation End date of implementation High impact  \\\n",
       "0                       2021.0                     2030.0     Unknown   \n",
       "1                       2020.0                     2030.0     Unknown   \n",
       "2                       2021.0                     2030.0     Unknown   \n",
       "3                       2021.0                     2030.0     Unknown   \n",
       "4                       2021.0                     2030.0     Unknown   \n",
       "\n",
       "         Policy objective                               Source or references  \\\n",
       "0              Mitigation  https://www4.unfccc.int/sites/ndcstaging/Publi...   \n",
       "1  Adaptation, Mitigation  https://www4.unfccc.int/sites/ndcstaging/Publi...   \n",
       "2  Adaptation, Mitigation  https://www4.unfccc.int/sites/ndcstaging/Publi...   \n",
       "3  Adaptation, Mitigation  https://www4.unfccc.int/sites/ndcstaging/Publi...   \n",
       "4  Adaptation, Mitigation  https://www4.unfccc.int/sites/ndcstaging/Publi...   \n",
       "\n",
       "   Impact indicators: comments  Impact indicators: name  \\\n",
       "0                          NaN                      NaN   \n",
       "1                          NaN                      NaN   \n",
       "2                          NaN                      NaN   \n",
       "3                          NaN                      NaN   \n",
       "4                          NaN                      NaN   \n",
       "\n",
       "   Impact indicators: value Impact indicators: base year  \\\n",
       "0                       NaN                          NaN   \n",
       "1                       NaN                          NaN   \n",
       "2                       NaN                          NaN   \n",
       "3                       NaN                          NaN   \n",
       "4                       NaN                          NaN   \n",
       "\n",
       "  Impact indicators: target year  \n",
       "0                            NaN  \n",
       "1                            NaN  \n",
       "2                            NaN  \n",
       "3                            NaN  \n",
       "4                            NaN  \n",
       "\n",
       "[5 rows x 26 columns]"
      ]
     },
     "execution_count": 2,
     "metadata": {},
     "output_type": "execute_result"
    }
   ],
   "source": [
    "# read in Climate Policy Dataset\n",
    "climate_policy_data = pd.read_csv('./data/climate_policy_database_policies_export.csv')\n",
    "climate_policy_data.head()"
   ]
  },
  {
   "cell_type": "code",
   "execution_count": 3,
   "metadata": {},
   "outputs": [
    {
     "data": {
      "text/plain": [
       "Index(['Policy ID', 'Country ISO', 'Policy name', 'Policy Title',\n",
       "       'Jurisdiction', 'Supranational region', 'Country',\n",
       "       'Subnational region or state', 'City or local',\n",
       "       'Type of policy instrument', 'Sector name', 'Policy description',\n",
       "       'Policy type', 'Policy stringency', 'Implementation state',\n",
       "       'Date of decision', 'Start date of implementation',\n",
       "       'End date of implementation', 'High impact', 'Policy objective',\n",
       "       'Source or references', 'Impact indicators: comments',\n",
       "       'Impact indicators: name', 'Impact indicators: value',\n",
       "       'Impact indicators: base year', 'Impact indicators: target year'],\n",
       "      dtype='object')"
      ]
     },
     "execution_count": 3,
     "metadata": {},
     "output_type": "execute_result"
    }
   ],
   "source": [
    "# list columns from dataset\n",
    "climate_policy_data.columns"
   ]
  },
  {
   "cell_type": "code",
   "execution_count": 4,
   "metadata": {},
   "outputs": [],
   "source": [
    "# select necessary columns from the dataset\n",
    "climate_policy_data = climate_policy_data[['Country ISO', 'Policy name', 'Policy Title', 'Country', \n",
    "                                           'Sector name', 'Policy type', 'Date of decision', \n",
    "                                           'Policy objective']]"
   ]
  },
  {
   "cell_type": "code",
   "execution_count": 5,
   "metadata": {},
   "outputs": [
    {
     "data": {
      "text/plain": [
       "Country ISO           0\n",
       "Policy name           0\n",
       "Policy Title          0\n",
       "Country               0\n",
       "Sector name         421\n",
       "Policy type         496\n",
       "Date of decision    132\n",
       "Policy objective     60\n",
       "dtype: int64"
      ]
     },
     "execution_count": 5,
     "metadata": {},
     "output_type": "execute_result"
    }
   ],
   "source": [
    "# analyze nans from dataset\n",
    "climate_policy_data.isna().sum()"
   ]
  },
  {
   "cell_type": "code",
   "execution_count": 6,
   "metadata": {},
   "outputs": [
    {
     "data": {
      "text/plain": [
       "132"
      ]
     },
     "execution_count": 6,
     "metadata": {},
     "output_type": "execute_result"
    }
   ],
   "source": [
    "# drop nan values for necesary columns for analysis\n",
    "(climate_policy_data['Date of decision'].isna()).sum()"
   ]
  },
  {
   "cell_type": "code",
   "execution_count": 7,
   "metadata": {},
   "outputs": [
    {
     "data": {
      "text/html": [
       "<div>\n",
       "<style scoped>\n",
       "    .dataframe tbody tr th:only-of-type {\n",
       "        vertical-align: middle;\n",
       "    }\n",
       "\n",
       "    .dataframe tbody tr th {\n",
       "        vertical-align: top;\n",
       "    }\n",
       "\n",
       "    .dataframe thead th {\n",
       "        text-align: right;\n",
       "    }\n",
       "</style>\n",
       "<table border=\"1\" class=\"dataframe\">\n",
       "  <thead>\n",
       "    <tr style=\"text-align: right;\">\n",
       "      <th></th>\n",
       "      <th>Country ISO</th>\n",
       "      <th>Policy name</th>\n",
       "      <th>Policy Title</th>\n",
       "      <th>Country</th>\n",
       "      <th>Sector name</th>\n",
       "      <th>Policy type</th>\n",
       "      <th>Date of decision</th>\n",
       "      <th>Policy objective</th>\n",
       "    </tr>\n",
       "  </thead>\n",
       "  <tbody>\n",
       "    <tr>\n",
       "      <th>0</th>\n",
       "      <td>USA</td>\n",
       "      <td>Nationally Determined Contribution – NDC Unite...</td>\n",
       "      <td>Nationally Determined Contribution - NDC</td>\n",
       "      <td>United States of America</td>\n",
       "      <td>General</td>\n",
       "      <td>Energy efficiency, Energy service demand reduc...</td>\n",
       "      <td>2021.0</td>\n",
       "      <td>Mitigation</td>\n",
       "    </tr>\n",
       "    <tr>\n",
       "      <th>1</th>\n",
       "      <td>BIH</td>\n",
       "      <td>Nationally Determined Contribution – NDC Bosni...</td>\n",
       "      <td>Nationally Determined Contribution - NDC</td>\n",
       "      <td>Bosnia and Herzegovina</td>\n",
       "      <td>General</td>\n",
       "      <td>Energy efficiency, Energy service demand reduc...</td>\n",
       "      <td>2021.0</td>\n",
       "      <td>Adaptation, Mitigation</td>\n",
       "    </tr>\n",
       "    <tr>\n",
       "      <th>2</th>\n",
       "      <td>MKD</td>\n",
       "      <td>Nationally Determined Contribution – NDC Maced...</td>\n",
       "      <td>Nationally Determined Contribution - NDC</td>\n",
       "      <td>Macedonia, the former Yugoslav Republic of</td>\n",
       "      <td>General</td>\n",
       "      <td>Energy efficiency, Energy service demand reduc...</td>\n",
       "      <td>2021.0</td>\n",
       "      <td>Adaptation, Mitigation</td>\n",
       "    </tr>\n",
       "    <tr>\n",
       "      <th>3</th>\n",
       "      <td>PHL</td>\n",
       "      <td>Nationally Determined Contribution – NDC Phili...</td>\n",
       "      <td>Nationally Determined Contribution - NDC</td>\n",
       "      <td>Philippines</td>\n",
       "      <td>General</td>\n",
       "      <td>Energy efficiency, Energy service demand reduc...</td>\n",
       "      <td>2021.0</td>\n",
       "      <td>Adaptation, Mitigation</td>\n",
       "    </tr>\n",
       "    <tr>\n",
       "      <th>4</th>\n",
       "      <td>CPV</td>\n",
       "      <td>Nationally Determined Contribution – NDC Cape ...</td>\n",
       "      <td>Nationally Determined Contribution - NDC</td>\n",
       "      <td>Cape Verde</td>\n",
       "      <td>General</td>\n",
       "      <td>Energy efficiency, Energy service demand reduc...</td>\n",
       "      <td>2021.0</td>\n",
       "      <td>Adaptation, Mitigation</td>\n",
       "    </tr>\n",
       "  </tbody>\n",
       "</table>\n",
       "</div>"
      ],
      "text/plain": [
       "  Country ISO                                        Policy name  \\\n",
       "0         USA  Nationally Determined Contribution – NDC Unite...   \n",
       "1         BIH  Nationally Determined Contribution – NDC Bosni...   \n",
       "2         MKD  Nationally Determined Contribution – NDC Maced...   \n",
       "3         PHL  Nationally Determined Contribution – NDC Phili...   \n",
       "4         CPV  Nationally Determined Contribution – NDC Cape ...   \n",
       "\n",
       "                               Policy Title  \\\n",
       "0  Nationally Determined Contribution - NDC   \n",
       "1  Nationally Determined Contribution - NDC   \n",
       "2  Nationally Determined Contribution - NDC   \n",
       "3  Nationally Determined Contribution - NDC   \n",
       "4  Nationally Determined Contribution - NDC   \n",
       "\n",
       "                                      Country Sector name  \\\n",
       "0                    United States of America     General   \n",
       "1                      Bosnia and Herzegovina     General   \n",
       "2  Macedonia, the former Yugoslav Republic of     General   \n",
       "3                                 Philippines     General   \n",
       "4                                  Cape Verde     General   \n",
       "\n",
       "                                         Policy type  Date of decision  \\\n",
       "0  Energy efficiency, Energy service demand reduc...            2021.0   \n",
       "1  Energy efficiency, Energy service demand reduc...            2021.0   \n",
       "2  Energy efficiency, Energy service demand reduc...            2021.0   \n",
       "3  Energy efficiency, Energy service demand reduc...            2021.0   \n",
       "4  Energy efficiency, Energy service demand reduc...            2021.0   \n",
       "\n",
       "         Policy objective  \n",
       "0              Mitigation  \n",
       "1  Adaptation, Mitigation  \n",
       "2  Adaptation, Mitigation  \n",
       "3  Adaptation, Mitigation  \n",
       "4  Adaptation, Mitigation  "
      ]
     },
     "execution_count": 7,
     "metadata": {},
     "output_type": "execute_result"
    }
   ],
   "source": [
    "climate_policy_data = climate_policy_data.dropna(axis=0, subset=['Date of decision'])\n",
    "climate_policy_data.head()"
   ]
  },
  {
   "cell_type": "code",
   "execution_count": 8,
   "metadata": {},
   "outputs": [
    {
     "data": {
      "text/plain": [
       "array(['USA', 'BIH', 'MKD', 'PHL', 'CPV', 'VUT', 'BRA', 'VNM', 'UKR',\n",
       "       'THA', 'ZAF', 'RUS', 'MAR', 'MEX', 'JPN', 'IDN', 'EUE', 'ETH',\n",
       "       'COL', 'CHN', 'CAN', 'AUS', 'ARG', 'PYF', 'AND', 'MCO', 'GBR',\n",
       "       'NOR', 'CHE', 'MDA', 'NZL', 'FJI', 'MHL', 'TON', 'PNG', 'BRN',\n",
       "       'KOR', 'KHM', 'SGP', 'MNG', 'KGZ', 'PRK', 'ECU', 'SYR', 'BGD',\n",
       "       'NPL', 'MDV', 'AGO', 'LBN', 'ARE', 'SSD', 'KEN', 'RWA', 'ZMB',\n",
       "       'GRD', 'ISL', 'CHL', 'PER', 'SEN', 'SUR', 'CRI', 'PAN', 'NIC',\n",
       "       'JAM', 'DOM', 'CMR', 'GRC', 'SWE', 'IND', 'FRA', 'ESP', 'ITA',\n",
       "       'SAU', 'SDN', 'DNK', 'BEL', 'DEU', 'LKA', 'BGR', 'TUR', 'UZB',\n",
       "       'SLB', 'NLD', 'TGO', 'LUX', 'COD', 'FIN', 'TUN', 'SVK', 'GMB',\n",
       "       'MNE', 'URY', 'TLS', 'TZA', 'IRQ', 'ISR', 'PRY', 'NGA', 'BEN',\n",
       "       'AFG', 'ERI', 'NRU', 'NAM', 'MOZ', 'FSM', 'ZWE', 'STP', 'GAB',\n",
       "       'GHA', 'GEO', 'GUY', 'GTM', 'GNB', 'GNQ', 'GIN', 'HTI', 'COK',\n",
       "       'CIV', 'NER', 'MUS', 'MRT', 'NIU', 'MLI', 'MYS', 'MWI', 'MDG',\n",
       "       'LIE', 'LBR', 'LSO', 'LAO', 'KWT', 'VEN', 'IRL', 'SOM', 'JOR',\n",
       "       'YEM', 'SLE', 'SYC', 'SRB', 'SMR', 'WSM', 'VCT', 'LCA', 'SWZ',\n",
       "       'KNA', 'CAF', 'QAT', 'KAZ', 'PAK', 'UGA', 'TUV', 'TKM', 'OMN',\n",
       "       'ALB', 'DZA', 'TCD', 'BLZ', 'BRB', 'BHR', 'ATG', 'BHS', 'BTN',\n",
       "       'EGY', 'AZE', 'BLR', 'BOL', 'DJI', 'BWA', 'ARM', 'DMA', 'BDI',\n",
       "       'BFA', 'TJK', 'CZE', 'POL', 'AUT', 'ROU', 'LVA', 'IRN', 'KIR',\n",
       "       'HND', 'MMR', 'HRV', 'SVN', 'SLV', 'PRT', 'LTU', 'TTO', 'HUN',\n",
       "       'CUB', 'MLT', 'EST', 'CYP', 'LBY'], dtype=object)"
      ]
     },
     "execution_count": 8,
     "metadata": {},
     "output_type": "execute_result"
    }
   ],
   "source": [
    "# get unique countries\n",
    "climate_policy_data['Country ISO'].unique()"
   ]
  },
  {
   "cell_type": "code",
   "execution_count": 9,
   "metadata": {},
   "outputs": [
    {
     "name": "stdout",
     "output_type": "stream",
     "text": [
      "194\n",
      "194\n"
     ]
    }
   ],
   "source": [
    "# ensure there is a one to one mapping between Country ISO and Country\n",
    "print(climate_policy_data['Country ISO'].nunique())\n",
    "print(climate_policy_data['Country'].nunique())"
   ]
  },
  {
   "cell_type": "code",
   "execution_count": 10,
   "metadata": {},
   "outputs": [
    {
     "data": {
      "text/plain": [
       "General                                                           979\n",
       "Electricity and heat, Renewables                                  693\n",
       "Electricity and heat                                              288\n",
       "Transport                                                         243\n",
       "Buildings                                                         206\n",
       "                                                                 ... \n",
       "Buildings, Appliances, Electricity and heat, Renewables             1\n",
       "Electricity and heat, Oil, Renewables, General, Transport           1\n",
       "Transport, Light-duty vehicles, Heavy-duty vehicles, Air, Rail      1\n",
       "Electricity and heat, Oil, Coal                                     1\n",
       "Transport, Heavy-duty vehicles, Rail, Shipping                      1\n",
       "Name: Sector name, Length: 417, dtype: int64"
      ]
     },
     "execution_count": 10,
     "metadata": {},
     "output_type": "execute_result"
    }
   ],
   "source": [
    "# analyze sector name data\n",
    "climate_policy_data['Sector name'].value_counts()"
   ]
  },
  {
   "cell_type": "code",
   "execution_count": 11,
   "metadata": {},
   "outputs": [
    {
     "data": {
      "text/plain": [
       "Country ISO          object\n",
       "Policy name          object\n",
       "Policy Title         object\n",
       "Country              object\n",
       "Sector name          object\n",
       "Policy type          object\n",
       "Date of decision    float64\n",
       "Policy objective     object\n",
       "dtype: object"
      ]
     },
     "execution_count": 11,
     "metadata": {},
     "output_type": "execute_result"
    }
   ],
   "source": [
    "# check data types\n",
    "climate_policy_data.dtypes"
   ]
  },
  {
   "cell_type": "code",
   "execution_count": 12,
   "metadata": {},
   "outputs": [
    {
     "data": {
      "text/plain": [
       "(4988, 8)"
      ]
     },
     "execution_count": 12,
     "metadata": {},
     "output_type": "execute_result"
    }
   ],
   "source": [
    "# check data shape\n",
    "climate_policy_data.shape"
   ]
  },
  {
   "cell_type": "code",
   "execution_count": 13,
   "metadata": {},
   "outputs": [],
   "source": [
    "# drop duplicates\n",
    "climate_policy_data = climate_policy_data.drop_duplicates()"
   ]
  },
  {
   "cell_type": "code",
   "execution_count": 14,
   "metadata": {},
   "outputs": [
    {
     "data": {
      "text/plain": [
       "(4754, 8)"
      ]
     },
     "execution_count": 14,
     "metadata": {},
     "output_type": "execute_result"
    }
   ],
   "source": [
    "# check data shape\n",
    "climate_policy_data.shape"
   ]
  },
  {
   "cell_type": "markdown",
   "metadata": {},
   "source": [
    "### Edgar CO2 Dataset"
   ]
  },
  {
   "cell_type": "markdown",
   "metadata": {},
   "source": [
    "The following is the code used to clean and briefly explore the Edgar CO2 dataset. "
   ]
  },
  {
   "cell_type": "code",
   "execution_count": 15,
   "metadata": {},
   "outputs": [
    {
     "data": {
      "text/html": [
       "<div>\n",
       "<style scoped>\n",
       "    .dataframe tbody tr th:only-of-type {\n",
       "        vertical-align: middle;\n",
       "    }\n",
       "\n",
       "    .dataframe tbody tr th {\n",
       "        vertical-align: top;\n",
       "    }\n",
       "\n",
       "    .dataframe thead th {\n",
       "        text-align: right;\n",
       "    }\n",
       "</style>\n",
       "<table border=\"1\" class=\"dataframe\">\n",
       "  <thead>\n",
       "    <tr style=\"text-align: right;\">\n",
       "      <th></th>\n",
       "      <th>Code</th>\n",
       "      <th>Name</th>\n",
       "      <th>Sector</th>\n",
       "      <th>Year</th>\n",
       "      <th>Emissions</th>\n",
       "    </tr>\n",
       "  </thead>\n",
       "  <tbody>\n",
       "    <tr>\n",
       "      <th>0</th>\n",
       "      <td>AFG</td>\n",
       "      <td>Afghanistan</td>\n",
       "      <td>Power Industry</td>\n",
       "      <td>1970</td>\n",
       "      <td>0.056962</td>\n",
       "    </tr>\n",
       "    <tr>\n",
       "      <th>1</th>\n",
       "      <td>ALB</td>\n",
       "      <td>Albania</td>\n",
       "      <td>Power Industry</td>\n",
       "      <td>1970</td>\n",
       "      <td>0.600624</td>\n",
       "    </tr>\n",
       "    <tr>\n",
       "      <th>2</th>\n",
       "      <td>DZA</td>\n",
       "      <td>Algeria</td>\n",
       "      <td>Power Industry</td>\n",
       "      <td>1970</td>\n",
       "      <td>1.645869</td>\n",
       "    </tr>\n",
       "    <tr>\n",
       "      <th>3</th>\n",
       "      <td>AGO</td>\n",
       "      <td>Angola</td>\n",
       "      <td>Power Industry</td>\n",
       "      <td>1970</td>\n",
       "      <td>0.137546</td>\n",
       "    </tr>\n",
       "    <tr>\n",
       "      <th>4</th>\n",
       "      <td>AIA</td>\n",
       "      <td>Anguilla</td>\n",
       "      <td>Power Industry</td>\n",
       "      <td>1970</td>\n",
       "      <td>0.000430</td>\n",
       "    </tr>\n",
       "  </tbody>\n",
       "</table>\n",
       "</div>"
      ],
      "text/plain": [
       "  Code         Name          Sector  Year  Emissions\n",
       "0  AFG  Afghanistan  Power Industry  1970   0.056962\n",
       "1  ALB      Albania  Power Industry  1970   0.600624\n",
       "2  DZA      Algeria  Power Industry  1970   1.645869\n",
       "3  AGO       Angola  Power Industry  1970   0.137546\n",
       "4  AIA     Anguilla  Power Industry  1970   0.000430"
      ]
     },
     "execution_count": 15,
     "metadata": {},
     "output_type": "execute_result"
    }
   ],
   "source": [
    "#Reads in dataset from where it was saved in datahub\n",
    "#For the Edgar CO2 emissions dataset\n",
    "df = pd.read_csv('https://raw.githubusercontent.com/openclimatedata/edgar-co2-emissions/master/data/edgar-co2-emissions.csv')\n",
    "df.head()"
   ]
  },
  {
   "cell_type": "code",
   "execution_count": 16,
   "metadata": {},
   "outputs": [
    {
     "data": {
      "text/plain": [
       "Code         False\n",
       "Name         False\n",
       "Sector       False\n",
       "Year         False\n",
       "Emissions     True\n",
       "dtype: bool"
      ]
     },
     "execution_count": 16,
     "metadata": {},
     "output_type": "execute_result"
    }
   ],
   "source": [
    "# Check for null values, only null values appear in emissions column\n",
    "df.isna().any()"
   ]
  },
  {
   "cell_type": "code",
   "execution_count": 17,
   "metadata": {},
   "outputs": [
    {
     "data": {
      "text/plain": [
       "387"
      ]
     },
     "execution_count": 17,
     "metadata": {},
     "output_type": "execute_result"
    }
   ],
   "source": [
    "# number of null/missing values in Emissions column\n",
    "df['Emissions'].isnull().sum()"
   ]
  },
  {
   "cell_type": "code",
   "execution_count": 18,
   "metadata": {},
   "outputs": [
    {
     "data": {
      "text/plain": [
       "Name\n",
       "United States                                   256355.650474\n",
       "China                                           215491.859571\n",
       "Russia                                           85982.870481\n",
       "Japan                                            55297.538635\n",
       "Germany                                          46955.011838\n",
       "                                                    ...      \n",
       "Kiribati                                             1.309827\n",
       "Falkland Islands                                     0.743025\n",
       "Anguilla                                             0.583611\n",
       "Saint Helena, Ascension and Tristan da Cunha         0.336218\n",
       "Faroes                                               0.074013\n",
       "Name: Emissions, Length: 210, dtype: float64"
      ]
     },
     "execution_count": 18,
     "metadata": {},
     "output_type": "execute_result"
    }
   ],
   "source": [
    "#Seeing the total emissions by country in order to see if the null values affect calculations, which they don’t so we will keep the null values in the dataset\n",
    "df.groupby('Name').agg('sum').sort_values(by='Emissions', ascending=False)['Emissions']"
   ]
  },
  {
   "cell_type": "code",
   "execution_count": 19,
   "metadata": {},
   "outputs": [
    {
     "data": {
      "text/plain": [
       "False"
      ]
     },
     "execution_count": 19,
     "metadata": {},
     "output_type": "execute_result"
    }
   ],
   "source": [
    "# No duplicate rows\n",
    "df.duplicated().any()"
   ]
  },
  {
   "cell_type": "code",
   "execution_count": 20,
   "metadata": {},
   "outputs": [
    {
     "data": {
      "text/html": [
       "<div>\n",
       "<style scoped>\n",
       "    .dataframe tbody tr th:only-of-type {\n",
       "        vertical-align: middle;\n",
       "    }\n",
       "\n",
       "    .dataframe tbody tr th {\n",
       "        vertical-align: top;\n",
       "    }\n",
       "\n",
       "    .dataframe thead th {\n",
       "        text-align: right;\n",
       "    }\n",
       "</style>\n",
       "<table border=\"1\" class=\"dataframe\">\n",
       "  <thead>\n",
       "    <tr style=\"text-align: right;\">\n",
       "      <th></th>\n",
       "      <th>Code</th>\n",
       "      <th>Name</th>\n",
       "      <th>Sector</th>\n",
       "      <th>Year</th>\n",
       "      <th>Emissions</th>\n",
       "    </tr>\n",
       "  </thead>\n",
       "  <tbody>\n",
       "    <tr>\n",
       "      <th>0</th>\n",
       "      <td>AFG</td>\n",
       "      <td>Afghanistan</td>\n",
       "      <td>Power Industry</td>\n",
       "      <td>1970</td>\n",
       "      <td>0.056962</td>\n",
       "    </tr>\n",
       "    <tr>\n",
       "      <th>1</th>\n",
       "      <td>ALB</td>\n",
       "      <td>Albania</td>\n",
       "      <td>Power Industry</td>\n",
       "      <td>1970</td>\n",
       "      <td>0.600624</td>\n",
       "    </tr>\n",
       "    <tr>\n",
       "      <th>2</th>\n",
       "      <td>DZA</td>\n",
       "      <td>Algeria</td>\n",
       "      <td>Power Industry</td>\n",
       "      <td>1970</td>\n",
       "      <td>1.645869</td>\n",
       "    </tr>\n",
       "    <tr>\n",
       "      <th>3</th>\n",
       "      <td>AGO</td>\n",
       "      <td>Angola</td>\n",
       "      <td>Power Industry</td>\n",
       "      <td>1970</td>\n",
       "      <td>0.137546</td>\n",
       "    </tr>\n",
       "    <tr>\n",
       "      <th>4</th>\n",
       "      <td>AIA</td>\n",
       "      <td>Anguilla</td>\n",
       "      <td>Power Industry</td>\n",
       "      <td>1970</td>\n",
       "      <td>0.000430</td>\n",
       "    </tr>\n",
       "  </tbody>\n",
       "</table>\n",
       "</div>"
      ],
      "text/plain": [
       "  Code         Name          Sector  Year  Emissions\n",
       "0  AFG  Afghanistan  Power Industry  1970   0.056962\n",
       "1  ALB      Albania  Power Industry  1970   0.600624\n",
       "2  DZA      Algeria  Power Industry  1970   1.645869\n",
       "3  AGO       Angola  Power Industry  1970   0.137546\n",
       "4  AIA     Anguilla  Power Industry  1970   0.000430"
      ]
     },
     "execution_count": 20,
     "metadata": {},
     "output_type": "execute_result"
    }
   ],
   "source": [
    "df.head()"
   ]
  },
  {
   "cell_type": "code",
   "execution_count": 21,
   "metadata": {},
   "outputs": [
    {
     "data": {
      "text/plain": [
       "<AxesSubplot:ylabel='Frequency'>"
      ]
     },
     "execution_count": 21,
     "metadata": {},
     "output_type": "execute_result"
    },
    {
     "data": {
      "image/png": "[encoded data removed]",
      "text/plain": [
       "<Figure size 432x288 with 1 Axes>"
      ]
     },
     "metadata": {
      "needs_background": "light"
     },
     "output_type": "display_data"
    }
   ],
   "source": [
    "# check distribution of years\n",
    "df['Year'].plot(kind='hist')"
   ]
  },
  {
   "cell_type": "code",
   "execution_count": 22,
   "metadata": {},
   "outputs": [
    {
     "data": {
      "text/plain": [
       "array(['AFG', 'ALB', 'DZA', 'AGO', 'AIA', 'ATG', 'ARG', 'ARM', 'ABW',\n",
       "       'AUS', 'AUT', 'AZE', 'BHS', 'BHR', 'BGD', 'BRB', 'BLR', 'BEL',\n",
       "       'BLZ', 'BEN', 'BMU', 'BTN', 'BOL', 'BIH', 'BWA', 'BRA', 'VGB',\n",
       "       'BRN', 'BGR', 'BFA', 'BDI', 'KHM', 'CMR', 'CAN', 'CPV', 'CYM',\n",
       "       'CAF', 'TCD', 'CHL', 'CHN', 'COL', 'COM', 'COG', 'COK', 'CRI',\n",
       "       'CIV', 'HRV', 'CUB', 'CUW', 'CYP', 'CZE', 'COD', 'DNK', 'DJI',\n",
       "       'DMA', 'DOM', 'ECU', 'EGY', 'SLV', 'GNQ', 'ERI', 'EST', 'SWZ',\n",
       "       'ETH', 'FLK', 'FJI', 'FIN', 'FRA_MCO', 'GUF', 'PYF', 'GAB', 'GEO',\n",
       "       'DEU', 'GHA', 'GIB', 'GRC', 'GRL', 'GRD', 'GLP', 'GTM', 'GIN',\n",
       "       'GNB', 'GUY', 'HTI', 'HND', 'HKG', 'HUN', 'ISL', 'IND', 'IDN',\n",
       "       'IRN', 'IRQ', 'IRL', 'ISR_PSE', 'ITA_SMR_VAT', 'JAM', 'JPN', 'JOR',\n",
       "       'KAZ', 'KEN', 'KIR', 'KWT', 'KGZ', 'LAO', 'LVA', 'LBN', 'LSO',\n",
       "       'LBR', 'LBY', 'LTU', 'LUX', 'MAC', 'MDG', 'MWI', 'MYS', 'MDV',\n",
       "       'MLI', 'MLT', 'MTQ', 'MRT', 'MUS', 'MEX', 'MDA', 'MNG', 'MAR',\n",
       "       'MOZ', 'MMR', 'NAM', 'NPL', 'NLD', 'NCL', 'NZL', 'NIC', 'NER',\n",
       "       'NGA', 'PRK', 'MKD', 'NOR', 'OMN', 'PAK', 'PLW', 'PAN', 'PNG',\n",
       "       'PRY', 'PER', 'PHL', 'POL', 'PRT', 'PRI', 'QAT', 'REU', 'ROU',\n",
       "       'RUS', 'RWA', 'SHN', 'KNA', 'LCA', 'SPM', 'VCT', 'WSM', 'STP',\n",
       "       'SAU', 'SEN', 'CSXX', 'SYC', 'SLE', 'SGP', 'SVK', 'SVN', 'SLB',\n",
       "       'SOM', 'ZAF', 'KOR', 'ESP_AND', 'LKA', 'SDN_SSD', 'SUR', 'SWE',\n",
       "       'CHE_LIE', 'SYR', 'TWN', 'TJK', 'TZA', 'THA', 'GMB', 'TLS', 'TGO',\n",
       "       'TON', 'TTO', 'TUN', 'TUR', 'TKM', 'TCA', 'UGA', 'UKR', 'ARE',\n",
       "       'GBR', 'USA', 'URY', 'UZB', 'VUT', 'VEN', 'VNM', 'ESH', 'YEM',\n",
       "       'ZMB', 'ZWE', 'FRO', 'AIR', 'SEA'], dtype=object)"
      ]
     },
     "execution_count": 22,
     "metadata": {},
     "output_type": "execute_result"
    }
   ],
   "source": [
    "# check distribution of countries\n",
    "df['Code'].unique()"
   ]
  },
  {
   "cell_type": "code",
   "execution_count": 23,
   "metadata": {},
   "outputs": [
    {
     "data": {
      "text/plain": [
       "<AxesSubplot:>"
      ]
     },
     "execution_count": 23,
     "metadata": {},
     "output_type": "execute_result"
    },
    {
     "data": {
      "image/png": "[encoded data removed]",
      "text/plain": [
       "<Figure size 432x288 with 1 Axes>"
      ]
     },
     "metadata": {
      "needs_background": "light"
     },
     "output_type": "display_data"
    }
   ],
   "source": [
    "df['Code'].value_counts().nlargest(10).plot(kind='bar')"
   ]
  },
  {
   "cell_type": "code",
   "execution_count": 24,
   "metadata": {},
   "outputs": [
    {
     "name": "stdout",
     "output_type": "stream",
     "text": [
      "210\n",
      "210\n"
     ]
    }
   ],
   "source": [
    "# ensure one to one mapping between country names and codes\n",
    "print(df['Name'].nunique())\n",
    "print(df['Code'].nunique())"
   ]
  },
  {
   "cell_type": "code",
   "execution_count": 25,
   "metadata": {},
   "outputs": [
    {
     "data": {
      "text/plain": [
       "Transport                      10241\n",
       "Other sectors                  10192\n",
       "Power Industry                 10143\n",
       "Buildings                      10094\n",
       "Other industrial combustion    10094\n",
       "Name: Sector, dtype: int64"
      ]
     },
     "execution_count": 25,
     "metadata": {},
     "output_type": "execute_result"
    }
   ],
   "source": [
    "# check sector value counts\n",
    "df['Sector'].value_counts()"
   ]
  },
  {
   "cell_type": "markdown",
   "metadata": {},
   "source": [
    "# Data Analysis & Results"
   ]
  },
  {
   "cell_type": "markdown",
   "metadata": {},
   "source": [
    "## EDA"
   ]
  },
  {
   "cell_type": "markdown",
   "metadata": {},
   "source": [
    "### Climate Policy Dataset"
   ]
  },
  {
   "cell_type": "markdown",
   "metadata": {},
   "source": [
    "**Structure**: This dataset is a single table stored in a csv format (tabular, semi-structured data), and has 4754 unique observations with 8 variables (columns)."
   ]
  },
  {
   "cell_type": "code",
   "execution_count": 26,
   "metadata": {},
   "outputs": [
    {
     "data": {
      "text/plain": [
       "(4754, 8)"
      ]
     },
     "execution_count": 26,
     "metadata": {},
     "output_type": "execute_result"
    }
   ],
   "source": [
    "# view the shape of the climate data\n",
    "climate_policy_data.shape"
   ]
  },
  {
   "cell_type": "markdown",
   "metadata": {},
   "source": [
    "**Granularity**: Each observation in this dataframe represents a climate policy passed by a national government."
   ]
  },
  {
   "cell_type": "code",
   "execution_count": 27,
   "metadata": {},
   "outputs": [
    {
     "data": {
      "text/html": [
       "<div>\n",
       "<style scoped>\n",
       "    .dataframe tbody tr th:only-of-type {\n",
       "        vertical-align: middle;\n",
       "    }\n",
       "\n",
       "    .dataframe tbody tr th {\n",
       "        vertical-align: top;\n",
       "    }\n",
       "\n",
       "    .dataframe thead th {\n",
       "        text-align: right;\n",
       "    }\n",
       "</style>\n",
       "<table border=\"1\" class=\"dataframe\">\n",
       "  <thead>\n",
       "    <tr style=\"text-align: right;\">\n",
       "      <th></th>\n",
       "      <th>Country ISO</th>\n",
       "      <th>Policy name</th>\n",
       "      <th>Policy Title</th>\n",
       "      <th>Country</th>\n",
       "      <th>Sector name</th>\n",
       "      <th>Policy type</th>\n",
       "      <th>Date of decision</th>\n",
       "      <th>Policy objective</th>\n",
       "    </tr>\n",
       "  </thead>\n",
       "  <tbody>\n",
       "    <tr>\n",
       "      <th>0</th>\n",
       "      <td>USA</td>\n",
       "      <td>Nationally Determined Contribution – NDC Unite...</td>\n",
       "      <td>Nationally Determined Contribution - NDC</td>\n",
       "      <td>United States of America</td>\n",
       "      <td>General</td>\n",
       "      <td>Energy efficiency, Energy service demand reduc...</td>\n",
       "      <td>2021.0</td>\n",
       "      <td>Mitigation</td>\n",
       "    </tr>\n",
       "    <tr>\n",
       "      <th>1</th>\n",
       "      <td>BIH</td>\n",
       "      <td>Nationally Determined Contribution – NDC Bosni...</td>\n",
       "      <td>Nationally Determined Contribution - NDC</td>\n",
       "      <td>Bosnia and Herzegovina</td>\n",
       "      <td>General</td>\n",
       "      <td>Energy efficiency, Energy service demand reduc...</td>\n",
       "      <td>2021.0</td>\n",
       "      <td>Adaptation, Mitigation</td>\n",
       "    </tr>\n",
       "    <tr>\n",
       "      <th>2</th>\n",
       "      <td>MKD</td>\n",
       "      <td>Nationally Determined Contribution – NDC Maced...</td>\n",
       "      <td>Nationally Determined Contribution - NDC</td>\n",
       "      <td>Macedonia, the former Yugoslav Republic of</td>\n",
       "      <td>General</td>\n",
       "      <td>Energy efficiency, Energy service demand reduc...</td>\n",
       "      <td>2021.0</td>\n",
       "      <td>Adaptation, Mitigation</td>\n",
       "    </tr>\n",
       "    <tr>\n",
       "      <th>3</th>\n",
       "      <td>PHL</td>\n",
       "      <td>Nationally Determined Contribution – NDC Phili...</td>\n",
       "      <td>Nationally Determined Contribution - NDC</td>\n",
       "      <td>Philippines</td>\n",
       "      <td>General</td>\n",
       "      <td>Energy efficiency, Energy service demand reduc...</td>\n",
       "      <td>2021.0</td>\n",
       "      <td>Adaptation, Mitigation</td>\n",
       "    </tr>\n",
       "    <tr>\n",
       "      <th>4</th>\n",
       "      <td>CPV</td>\n",
       "      <td>Nationally Determined Contribution – NDC Cape ...</td>\n",
       "      <td>Nationally Determined Contribution - NDC</td>\n",
       "      <td>Cape Verde</td>\n",
       "      <td>General</td>\n",
       "      <td>Energy efficiency, Energy service demand reduc...</td>\n",
       "      <td>2021.0</td>\n",
       "      <td>Adaptation, Mitigation</td>\n",
       "    </tr>\n",
       "  </tbody>\n",
       "</table>\n",
       "</div>"
      ],
      "text/plain": [
       "  Country ISO                                        Policy name  \\\n",
       "0         USA  Nationally Determined Contribution – NDC Unite...   \n",
       "1         BIH  Nationally Determined Contribution – NDC Bosni...   \n",
       "2         MKD  Nationally Determined Contribution – NDC Maced...   \n",
       "3         PHL  Nationally Determined Contribution – NDC Phili...   \n",
       "4         CPV  Nationally Determined Contribution – NDC Cape ...   \n",
       "\n",
       "                               Policy Title  \\\n",
       "0  Nationally Determined Contribution - NDC   \n",
       "1  Nationally Determined Contribution - NDC   \n",
       "2  Nationally Determined Contribution - NDC   \n",
       "3  Nationally Determined Contribution - NDC   \n",
       "4  Nationally Determined Contribution - NDC   \n",
       "\n",
       "                                      Country Sector name  \\\n",
       "0                    United States of America     General   \n",
       "1                      Bosnia and Herzegovina     General   \n",
       "2  Macedonia, the former Yugoslav Republic of     General   \n",
       "3                                 Philippines     General   \n",
       "4                                  Cape Verde     General   \n",
       "\n",
       "                                         Policy type  Date of decision  \\\n",
       "0  Energy efficiency, Energy service demand reduc...            2021.0   \n",
       "1  Energy efficiency, Energy service demand reduc...            2021.0   \n",
       "2  Energy efficiency, Energy service demand reduc...            2021.0   \n",
       "3  Energy efficiency, Energy service demand reduc...            2021.0   \n",
       "4  Energy efficiency, Energy service demand reduc...            2021.0   \n",
       "\n",
       "         Policy objective  \n",
       "0              Mitigation  \n",
       "1  Adaptation, Mitigation  \n",
       "2  Adaptation, Mitigation  \n",
       "3  Adaptation, Mitigation  \n",
       "4  Adaptation, Mitigation  "
      ]
     },
     "execution_count": 27,
     "metadata": {},
     "output_type": "execute_result"
    }
   ],
   "source": [
    "# preview dataframe to understand the granularity\n",
    "climate_policy_data.head()"
   ]
  },
  {
   "cell_type": "markdown",
   "metadata": {},
   "source": [
    "**Scope**: Overall, the data is mostly complete, but has some missingness in the sector name, policy type, and policy objective columns. It seems that missingness occurs more in more general policies and is related to the other columns with missingness, but there is also some randomness in the missingness. The only quantitative variable is the date of decision, which based on descriptive statistics and a histogram, appears to have a left-skewed distribution. There are 98 outlier years, but these outliers should remain in the dataset since they are only outliers due to an increasing amount of recent climate policies. A barplot of the 20 countries with the most climate policies passed reveals that the United States passes the most climate policies, with roughly 425 policies passed. \n",
    "\n",
    "**Temporality**: The left-skewed distribution of decision dates indicates more policies in recent years. This is likely due to increasing awareness surrounding climate change in recent years. The data are presented on a year level, beginning around 1930 and ranging all the way into the present (2021)."
   ]
  },
  {
   "cell_type": "code",
   "execution_count": 28,
   "metadata": {},
   "outputs": [
    {
     "data": {
      "text/plain": [
       "Country ISO           0\n",
       "Policy name           0\n",
       "Policy Title          0\n",
       "Country               0\n",
       "Sector name         391\n",
       "Policy type         461\n",
       "Date of decision      0\n",
       "Policy objective     59\n",
       "dtype: int64"
      ]
     },
     "execution_count": 28,
     "metadata": {},
     "output_type": "execute_result"
    }
   ],
   "source": [
    "# summarize data missingness\n",
    "climate_policy_data.isna().sum()"
   ]
  },
  {
   "cell_type": "code",
   "execution_count": 29,
   "metadata": {},
   "outputs": [
    {
     "data": {
      "text/html": [
       "<div>\n",
       "<style scoped>\n",
       "    .dataframe tbody tr th:only-of-type {\n",
       "        vertical-align: middle;\n",
       "    }\n",
       "\n",
       "    .dataframe tbody tr th {\n",
       "        vertical-align: top;\n",
       "    }\n",
       "\n",
       "    .dataframe thead th {\n",
       "        text-align: right;\n",
       "    }\n",
       "</style>\n",
       "<table border=\"1\" class=\"dataframe\">\n",
       "  <thead>\n",
       "    <tr style=\"text-align: right;\">\n",
       "      <th></th>\n",
       "      <th>Country ISO</th>\n",
       "      <th>Policy name</th>\n",
       "      <th>Policy Title</th>\n",
       "      <th>Country</th>\n",
       "      <th>Sector name</th>\n",
       "      <th>Policy type</th>\n",
       "      <th>Date of decision</th>\n",
       "      <th>Policy objective</th>\n",
       "    </tr>\n",
       "  </thead>\n",
       "  <tbody>\n",
       "    <tr>\n",
       "      <th>100</th>\n",
       "      <td>CMR</td>\n",
       "      <td>Creation of the Steering Committee for activit...</td>\n",
       "      <td>Creation of the Steering Committee for activit...</td>\n",
       "      <td>Cameroon</td>\n",
       "      <td>NaN</td>\n",
       "      <td>NaN</td>\n",
       "      <td>2012.0</td>\n",
       "      <td>Mitigation</td>\n",
       "    </tr>\n",
       "    <tr>\n",
       "      <th>101</th>\n",
       "      <td>GRC</td>\n",
       "      <td>Compensation to carbon intensive industries (s...</td>\n",
       "      <td>Compensation to carbon intensive industries (s...</td>\n",
       "      <td>Greece</td>\n",
       "      <td>NaN</td>\n",
       "      <td>NaN</td>\n",
       "      <td>2014.0</td>\n",
       "      <td>Mitigation</td>\n",
       "    </tr>\n",
       "    <tr>\n",
       "      <th>429</th>\n",
       "      <td>ESP</td>\n",
       "      <td>Resolution of 10 April 2017 of the State Secre...</td>\n",
       "      <td>Resolution of the State Secretary of Energy</td>\n",
       "      <td>Spain</td>\n",
       "      <td>NaN</td>\n",
       "      <td>Renewables</td>\n",
       "      <td>2017.0</td>\n",
       "      <td>Mitigation</td>\n",
       "    </tr>\n",
       "    <tr>\n",
       "      <th>626</th>\n",
       "      <td>UZB</td>\n",
       "      <td>Resolution on Further Development of Renewable...</td>\n",
       "      <td>Resolution on Further Development of Renewable...</td>\n",
       "      <td>Uzbekistan</td>\n",
       "      <td>NaN</td>\n",
       "      <td>Renewables</td>\n",
       "      <td>2016.0</td>\n",
       "      <td>Mitigation</td>\n",
       "    </tr>\n",
       "    <tr>\n",
       "      <th>813</th>\n",
       "      <td>ESP</td>\n",
       "      <td>FNEE: Aid Programme for Desalination Plants Sp...</td>\n",
       "      <td>FNEE: Aid Programme for Desalination Plants</td>\n",
       "      <td>Spain</td>\n",
       "      <td>NaN</td>\n",
       "      <td>Energy efficiency</td>\n",
       "      <td>2015.0</td>\n",
       "      <td>Mitigation</td>\n",
       "    </tr>\n",
       "  </tbody>\n",
       "</table>\n",
       "</div>"
      ],
      "text/plain": [
       "    Country ISO                                        Policy name  \\\n",
       "100         CMR  Creation of the Steering Committee for activit...   \n",
       "101         GRC  Compensation to carbon intensive industries (s...   \n",
       "429         ESP  Resolution of 10 April 2017 of the State Secre...   \n",
       "626         UZB  Resolution on Further Development of Renewable...   \n",
       "813         ESP  FNEE: Aid Programme for Desalination Plants Sp...   \n",
       "\n",
       "                                          Policy Title     Country  \\\n",
       "100  Creation of the Steering Committee for activit...    Cameroon   \n",
       "101  Compensation to carbon intensive industries (s...      Greece   \n",
       "429        Resolution of the State Secretary of Energy       Spain   \n",
       "626  Resolution on Further Development of Renewable...  Uzbekistan   \n",
       "813        FNEE: Aid Programme for Desalination Plants       Spain   \n",
       "\n",
       "    Sector name        Policy type  Date of decision Policy objective  \n",
       "100         NaN                NaN            2012.0       Mitigation  \n",
       "101         NaN                NaN            2014.0       Mitigation  \n",
       "429         NaN         Renewables            2017.0       Mitigation  \n",
       "626         NaN         Renewables            2016.0       Mitigation  \n",
       "813         NaN  Energy efficiency            2015.0       Mitigation  "
      ]
     },
     "execution_count": 29,
     "metadata": {},
     "output_type": "execute_result"
    }
   ],
   "source": [
    "# analyze sector name missingness\n",
    "climate_policy_data[climate_policy_data['Sector name'].isna()].head()"
   ]
  },
  {
   "cell_type": "code",
   "execution_count": 30,
   "metadata": {},
   "outputs": [
    {
     "data": {
      "text/html": [
       "<div>\n",
       "<style scoped>\n",
       "    .dataframe tbody tr th:only-of-type {\n",
       "        vertical-align: middle;\n",
       "    }\n",
       "\n",
       "    .dataframe tbody tr th {\n",
       "        vertical-align: top;\n",
       "    }\n",
       "\n",
       "    .dataframe thead th {\n",
       "        text-align: right;\n",
       "    }\n",
       "</style>\n",
       "<table border=\"1\" class=\"dataframe\">\n",
       "  <thead>\n",
       "    <tr style=\"text-align: right;\">\n",
       "      <th></th>\n",
       "      <th>Country ISO</th>\n",
       "      <th>Policy name</th>\n",
       "      <th>Policy Title</th>\n",
       "      <th>Country</th>\n",
       "      <th>Sector name</th>\n",
       "      <th>Policy type</th>\n",
       "      <th>Date of decision</th>\n",
       "      <th>Policy objective</th>\n",
       "    </tr>\n",
       "  </thead>\n",
       "  <tbody>\n",
       "    <tr>\n",
       "      <th>100</th>\n",
       "      <td>CMR</td>\n",
       "      <td>Creation of the Steering Committee for activit...</td>\n",
       "      <td>Creation of the Steering Committee for activit...</td>\n",
       "      <td>Cameroon</td>\n",
       "      <td>NaN</td>\n",
       "      <td>NaN</td>\n",
       "      <td>2012.0</td>\n",
       "      <td>Mitigation</td>\n",
       "    </tr>\n",
       "    <tr>\n",
       "      <th>101</th>\n",
       "      <td>GRC</td>\n",
       "      <td>Compensation to carbon intensive industries (s...</td>\n",
       "      <td>Compensation to carbon intensive industries (s...</td>\n",
       "      <td>Greece</td>\n",
       "      <td>NaN</td>\n",
       "      <td>NaN</td>\n",
       "      <td>2014.0</td>\n",
       "      <td>Mitigation</td>\n",
       "    </tr>\n",
       "    <tr>\n",
       "      <th>131</th>\n",
       "      <td>CRI</td>\n",
       "      <td>Intersectoral agreement to reduce emissions in...</td>\n",
       "      <td>Intersectoral agreement to reduce emissions in...</td>\n",
       "      <td>Costa Rica</td>\n",
       "      <td>Transport</td>\n",
       "      <td>NaN</td>\n",
       "      <td>2019.0</td>\n",
       "      <td>Mitigation, Energy access</td>\n",
       "    </tr>\n",
       "    <tr>\n",
       "      <th>152</th>\n",
       "      <td>DNK</td>\n",
       "      <td>Climate Act Denmark (2019)</td>\n",
       "      <td>Climate Act</td>\n",
       "      <td>Denmark</td>\n",
       "      <td>General</td>\n",
       "      <td>NaN</td>\n",
       "      <td>2019.0</td>\n",
       "      <td>Mitigation</td>\n",
       "    </tr>\n",
       "    <tr>\n",
       "      <th>167</th>\n",
       "      <td>SWE</td>\n",
       "      <td>Ordinance (2019:525) on State Aid for the Inst...</td>\n",
       "      <td>Ordinance (2019:525) on State Aid for the Inst...</td>\n",
       "      <td>Sweden</td>\n",
       "      <td>Transport, Low-emissions mobility</td>\n",
       "      <td>NaN</td>\n",
       "      <td>2019.0</td>\n",
       "      <td>Mitigation</td>\n",
       "    </tr>\n",
       "  </tbody>\n",
       "</table>\n",
       "</div>"
      ],
      "text/plain": [
       "    Country ISO                                        Policy name  \\\n",
       "100         CMR  Creation of the Steering Committee for activit...   \n",
       "101         GRC  Compensation to carbon intensive industries (s...   \n",
       "131         CRI  Intersectoral agreement to reduce emissions in...   \n",
       "152         DNK                         Climate Act Denmark (2019)   \n",
       "167         SWE  Ordinance (2019:525) on State Aid for the Inst...   \n",
       "\n",
       "                                          Policy Title     Country  \\\n",
       "100  Creation of the Steering Committee for activit...    Cameroon   \n",
       "101  Compensation to carbon intensive industries (s...      Greece   \n",
       "131  Intersectoral agreement to reduce emissions in...  Costa Rica   \n",
       "152                                        Climate Act     Denmark   \n",
       "167  Ordinance (2019:525) on State Aid for the Inst...      Sweden   \n",
       "\n",
       "                           Sector name Policy type  Date of decision  \\\n",
       "100                                NaN         NaN            2012.0   \n",
       "101                                NaN         NaN            2014.0   \n",
       "131                          Transport         NaN            2019.0   \n",
       "152                            General         NaN            2019.0   \n",
       "167  Transport, Low-emissions mobility         NaN            2019.0   \n",
       "\n",
       "              Policy objective  \n",
       "100                 Mitigation  \n",
       "101                 Mitigation  \n",
       "131  Mitigation, Energy access  \n",
       "152                 Mitigation  \n",
       "167                 Mitigation  "
      ]
     },
     "execution_count": 30,
     "metadata": {},
     "output_type": "execute_result"
    }
   ],
   "source": [
    "# analyze policy type missingness\n",
    "climate_policy_data[climate_policy_data['Policy type'].isna()].head()"
   ]
  },
  {
   "cell_type": "code",
   "execution_count": 31,
   "metadata": {},
   "outputs": [
    {
     "data": {
      "text/html": [
       "<div>\n",
       "<style scoped>\n",
       "    .dataframe tbody tr th:only-of-type {\n",
       "        vertical-align: middle;\n",
       "    }\n",
       "\n",
       "    .dataframe tbody tr th {\n",
       "        vertical-align: top;\n",
       "    }\n",
       "\n",
       "    .dataframe thead th {\n",
       "        text-align: right;\n",
       "    }\n",
       "</style>\n",
       "<table border=\"1\" class=\"dataframe\">\n",
       "  <thead>\n",
       "    <tr style=\"text-align: right;\">\n",
       "      <th></th>\n",
       "      <th>Country ISO</th>\n",
       "      <th>Policy name</th>\n",
       "      <th>Policy Title</th>\n",
       "      <th>Country</th>\n",
       "      <th>Sector name</th>\n",
       "      <th>Policy type</th>\n",
       "      <th>Date of decision</th>\n",
       "      <th>Policy objective</th>\n",
       "    </tr>\n",
       "  </thead>\n",
       "  <tbody>\n",
       "    <tr>\n",
       "      <th>18</th>\n",
       "      <td>ZAF</td>\n",
       "      <td>Biofuels Regulatory Framework (BRF) to impleme...</td>\n",
       "      <td>Biofuels Regulatory Framework (BRF) to impleme...</td>\n",
       "      <td>South Africa</td>\n",
       "      <td>Transport</td>\n",
       "      <td>Renewables</td>\n",
       "      <td>2020.0</td>\n",
       "      <td>NaN</td>\n",
       "    </tr>\n",
       "    <tr>\n",
       "      <th>35</th>\n",
       "      <td>COL</td>\n",
       "      <td>Non-conventional renewable energy auction Colo...</td>\n",
       "      <td>Non-conventional renewable energy auction</td>\n",
       "      <td>Colombia</td>\n",
       "      <td>Electricity and heat, Renewables</td>\n",
       "      <td>Renewables</td>\n",
       "      <td>2019.0</td>\n",
       "      <td>NaN</td>\n",
       "    </tr>\n",
       "    <tr>\n",
       "      <th>130</th>\n",
       "      <td>ARG</td>\n",
       "      <td>Grid expansion tenders Argentina (2019)</td>\n",
       "      <td>Grid expansion tenders</td>\n",
       "      <td>Argentina</td>\n",
       "      <td>Electricity and heat</td>\n",
       "      <td>Renewables</td>\n",
       "      <td>2019.0</td>\n",
       "      <td>NaN</td>\n",
       "    </tr>\n",
       "    <tr>\n",
       "      <th>138</th>\n",
       "      <td>USA</td>\n",
       "      <td>Affordable Clean Energy (ACE) United States of...</td>\n",
       "      <td>Affordable Clean Energy (ACE)</td>\n",
       "      <td>United States of America</td>\n",
       "      <td>Electricity and heat, Coal</td>\n",
       "      <td>Energy efficiency</td>\n",
       "      <td>2019.0</td>\n",
       "      <td>NaN</td>\n",
       "    </tr>\n",
       "    <tr>\n",
       "      <th>198</th>\n",
       "      <td>CAN</td>\n",
       "      <td>Amendment 14 - Energy Efficiency Regulations -...</td>\n",
       "      <td>Amendment 14 - Energy Efficiency Regulations -...</td>\n",
       "      <td>Canada</td>\n",
       "      <td>Buildings, Appliances</td>\n",
       "      <td>Energy efficiency</td>\n",
       "      <td>2019.0</td>\n",
       "      <td>NaN</td>\n",
       "    </tr>\n",
       "  </tbody>\n",
       "</table>\n",
       "</div>"
      ],
      "text/plain": [
       "    Country ISO                                        Policy name  \\\n",
       "18          ZAF  Biofuels Regulatory Framework (BRF) to impleme...   \n",
       "35          COL  Non-conventional renewable energy auction Colo...   \n",
       "130         ARG            Grid expansion tenders Argentina (2019)   \n",
       "138         USA  Affordable Clean Energy (ACE) United States of...   \n",
       "198         CAN  Amendment 14 - Energy Efficiency Regulations -...   \n",
       "\n",
       "                                          Policy Title  \\\n",
       "18   Biofuels Regulatory Framework (BRF) to impleme...   \n",
       "35           Non-conventional renewable energy auction   \n",
       "130                             Grid expansion tenders   \n",
       "138                      Affordable Clean Energy (ACE)   \n",
       "198  Amendment 14 - Energy Efficiency Regulations -...   \n",
       "\n",
       "                      Country                       Sector name  \\\n",
       "18               South Africa                         Transport   \n",
       "35                   Colombia  Electricity and heat, Renewables   \n",
       "130                 Argentina              Electricity and heat   \n",
       "138  United States of America        Electricity and heat, Coal   \n",
       "198                    Canada             Buildings, Appliances   \n",
       "\n",
       "           Policy type  Date of decision Policy objective  \n",
       "18          Renewables            2020.0              NaN  \n",
       "35          Renewables            2019.0              NaN  \n",
       "130         Renewables            2019.0              NaN  \n",
       "138  Energy efficiency            2019.0              NaN  \n",
       "198  Energy efficiency            2019.0              NaN  "
      ]
     },
     "execution_count": 31,
     "metadata": {},
     "output_type": "execute_result"
    }
   ],
   "source": [
    "# analyze policy objective missingness\n",
    "climate_policy_data[climate_policy_data['Policy objective'].isna()].head()"
   ]
  },
  {
   "cell_type": "code",
   "execution_count": 32,
   "metadata": {},
   "outputs": [
    {
     "data": {
      "text/html": [
       "<div>\n",
       "<style scoped>\n",
       "    .dataframe tbody tr th:only-of-type {\n",
       "        vertical-align: middle;\n",
       "    }\n",
       "\n",
       "    .dataframe tbody tr th {\n",
       "        vertical-align: top;\n",
       "    }\n",
       "\n",
       "    .dataframe thead th {\n",
       "        text-align: right;\n",
       "    }\n",
       "</style>\n",
       "<table border=\"1\" class=\"dataframe\">\n",
       "  <thead>\n",
       "    <tr style=\"text-align: right;\">\n",
       "      <th></th>\n",
       "      <th>Date of decision</th>\n",
       "    </tr>\n",
       "  </thead>\n",
       "  <tbody>\n",
       "    <tr>\n",
       "      <th>count</th>\n",
       "      <td>4754.000000</td>\n",
       "    </tr>\n",
       "    <tr>\n",
       "      <th>mean</th>\n",
       "      <td>2007.921750</td>\n",
       "    </tr>\n",
       "    <tr>\n",
       "      <th>std</th>\n",
       "      <td>8.143114</td>\n",
       "    </tr>\n",
       "    <tr>\n",
       "      <th>min</th>\n",
       "      <td>1927.000000</td>\n",
       "    </tr>\n",
       "    <tr>\n",
       "      <th>25%</th>\n",
       "      <td>2004.000000</td>\n",
       "    </tr>\n",
       "    <tr>\n",
       "      <th>50%</th>\n",
       "      <td>2009.000000</td>\n",
       "    </tr>\n",
       "    <tr>\n",
       "      <th>75%</th>\n",
       "      <td>2014.000000</td>\n",
       "    </tr>\n",
       "    <tr>\n",
       "      <th>max</th>\n",
       "      <td>2021.000000</td>\n",
       "    </tr>\n",
       "  </tbody>\n",
       "</table>\n",
       "</div>"
      ],
      "text/plain": [
       "       Date of decision\n",
       "count       4754.000000\n",
       "mean        2007.921750\n",
       "std            8.143114\n",
       "min         1927.000000\n",
       "25%         2004.000000\n",
       "50%         2009.000000\n",
       "75%         2014.000000\n",
       "max         2021.000000"
      ]
     },
     "execution_count": 32,
     "metadata": {},
     "output_type": "execute_result"
    }
   ],
   "source": [
    "# preview descriptive statistics (for date of decision only)\n",
    "climate_policy_data.describe()"
   ]
  },
  {
   "cell_type": "code",
   "execution_count": 33,
   "metadata": {},
   "outputs": [
    {
     "data": {
      "text/plain": [
       "98"
      ]
     },
     "execution_count": 33,
     "metadata": {},
     "output_type": "execute_result"
    }
   ],
   "source": [
    "# count outliers in year\n",
    "iqr = 2014-2004\n",
    "lower_bound = 2004 - 1.5 * iqr \n",
    "upper_bound = 2014 + 1.5 * iqr\n",
    "((climate_policy_data['Date of decision'] > upper_bound) | (climate_policy_data['Date of decision'] < lower_bound)).sum()"
   ]
  },
  {
   "cell_type": "code",
   "execution_count": 34,
   "metadata": {},
   "outputs": [
    {
     "data": {
      "text/plain": [
       "Text(0.5, 1.0, 'Distribution for when Climate Policy Implementation Year')"
      ]
     },
     "execution_count": 34,
     "metadata": {},
     "output_type": "execute_result"
    },
    {
     "data": {
      "image/png": "[encoded data removed]",
      "text/plain": [
       "<Figure size 432x288 with 1 Axes>"
      ]
     },
     "metadata": {
      "needs_background": "light"
     },
     "output_type": "display_data"
    }
   ],
   "source": [
    "# generate plot of years to analyze values\n",
    "ax = climate_policy_data['Date of decision'].plot(kind='hist');\n",
    "ax.set_xlabel(\"Year\")\n",
    "ax.set_title(\"Distribution for when Climate Policy Implementation Year\")"
   ]
  },
  {
   "cell_type": "markdown",
   "metadata": {},
   "source": [
    "The distribution of years is left-skewed, with more policies in more recent years, likely reflective of increasing awareness of climate change."
   ]
  },
  {
   "cell_type": "code",
   "execution_count": 35,
   "metadata": {},
   "outputs": [
    {
     "data": {
      "text/plain": [
       "Text(0.5, 1.0, 'Number of Policies (20 Highest Frequencies)')"
      ]
     },
     "execution_count": 35,
     "metadata": {},
     "output_type": "execute_result"
    },
    {
     "data": {
      "image/png": "[encoded data removed]",
      "text/plain": [
       "<Figure size 432x288 with 1 Axes>"
      ]
     },
     "metadata": {
      "needs_background": "light"
     },
     "output_type": "display_data"
    }
   ],
   "source": [
    "# generate plot of top countries to analyze values\n",
    "ax = climate_policy_data['Country ISO'].value_counts().nlargest(20).plot(kind='bar');\n",
    "ax.set_xlabel(\"Country Code\")\n",
    "ax.set_ylabel(\"Number of Policies\")\n",
    "ax.set_title(\"Number of Policies (20 Highest Frequencies)\")"
   ]
  },
  {
   "cell_type": "markdown",
   "metadata": {},
   "source": [
    "The United States has the most climate policies passed, just over 400 policies. The 20 countries with the most policies all have roughly 100 policies or more."
   ]
  },
  {
   "cell_type": "code",
   "execution_count": 36,
   "metadata": {},
   "outputs": [
    {
     "data": {
      "text/plain": [
       "Text(0.5, 1.0, 'Climate Policy Type Frequency')"
      ]
     },
     "execution_count": 36,
     "metadata": {},
     "output_type": "execute_result"
    },
    {
     "data": {
      "image/png": "[encoded data removed]",
      "text/plain": [
       "<Figure size 432x288 with 1 Axes>"
      ]
     },
     "metadata": {
      "needs_background": "light"
     },
     "output_type": "display_data"
    }
   ],
   "source": [
    "# plot distribution of policy types\n",
    "ax = pd.Series(climate_policy_data['Policy type'].str.split(', ').dropna()\n",
    "          .sum()).value_counts(ascending=True).plot(kind='barh');\n",
    "ax.set_xlabel(\"Frequency\")\n",
    "ax.set_ylabel(\"Policy Type\")\n",
    "ax.set_title(\"Climate Policy Type Frequency\")"
   ]
  },
  {
   "cell_type": "markdown",
   "metadata": {},
   "source": [
    "The two most common types of policy types are energy efficiency and renewables."
   ]
  },
  {
   "cell_type": "code",
   "execution_count": 37,
   "metadata": {},
   "outputs": [
    {
     "data": {
      "text/plain": [
       "Text(0.5, 1.0, 'Frequency of Policy Objectives')"
      ]
     },
     "execution_count": 37,
     "metadata": {},
     "output_type": "execute_result"
    },
    {
     "data": {
      "image/png": "[encoded data removed]",
      "text/plain": [
       "<Figure size 432x288 with 1 Axes>"
      ]
     },
     "metadata": {
      "needs_background": "light"
     },
     "output_type": "display_data"
    }
   ],
   "source": [
    "# plot distribution of policy objective\n",
    "ax = pd.Series(climate_policy_data['Policy objective'].str.split(', ').dropna()\n",
    "          .sum()).value_counts(ascending=True).plot(kind='barh');\n",
    "ax.set_xlabel(\"Frequency\")\n",
    "ax.set_ylabel(\"Policy Objective\")\n",
    "ax.set_title(\"Frequency of Policy Objectives\")"
   ]
  },
  {
   "cell_type": "markdown",
   "metadata": {},
   "source": [
    "The most common policy objective is mitigation by far."
   ]
  },
  {
   "cell_type": "code",
   "execution_count": 38,
   "metadata": {},
   "outputs": [
    {
     "data": {
      "text/plain": [
       "Text(0.5, 1.0, 'Sector Name Frequency')"
      ]
     },
     "execution_count": 38,
     "metadata": {},
     "output_type": "execute_result"
    },
    {
     "data": {
      "image/png": "[encoded data removed]",
      "text/plain": [
       "<Figure size 432x288 with 1 Axes>"
      ]
     },
     "metadata": {
      "needs_background": "light"
     },
     "output_type": "display_data"
    }
   ],
   "source": [
    "# plot distribution of sectors\n",
    "ax = pd.Series(climate_policy_data['Sector name'].str.split(', ').dropna()\n",
    "          .sum()).value_counts(ascending=True).nlargest(20).sort_values(ascending=True).plot(kind='barh');\n",
    "ax.set_xlabel(\"Frequency\")\n",
    "ax.set_ylabel(\"Sector Name\")\n",
    "ax.set_title(\"Sector Name Frequency\")"
   ]
  },
  {
   "cell_type": "markdown",
   "metadata": {},
   "source": [
    "The five most common sectors are electricity and heat, general, transport, renewables, and buildings."
   ]
  },
  {
   "cell_type": "markdown",
   "metadata": {},
   "source": [
    "**Faithfulness**: This dataset is collected, updated, and maintained by the NewClimateInstitute and keeps track of all mitigation policies passed towards climate change. This is a reliable data source. However, since the data is only updated periodically, the specific CSV file used in this analysis might be a little bit out of date. "
   ]
  },
  {
   "cell_type": "markdown",
   "metadata": {},
   "source": [
    "### Edgar CO2 Dataset"
   ]
  },
  {
   "cell_type": "code",
   "execution_count": 39,
   "metadata": {},
   "outputs": [
    {
     "data": {
      "text/plain": [
       "Index(['Code', 'Name', 'Sector', 'Year', 'Emissions'], dtype='object')"
      ]
     },
     "execution_count": 39,
     "metadata": {},
     "output_type": "execute_result"
    }
   ],
   "source": [
    "df.columns"
   ]
  },
  {
   "cell_type": "markdown",
   "metadata": {},
   "source": [
    "**Structure of the Edgar CO2 emissions dataset:** tabular data with individual observations in rows and variables in columns\n",
    "\n",
    "\n",
    "Therefore, we do not necessarily need to change the way the data is stored. "
   ]
  },
  {
   "cell_type": "code",
   "execution_count": 40,
   "metadata": {},
   "outputs": [
    {
     "data": {
      "text/html": [
       "<div>\n",
       "<style scoped>\n",
       "    .dataframe tbody tr th:only-of-type {\n",
       "        vertical-align: middle;\n",
       "    }\n",
       "\n",
       "    .dataframe tbody tr th {\n",
       "        vertical-align: top;\n",
       "    }\n",
       "\n",
       "    .dataframe thead th {\n",
       "        text-align: right;\n",
       "    }\n",
       "</style>\n",
       "<table border=\"1\" class=\"dataframe\">\n",
       "  <thead>\n",
       "    <tr style=\"text-align: right;\">\n",
       "      <th></th>\n",
       "      <th>Code</th>\n",
       "      <th>Name</th>\n",
       "      <th>Sector</th>\n",
       "      <th>Year</th>\n",
       "      <th>Emissions</th>\n",
       "    </tr>\n",
       "  </thead>\n",
       "  <tbody>\n",
       "    <tr>\n",
       "      <th>0</th>\n",
       "      <td>AFG</td>\n",
       "      <td>Afghanistan</td>\n",
       "      <td>Power Industry</td>\n",
       "      <td>1970</td>\n",
       "      <td>0.056962</td>\n",
       "    </tr>\n",
       "    <tr>\n",
       "      <th>1</th>\n",
       "      <td>ALB</td>\n",
       "      <td>Albania</td>\n",
       "      <td>Power Industry</td>\n",
       "      <td>1970</td>\n",
       "      <td>0.600624</td>\n",
       "    </tr>\n",
       "    <tr>\n",
       "      <th>2</th>\n",
       "      <td>DZA</td>\n",
       "      <td>Algeria</td>\n",
       "      <td>Power Industry</td>\n",
       "      <td>1970</td>\n",
       "      <td>1.645869</td>\n",
       "    </tr>\n",
       "    <tr>\n",
       "      <th>3</th>\n",
       "      <td>AGO</td>\n",
       "      <td>Angola</td>\n",
       "      <td>Power Industry</td>\n",
       "      <td>1970</td>\n",
       "      <td>0.137546</td>\n",
       "    </tr>\n",
       "    <tr>\n",
       "      <th>4</th>\n",
       "      <td>AIA</td>\n",
       "      <td>Anguilla</td>\n",
       "      <td>Power Industry</td>\n",
       "      <td>1970</td>\n",
       "      <td>0.000430</td>\n",
       "    </tr>\n",
       "  </tbody>\n",
       "</table>\n",
       "</div>"
      ],
      "text/plain": [
       "  Code         Name          Sector  Year  Emissions\n",
       "0  AFG  Afghanistan  Power Industry  1970   0.056962\n",
       "1  ALB      Albania  Power Industry  1970   0.600624\n",
       "2  DZA      Algeria  Power Industry  1970   1.645869\n",
       "3  AGO       Angola  Power Industry  1970   0.137546\n",
       "4  AIA     Anguilla  Power Industry  1970   0.000430"
      ]
     },
     "execution_count": 40,
     "metadata": {},
     "output_type": "execute_result"
    }
   ],
   "source": [
    "df.head()"
   ]
  },
  {
   "cell_type": "markdown",
   "metadata": {},
   "source": [
    "**Granularity of Edgar CO2 emissions dataset:** group-level over time "
   ]
  },
  {
   "cell_type": "code",
   "execution_count": 41,
   "metadata": {},
   "outputs": [
    {
     "name": "stdout",
     "output_type": "stream",
     "text": [
      "(rows, columns): (50764, 5)\n",
      "Number of countries in dataset: 210\n"
     ]
    }
   ],
   "source": [
    "print('(rows, columns):',(df.shape))\n",
    "print('Number of countries in dataset:',(df['Code'].nunique()))"
   ]
  },
  {
   "cell_type": "markdown",
   "metadata": {},
   "source": [
    "**Scope of Edgar CO2 emissions dataset:** According to Google and the ISO Country Code standards, there are 249 countries in the world with 194 of them being independent. Therefore, our data has a relatively large scope. Although we cannot definitively say that we can understand all CO2 emissions from every country using this data, the scope of our question is still relevant. "
   ]
  },
  {
   "cell_type": "code",
   "execution_count": 42,
   "metadata": {},
   "outputs": [
    {
     "name": "stdout",
     "output_type": "stream",
     "text": [
      "Number of years: 49\n",
      "Start year: 1970\n",
      "End year: 2018\n"
     ]
    }
   ],
   "source": [
    "print('Number of years:',(df['Year'].nunique()))\n",
    "print('Start year:',(df['Year'][0]))\n",
    "print('End year:',(df['Year'][len(df)-1]))"
   ]
  },
  {
   "cell_type": "markdown",
   "metadata": {},
   "source": [
    "**Temporality of Edgar CO2 emissions dataset:** We have data about CO2 emissions from 1970 to 2018 about 210 countries. "
   ]
  },
  {
   "cell_type": "markdown",
   "metadata": {},
   "source": [
    "**Faithfulness of Edgar CO2 emissions dataset:** Our data comes from EDGAR, the Emissions Database for Global Atmospheric Research. According to EDGAR's website, they provide independent emission data estimates regardless of what individual countries reported or by the UNFCCC, the United Nationals Framework Convention on Climate Change, using a consistent methodology. We can say that our data is accurate as each observation is not self-reported and is collected in a systematic fashion. "
   ]
  },
  {
   "cell_type": "code",
   "execution_count": 43,
   "metadata": {},
   "outputs": [
    {
     "data": {
      "text/plain": [
       "True"
      ]
     },
     "execution_count": 43,
     "metadata": {},
     "output_type": "execute_result"
    }
   ],
   "source": [
    "# Checking if there is 49 observations for each country from each sector \n",
    "# grouping sectors to see if each has 49 observations \n",
    "\n",
    "all(df.groupby('Code').Sector.value_counts().eq(49))"
   ]
  },
  {
   "cell_type": "markdown",
   "metadata": {},
   "source": [
    "We now will explore countries with the highest and lowest emissions."
   ]
  },
  {
   "cell_type": "code",
   "execution_count": 44,
   "metadata": {
    "scrolled": true
   },
   "outputs": [
    {
     "data": {
      "text/plain": [
       "(      Code                    Name                       Sector  Year  \\\n",
       " 152    RUS                  Russia               Power Industry  1970   \n",
       " 197    USA           United States               Power Industry  1970   \n",
       " 403    USA           United States                    Buildings  1970   \n",
       " 610    USA           United States                    Transport  1970   \n",
       " 816    USA           United States  Other industrial combustion  1970   \n",
       " ...    ...                     ...                          ...   ...   \n",
       " 50435  IND                   India  Other industrial combustion  2018   \n",
       " 50544  USA           United States  Other industrial combustion  2018   \n",
       " 50593  CHN                   China                Other sectors  2018   \n",
       " 50762  AIR  International Aviation                    Transport  2018   \n",
       " 50763  SEA  International Shipping                    Transport  2018   \n",
       " \n",
       "          Emissions  \n",
       " 152     508.338492  \n",
       " 197    1079.968842  \n",
       " 403     883.543122  \n",
       " 610    1039.772133  \n",
       " 816    1397.918113  \n",
       " ...            ...  \n",
       " 50435   671.937078  \n",
       " 50544   731.144916  \n",
       " 50593  1909.858769  \n",
       " 50762   564.612452  \n",
       " 50763   697.490442  \n",
       " \n",
       " [422 rows x 5 columns],\n",
       "       Code                      Name          Sector  Year  Emissions\n",
       " 0      AFG               Afghanistan  Power Industry  1970   0.056962\n",
       " 1      ALB                   Albania  Power Industry  1970   0.600624\n",
       " 3      AGO                    Angola  Power Industry  1970   0.137546\n",
       " 4      AIA                  Anguilla  Power Industry  1970   0.000430\n",
       " 5      ATG       Antigua and Barbuda  Power Industry  1970   0.053822\n",
       " ...    ...                       ...             ...   ...        ...\n",
       " 50742  TON                     Tonga   Other sectors  2018   0.000464\n",
       " 50747  TCA  Turks and Caicos Islands   Other sectors  2018   0.000201\n",
       " 50753  URY                   Uruguay   Other sectors  2018   0.502451\n",
       " 50755  VUT                   Vanuatu   Other sectors  2018   0.003031\n",
       " 50758  ESH            Western Sahara   Other sectors  2018   0.001181\n",
       " \n",
       " [25436 rows x 5 columns])"
      ]
     },
     "execution_count": 44,
     "metadata": {},
     "output_type": "execute_result"
    }
   ],
   "source": [
    "#creating a dataframe of the countries with the highest emissions from 1970-2018 \n",
    "#also creating a separate dataframe of countries with the very low emissions \n",
    "df_highest = df[df['Emissions'] >= 500]\n",
    "df_lowest = df[df['Emissions'] <= 1]\n",
    "df_highest, df_lowest"
   ]
  },
  {
   "cell_type": "markdown",
   "metadata": {},
   "source": [
    "**Scope of lowest emissions dataframe:** This dataframe contains 25,436 instances of countries with emission levels of 1 or below in a given year, which is a substantially larger portion of the original dataset.\n",
    "\n",
    "This can also be noted through using the describe method on the dataframe as the average emissions is very low at 24.5 Mt, while the max is around 4585 Mt."
   ]
  },
  {
   "cell_type": "code",
   "execution_count": 45,
   "metadata": {},
   "outputs": [
    {
     "data": {
      "text/html": [
       "<div>\n",
       "<style scoped>\n",
       "    .dataframe tbody tr th:only-of-type {\n",
       "        vertical-align: middle;\n",
       "    }\n",
       "\n",
       "    .dataframe tbody tr th {\n",
       "        vertical-align: top;\n",
       "    }\n",
       "\n",
       "    .dataframe thead th {\n",
       "        text-align: right;\n",
       "    }\n",
       "</style>\n",
       "<table border=\"1\" class=\"dataframe\">\n",
       "  <thead>\n",
       "    <tr style=\"text-align: right;\">\n",
       "      <th></th>\n",
       "      <th>Year</th>\n",
       "      <th>Emissions</th>\n",
       "    </tr>\n",
       "  </thead>\n",
       "  <tbody>\n",
       "    <tr>\n",
       "      <th>count</th>\n",
       "      <td>50764.000000</td>\n",
       "      <td>5.037700e+04</td>\n",
       "    </tr>\n",
       "    <tr>\n",
       "      <th>mean</th>\n",
       "      <td>1994.000000</td>\n",
       "      <td>2.448694e+01</td>\n",
       "    </tr>\n",
       "    <tr>\n",
       "      <th>std</th>\n",
       "      <td>14.142275</td>\n",
       "      <td>1.352670e+02</td>\n",
       "    </tr>\n",
       "    <tr>\n",
       "      <th>min</th>\n",
       "      <td>1970.000000</td>\n",
       "      <td>1.931770e-07</td>\n",
       "    </tr>\n",
       "    <tr>\n",
       "      <th>25%</th>\n",
       "      <td>1982.000000</td>\n",
       "      <td>8.864667e-02</td>\n",
       "    </tr>\n",
       "    <tr>\n",
       "      <th>50%</th>\n",
       "      <td>1994.000000</td>\n",
       "      <td>9.520414e-01</td>\n",
       "    </tr>\n",
       "    <tr>\n",
       "      <th>75%</th>\n",
       "      <td>2006.000000</td>\n",
       "      <td>8.277985e+00</td>\n",
       "    </tr>\n",
       "    <tr>\n",
       "      <th>max</th>\n",
       "      <td>2018.000000</td>\n",
       "      <td>4.585523e+03</td>\n",
       "    </tr>\n",
       "  </tbody>\n",
       "</table>\n",
       "</div>"
      ],
      "text/plain": [
       "               Year     Emissions\n",
       "count  50764.000000  5.037700e+04\n",
       "mean    1994.000000  2.448694e+01\n",
       "std       14.142275  1.352670e+02\n",
       "min     1970.000000  1.931770e-07\n",
       "25%     1982.000000  8.864667e-02\n",
       "50%     1994.000000  9.520414e-01\n",
       "75%     2006.000000  8.277985e+00\n",
       "max     2018.000000  4.585523e+03"
      ]
     },
     "execution_count": 45,
     "metadata": {},
     "output_type": "execute_result"
    }
   ],
   "source": [
    "df.describe()"
   ]
  },
  {
   "cell_type": "markdown",
   "metadata": {},
   "source": [
    "**Visualizing highest emissions data**"
   ]
  },
  {
   "cell_type": "code",
   "execution_count": 46,
   "metadata": {},
   "outputs": [
    {
     "data": {
      "text/plain": [
       "<Figure size 1440x1440 with 0 Axes>"
      ]
     },
     "metadata": {},
     "output_type": "display_data"
    },
    {
     "data": {
      "image/png": "[encoded data removed]",
      "text/plain": [
       "<Figure size 921.875x432 with 1 Axes>"
      ]
     },
     "metadata": {
      "needs_background": "light"
     },
     "output_type": "display_data"
    }
   ],
   "source": [
    "plt.figure(figsize=(20,20))\n",
    "ax = sns.lmplot(x='Year', y='Emissions',hue='Code',data=df_highest,fit_reg=True, height=6, aspect=2).set(title = \"Emissions for Highest Producing Countries\")\n",
    "plt.show()"
   ]
  },
  {
   "cell_type": "markdown",
   "metadata": {},
   "source": [
    "We can see that the overall trends for the majority of these highest emission countries are positive. In addition, we can see from out lmplot of the highest countries that there is an increase in the number of countries which break this 500 emissions barrier after 2000, perhaps indicating changes in environmental policy among those countries. "
   ]
  },
  {
   "cell_type": "code",
   "execution_count": 47,
   "metadata": {},
   "outputs": [
    {
     "data": {
      "text/plain": [
       "array(['Russia', 'United States', 'China', 'India', 'Japan',\n",
       "       'International Shipping', 'International Aviation'], dtype=object)"
      ]
     },
     "execution_count": 47,
     "metadata": {},
     "output_type": "execute_result"
    }
   ],
   "source": [
    "df_highest.Name.unique()"
   ]
  },
  {
   "cell_type": "code",
   "execution_count": 48,
   "metadata": {},
   "outputs": [
    {
     "data": {
      "text/plain": [
       "156"
      ]
     },
     "execution_count": 48,
     "metadata": {},
     "output_type": "execute_result"
    }
   ],
   "source": [
    "df_lowest.Name.nunique()"
   ]
  },
  {
   "cell_type": "markdown",
   "metadata": {},
   "source": [
    "Our lowest emissions dataframe contains 156 countries which all have emission levels equal to or below 1, which is very low in relation to the highest emission countries, showing a clear discrepancy in global emissions among countries."
   ]
  },
  {
   "cell_type": "markdown",
   "metadata": {},
   "source": [
    "**Grouping and Visualizing Better Off or Worse Off Countries**\n",
    "\n",
    "Let's check which countries are better off or worse in 2018 in comparison to 1970 in terms of emissions."
   ]
  },
  {
   "cell_type": "code",
   "execution_count": 49,
   "metadata": {},
   "outputs": [
    {
     "data": {
      "text/html": [
       "<div>\n",
       "<style scoped>\n",
       "    .dataframe tbody tr th:only-of-type {\n",
       "        vertical-align: middle;\n",
       "    }\n",
       "\n",
       "    .dataframe tbody tr th {\n",
       "        vertical-align: top;\n",
       "    }\n",
       "\n",
       "    .dataframe thead th {\n",
       "        text-align: right;\n",
       "    }\n",
       "</style>\n",
       "<table border=\"1\" class=\"dataframe\">\n",
       "  <thead>\n",
       "    <tr style=\"text-align: right;\">\n",
       "      <th></th>\n",
       "      <th>Code</th>\n",
       "      <th>Name</th>\n",
       "      <th>Sector</th>\n",
       "      <th>Year</th>\n",
       "      <th>Emissions</th>\n",
       "    </tr>\n",
       "  </thead>\n",
       "  <tbody>\n",
       "    <tr>\n",
       "      <th>0</th>\n",
       "      <td>AFG</td>\n",
       "      <td>Afghanistan</td>\n",
       "      <td>Power Industry</td>\n",
       "      <td>1970</td>\n",
       "      <td>0.056962</td>\n",
       "    </tr>\n",
       "    <tr>\n",
       "      <th>1</th>\n",
       "      <td>ALB</td>\n",
       "      <td>Albania</td>\n",
       "      <td>Power Industry</td>\n",
       "      <td>1970</td>\n",
       "      <td>0.600624</td>\n",
       "    </tr>\n",
       "    <tr>\n",
       "      <th>2</th>\n",
       "      <td>DZA</td>\n",
       "      <td>Algeria</td>\n",
       "      <td>Power Industry</td>\n",
       "      <td>1970</td>\n",
       "      <td>1.645869</td>\n",
       "    </tr>\n",
       "    <tr>\n",
       "      <th>3</th>\n",
       "      <td>AGO</td>\n",
       "      <td>Angola</td>\n",
       "      <td>Power Industry</td>\n",
       "      <td>1970</td>\n",
       "      <td>0.137546</td>\n",
       "    </tr>\n",
       "    <tr>\n",
       "      <th>4</th>\n",
       "      <td>AIA</td>\n",
       "      <td>Anguilla</td>\n",
       "      <td>Power Industry</td>\n",
       "      <td>1970</td>\n",
       "      <td>0.000430</td>\n",
       "    </tr>\n",
       "    <tr>\n",
       "      <th>...</th>\n",
       "      <td>...</td>\n",
       "      <td>...</td>\n",
       "      <td>...</td>\n",
       "      <td>...</td>\n",
       "      <td>...</td>\n",
       "    </tr>\n",
       "    <tr>\n",
       "      <th>50759</th>\n",
       "      <td>YEM</td>\n",
       "      <td>Yemen</td>\n",
       "      <td>Other sectors</td>\n",
       "      <td>2018</td>\n",
       "      <td>2.576755</td>\n",
       "    </tr>\n",
       "    <tr>\n",
       "      <th>50760</th>\n",
       "      <td>ZMB</td>\n",
       "      <td>Zambia</td>\n",
       "      <td>Other sectors</td>\n",
       "      <td>2018</td>\n",
       "      <td>1.765269</td>\n",
       "    </tr>\n",
       "    <tr>\n",
       "      <th>50761</th>\n",
       "      <td>ZWE</td>\n",
       "      <td>Zimbabwe</td>\n",
       "      <td>Other sectors</td>\n",
       "      <td>2018</td>\n",
       "      <td>1.300813</td>\n",
       "    </tr>\n",
       "    <tr>\n",
       "      <th>50762</th>\n",
       "      <td>AIR</td>\n",
       "      <td>International Aviation</td>\n",
       "      <td>Transport</td>\n",
       "      <td>2018</td>\n",
       "      <td>564.612452</td>\n",
       "    </tr>\n",
       "    <tr>\n",
       "      <th>50763</th>\n",
       "      <td>SEA</td>\n",
       "      <td>International Shipping</td>\n",
       "      <td>Transport</td>\n",
       "      <td>2018</td>\n",
       "      <td>697.490442</td>\n",
       "    </tr>\n",
       "  </tbody>\n",
       "</table>\n",
       "<p>50764 rows × 5 columns</p>\n",
       "</div>"
      ],
      "text/plain": [
       "      Code                    Name          Sector  Year   Emissions\n",
       "0      AFG             Afghanistan  Power Industry  1970    0.056962\n",
       "1      ALB                 Albania  Power Industry  1970    0.600624\n",
       "2      DZA                 Algeria  Power Industry  1970    1.645869\n",
       "3      AGO                  Angola  Power Industry  1970    0.137546\n",
       "4      AIA                Anguilla  Power Industry  1970    0.000430\n",
       "...    ...                     ...             ...   ...         ...\n",
       "50759  YEM                   Yemen   Other sectors  2018    2.576755\n",
       "50760  ZMB                  Zambia   Other sectors  2018    1.765269\n",
       "50761  ZWE                Zimbabwe   Other sectors  2018    1.300813\n",
       "50762  AIR  International Aviation       Transport  2018  564.612452\n",
       "50763  SEA  International Shipping       Transport  2018  697.490442\n",
       "\n",
       "[50764 rows x 5 columns]"
      ]
     },
     "execution_count": 49,
     "metadata": {},
     "output_type": "execute_result"
    }
   ],
   "source": [
    "df"
   ]
  },
  {
   "cell_type": "markdown",
   "metadata": {},
   "source": [
    "Looking at AFG (Afghanistan) for example, we know that there are 5 sectors for a particular country in one year."
   ]
  },
  {
   "cell_type": "code",
   "execution_count": 50,
   "metadata": {},
   "outputs": [
    {
     "data": {
      "text/html": [
       "<div>\n",
       "<style scoped>\n",
       "    .dataframe tbody tr th:only-of-type {\n",
       "        vertical-align: middle;\n",
       "    }\n",
       "\n",
       "    .dataframe tbody tr th {\n",
       "        vertical-align: top;\n",
       "    }\n",
       "\n",
       "    .dataframe thead th {\n",
       "        text-align: right;\n",
       "    }\n",
       "</style>\n",
       "<table border=\"1\" class=\"dataframe\">\n",
       "  <thead>\n",
       "    <tr style=\"text-align: right;\">\n",
       "      <th></th>\n",
       "      <th>Code</th>\n",
       "      <th>Name</th>\n",
       "      <th>Sector</th>\n",
       "      <th>Year</th>\n",
       "      <th>Emissions</th>\n",
       "    </tr>\n",
       "  </thead>\n",
       "  <tbody>\n",
       "    <tr>\n",
       "      <th>0</th>\n",
       "      <td>AFG</td>\n",
       "      <td>Afghanistan</td>\n",
       "      <td>Power Industry</td>\n",
       "      <td>1970</td>\n",
       "      <td>0.056962</td>\n",
       "    </tr>\n",
       "    <tr>\n",
       "      <th>207</th>\n",
       "      <td>AFG</td>\n",
       "      <td>Afghanistan</td>\n",
       "      <td>Buildings</td>\n",
       "      <td>1970</td>\n",
       "      <td>0.577234</td>\n",
       "    </tr>\n",
       "    <tr>\n",
       "      <th>413</th>\n",
       "      <td>AFG</td>\n",
       "      <td>Afghanistan</td>\n",
       "      <td>Transport</td>\n",
       "      <td>1970</td>\n",
       "      <td>0.233767</td>\n",
       "    </tr>\n",
       "    <tr>\n",
       "      <th>620</th>\n",
       "      <td>AFG</td>\n",
       "      <td>Afghanistan</td>\n",
       "      <td>Other industrial combustion</td>\n",
       "      <td>1970</td>\n",
       "      <td>0.067090</td>\n",
       "    </tr>\n",
       "    <tr>\n",
       "      <th>826</th>\n",
       "      <td>AFG</td>\n",
       "      <td>Afghanistan</td>\n",
       "      <td>Other sectors</td>\n",
       "      <td>1970</td>\n",
       "      <td>0.531106</td>\n",
       "    </tr>\n",
       "  </tbody>\n",
       "</table>\n",
       "</div>"
      ],
      "text/plain": [
       "    Code         Name                       Sector  Year  Emissions\n",
       "0    AFG  Afghanistan               Power Industry  1970   0.056962\n",
       "207  AFG  Afghanistan                    Buildings  1970   0.577234\n",
       "413  AFG  Afghanistan                    Transport  1970   0.233767\n",
       "620  AFG  Afghanistan  Other industrial combustion  1970   0.067090\n",
       "826  AFG  Afghanistan                Other sectors  1970   0.531106"
      ]
     },
     "execution_count": 50,
     "metadata": {},
     "output_type": "execute_result"
    }
   ],
   "source": [
    "df[(df['Code'] == 'AFG') & (df['Year'] ==  1970)]"
   ]
  },
  {
   "cell_type": "markdown",
   "metadata": {},
   "source": [
    "We can find the total emissions by using the sum method to sum up the 'Emissions' column.\n",
    "AFG has around 1.466 Mt in 1970."
   ]
  },
  {
   "cell_type": "code",
   "execution_count": 51,
   "metadata": {},
   "outputs": [
    {
     "data": {
      "text/plain": [
       "1.4661586206930002"
      ]
     },
     "execution_count": 51,
     "metadata": {},
     "output_type": "execute_result"
    }
   ],
   "source": [
    "df[(df['Code'] == 'AFG') & (df['Year'] ==  1970)]['Emissions'].sum()"
   ]
  },
  {
   "cell_type": "markdown",
   "metadata": {},
   "source": [
    "Let's find all the countries."
   ]
  },
  {
   "cell_type": "code",
   "execution_count": 52,
   "metadata": {},
   "outputs": [
    {
     "data": {
      "text/plain": [
       "array(['AFG', 'ALB', 'DZA', 'AGO', 'AIA', 'ATG', 'ARG', 'ARM', 'ABW',\n",
       "       'AUS', 'AUT', 'AZE', 'BHS', 'BHR', 'BGD', 'BRB', 'BLR', 'BEL',\n",
       "       'BLZ', 'BEN', 'BMU', 'BTN', 'BOL', 'BIH', 'BWA', 'BRA', 'VGB',\n",
       "       'BRN', 'BGR', 'BFA', 'BDI', 'KHM', 'CMR', 'CAN', 'CPV', 'CYM',\n",
       "       'CAF', 'TCD', 'CHL', 'CHN', 'COL', 'COM', 'COG', 'COK', 'CRI',\n",
       "       'CIV', 'HRV', 'CUB', 'CUW', 'CYP', 'CZE', 'COD', 'DNK', 'DJI',\n",
       "       'DMA', 'DOM', 'ECU', 'EGY', 'SLV', 'GNQ', 'ERI', 'EST', 'SWZ',\n",
       "       'ETH', 'FLK', 'FJI', 'FIN', 'FRA_MCO', 'GUF', 'PYF', 'GAB', 'GEO',\n",
       "       'DEU', 'GHA', 'GIB', 'GRC', 'GRL', 'GRD', 'GLP', 'GTM', 'GIN',\n",
       "       'GNB', 'GUY', 'HTI', 'HND', 'HKG', 'HUN', 'ISL', 'IND', 'IDN',\n",
       "       'IRN', 'IRQ', 'IRL', 'ISR_PSE', 'ITA_SMR_VAT', 'JAM', 'JPN', 'JOR',\n",
       "       'KAZ', 'KEN', 'KIR', 'KWT', 'KGZ', 'LAO', 'LVA', 'LBN', 'LSO',\n",
       "       'LBR', 'LBY', 'LTU', 'LUX', 'MAC', 'MDG', 'MWI', 'MYS', 'MDV',\n",
       "       'MLI', 'MLT', 'MTQ', 'MRT', 'MUS', 'MEX', 'MDA', 'MNG', 'MAR',\n",
       "       'MOZ', 'MMR', 'NAM', 'NPL', 'NLD', 'NCL', 'NZL', 'NIC', 'NER',\n",
       "       'NGA', 'PRK', 'MKD', 'NOR', 'OMN', 'PAK', 'PLW', 'PAN', 'PNG',\n",
       "       'PRY', 'PER', 'PHL', 'POL', 'PRT', 'PRI', 'QAT', 'REU', 'ROU',\n",
       "       'RUS', 'RWA', 'SHN', 'KNA', 'LCA', 'SPM', 'VCT', 'WSM', 'STP',\n",
       "       'SAU', 'SEN', 'CSXX', 'SYC', 'SLE', 'SGP', 'SVK', 'SVN', 'SLB',\n",
       "       'SOM', 'ZAF', 'KOR', 'ESP_AND', 'LKA', 'SDN_SSD', 'SUR', 'SWE',\n",
       "       'CHE_LIE', 'SYR', 'TWN', 'TJK', 'TZA', 'THA', 'GMB', 'TLS', 'TGO',\n",
       "       'TON', 'TTO', 'TUN', 'TUR', 'TKM', 'TCA', 'UGA', 'UKR', 'ARE',\n",
       "       'GBR', 'USA', 'URY', 'UZB', 'VUT', 'VEN', 'VNM', 'ESH', 'YEM',\n",
       "       'ZMB', 'ZWE', 'FRO', 'AIR', 'SEA'], dtype=object)"
      ]
     },
     "execution_count": 52,
     "metadata": {},
     "output_type": "execute_result"
    }
   ],
   "source": [
    "countries = df['Code'].unique()\n",
    "countries"
   ]
  },
  {
   "cell_type": "markdown",
   "metadata": {},
   "source": [
    "Let's find which countries are worse off in 2018 in comparison to 1970 by checking total emissions in 1970 against total emissions in 2018."
   ]
  },
  {
   "cell_type": "code",
   "execution_count": 53,
   "metadata": {},
   "outputs": [
    {
     "name": "stdout",
     "output_type": "stream",
     "text": [
      "['AFG' 'ALB' 'DZA' 'AGO' 'AIA' 'ATG' 'ARG' 'ABW' 'AUS' 'AUT' 'BHS' 'BHR'\n",
      " 'BGD' 'BRB' 'BLR' 'BLZ' 'BEN' 'BMU' 'BTN' 'BOL' 'BIH' 'BWA' 'BRA' 'VGB'\n",
      " 'BFA' 'BDI' 'KHM' 'CMR' 'CAN' 'CPV' 'CYM' 'CAF' 'TCD' 'CHL' 'CHN' 'COL'\n",
      " 'COM' 'COG' 'COK' 'CRI' 'CIV' 'CUB' 'CUW' 'CYP' 'COD' 'DJI' 'DMA' 'DOM'\n",
      " 'ECU' 'EGY' 'SLV' 'GNQ' 'ERI' 'EST' 'SWZ' 'ETH' 'FLK' 'FJI' 'FIN' 'GUF'\n",
      " 'PYF' 'GAB' 'GHA' 'GIB' 'GRC' 'GRL' 'GRD' 'GLP' 'GTM' 'GIN' 'GNB' 'GUY'\n",
      " 'HTI' 'HND' 'HKG' 'ISL' 'IND' 'IDN' 'IRN' 'IRQ' 'IRL' 'ISR_PSE'\n",
      " 'ITA_SMR_VAT' 'JAM' 'JPN' 'JOR' 'KAZ' 'KEN' 'KIR' 'KWT' 'LAO' 'LBN' 'LSO'\n",
      " 'LBR' 'LBY' 'MAC' 'MDG' 'MWI' 'MYS' 'MDV' 'MLI' 'MLT' 'MTQ' 'MRT' 'MUS'\n",
      " 'MEX' 'MDA' 'MNG' 'MAR' 'MOZ' 'MMR' 'NAM' 'NPL' 'NLD' 'NCL' 'NZL' 'NIC'\n",
      " 'NER' 'NGA' 'PRK' 'NOR' 'OMN' 'PAK' 'PAN' 'PNG' 'PRY' 'PER' 'PHL' 'POL'\n",
      " 'PRT' 'PRI' 'QAT' 'REU' 'RUS' 'RWA' 'SHN' 'KNA' 'LCA' 'SPM' 'VCT' 'WSM'\n",
      " 'STP' 'SAU' 'SEN' 'CSXX' 'SYC' 'SLE' 'SGP' 'SVN' 'SLB' 'SOM' 'ZAF' 'KOR'\n",
      " 'ESP_AND' 'LKA' 'SDN_SSD' 'SUR' 'SYR' 'TWN' 'TZA' 'THA' 'GMB' 'TLS' 'TGO'\n",
      " 'TON' 'TTO' 'TUN' 'TUR' 'TKM' 'TCA' 'UGA' 'ARE' 'USA' 'URY' 'UZB' 'VEN'\n",
      " 'VNM' 'ESH' 'YEM' 'ZMB' 'ZWE' 'FRO' 'AIR' 'SEA']\n",
      "184\n"
     ]
    }
   ],
   "source": [
    "# define totalIncrease to store countries that are worse off in 2018\n",
    "totalIncrease = pd.DataFrame(columns=df.columns)\n",
    "\n",
    "for code in countries:\n",
    "    if df[(df['Code'] == code) & (df['Year'] ==  1970)]['Emissions'].sum() < df[(df['Code'] == code) & (df['Year'] == 2018)]['Emissions'].sum():\n",
    "        totalIncrease = totalIncrease.append(df[df['Code'] == code])\n",
    "        \n",
    "print(totalIncrease['Code'].unique())\n",
    "print(totalIncrease['Code'].nunique())"
   ]
  },
  {
   "cell_type": "markdown",
   "metadata": {},
   "source": [
    "Let's find which countries are better off in 2018 in comparison to 1970 by checking total emissions in 1970 against total emissions in 2018."
   ]
  },
  {
   "cell_type": "code",
   "execution_count": 54,
   "metadata": {},
   "outputs": [
    {
     "name": "stdout",
     "output_type": "stream",
     "text": [
      "['ARM' 'AZE' 'BEL' 'BRN' 'BGR' 'HRV' 'CZE' 'DNK' 'FRA_MCO' 'GEO' 'DEU'\n",
      " 'HUN' 'KGZ' 'LVA' 'LTU' 'LUX' 'MKD' 'PLW' 'ROU' 'SVK' 'SWE' 'CHE_LIE'\n",
      " 'TJK' 'UKR' 'GBR' 'VUT']\n",
      "26\n"
     ]
    }
   ],
   "source": [
    "# define totalDecrease to store countries that are better off in 2018\n",
    "totalDecrease = pd.DataFrame(columns=df.columns)\n",
    "\n",
    "for code in countries:\n",
    "    if df[(df['Code'] == code) & (df['Year'] ==  1970)]['Emissions'].sum() > df[(df['Code'] == code) & (df['Year'] == 2018)]['Emissions'].sum():\n",
    "        totalDecrease = totalDecrease.append(df[df['Code'] == code])\n",
    "        \n",
    "print(totalDecrease['Code'].unique())\n",
    "print(totalDecrease['Code'].nunique())"
   ]
  },
  {
   "cell_type": "markdown",
   "metadata": {},
   "source": [
    "**It looks like only 26 countries are better off in 2018 in comparison to the 184 countries that are worse off in 2018.**"
   ]
  },
  {
   "cell_type": "markdown",
   "metadata": {},
   "source": [
    "Plotting and looking at countries that are worse off in 2018, it seems that a few countries have drastic increases while others are more of a steady increase."
   ]
  },
  {
   "cell_type": "code",
   "execution_count": 55,
   "metadata": {},
   "outputs": [
    {
     "data": {
      "text/plain": [
       "<Figure size 1440x1440 with 0 Axes>"
      ]
     },
     "metadata": {},
     "output_type": "display_data"
    },
    {
     "data": {
      "image/png": "[encoded data removed]",
      "text/plain": [
       "<Figure size 965.125x432 with 1 Axes>"
      ]
     },
     "metadata": {
      "needs_background": "light"
     },
     "output_type": "display_data"
    }
   ],
   "source": [
    "plt.figure(figsize=(20,20))\n",
    "sns.lmplot(x='Year', y='Emissions',hue='Code',data=totalIncrease,fit_reg=False, height=6, aspect=2);\n",
    "plt.show()"
   ]
  },
  {
   "cell_type": "markdown",
   "metadata": {},
   "source": [
    "Plotting and looking at countries that are better off in 2018, again it seems that most countries are in a steady decrease as opposed to a drastic decrease."
   ]
  },
  {
   "cell_type": "code",
   "execution_count": 56,
   "metadata": {
    "scrolled": false
   },
   "outputs": [
    {
     "data": {
      "text/plain": [
       "<Figure size 1440x1440 with 0 Axes>"
      ]
     },
     "metadata": {},
     "output_type": "display_data"
    },
    {
     "data": {
      "image/png": "[encoded data removed]",
      "text/plain": [
       "<Figure size 947.375x432 with 1 Axes>"
      ]
     },
     "metadata": {
      "needs_background": "light"
     },
     "output_type": "display_data"
    }
   ],
   "source": [
    "plt.figure(figsize=(20,20))\n",
    "sns.lmplot(x='Year', y='Emissions',hue='Code',data=totalDecrease,fit_reg=False, height=6, aspect=2).set(title=\"Better Off Countries Emissions\");\n",
    "plt.show()"
   ]
  },
  {
   "cell_type": "markdown",
   "metadata": {},
   "source": [
    "We now want to merge the two dataset and analyze how carbon emissions change over time with respect to each country's environmental policies."
   ]
  },
  {
   "cell_type": "markdown",
   "metadata": {},
   "source": [
    "Start by grouping the Edgar CO2 dataset by country and year then adding up the total carbon emissions for each \n",
    "particular year and country based on all of the sectors."
   ]
  },
  {
   "cell_type": "code",
   "execution_count": 158,
   "metadata": {},
   "outputs": [
    {
     "data": {
      "text/html": [
       "<div>\n",
       "<style scoped>\n",
       "    .dataframe tbody tr th:only-of-type {\n",
       "        vertical-align: middle;\n",
       "    }\n",
       "\n",
       "    .dataframe tbody tr th {\n",
       "        vertical-align: top;\n",
       "    }\n",
       "\n",
       "    .dataframe thead th {\n",
       "        text-align: right;\n",
       "    }\n",
       "</style>\n",
       "<table border=\"1\" class=\"dataframe\">\n",
       "  <thead>\n",
       "    <tr style=\"text-align: right;\">\n",
       "      <th></th>\n",
       "      <th>Code</th>\n",
       "      <th>Year</th>\n",
       "      <th>Emissions</th>\n",
       "    </tr>\n",
       "  </thead>\n",
       "  <tbody>\n",
       "    <tr>\n",
       "      <th>0</th>\n",
       "      <td>ABW</td>\n",
       "      <td>1970</td>\n",
       "      <td>0.021293</td>\n",
       "    </tr>\n",
       "    <tr>\n",
       "      <th>1</th>\n",
       "      <td>ABW</td>\n",
       "      <td>1971</td>\n",
       "      <td>0.021306</td>\n",
       "    </tr>\n",
       "    <tr>\n",
       "      <th>2</th>\n",
       "      <td>ABW</td>\n",
       "      <td>1972</td>\n",
       "      <td>0.024495</td>\n",
       "    </tr>\n",
       "    <tr>\n",
       "      <th>3</th>\n",
       "      <td>ABW</td>\n",
       "      <td>1973</td>\n",
       "      <td>0.026774</td>\n",
       "    </tr>\n",
       "    <tr>\n",
       "      <th>4</th>\n",
       "      <td>ABW</td>\n",
       "      <td>1974</td>\n",
       "      <td>0.022339</td>\n",
       "    </tr>\n",
       "  </tbody>\n",
       "</table>\n",
       "</div>"
      ],
      "text/plain": [
       "  Code  Year  Emissions\n",
       "0  ABW  1970   0.021293\n",
       "1  ABW  1971   0.021306\n",
       "2  ABW  1972   0.024495\n",
       "3  ABW  1973   0.026774\n",
       "4  ABW  1974   0.022339"
      ]
     },
     "execution_count": 158,
     "metadata": {},
     "output_type": "execute_result"
    }
   ],
   "source": [
    "# changing column names for join\n",
    "grouped = df.rename(columns = {'Name' : 'Country'}) \n",
    "grouped_co2_data = grouped.groupby(['Code', 'Year'])['Emissions'].agg('sum').reset_index()\n",
    "grouped_co2_data.head()\n",
    "# grouped_co2_data[grouped_co2_data['Code']=='USA'] -- test"
   ]
  },
  {
   "cell_type": "markdown",
   "metadata": {},
   "source": [
    "Group the policy dataset by country and year then counting how many policies have been passed for each \n",
    "particular year and country."
   ]
  },
  {
   "cell_type": "code",
   "execution_count": 159,
   "metadata": {},
   "outputs": [
    {
     "data": {
      "text/html": [
       "<div>\n",
       "<style scoped>\n",
       "    .dataframe tbody tr th:only-of-type {\n",
       "        vertical-align: middle;\n",
       "    }\n",
       "\n",
       "    .dataframe tbody tr th {\n",
       "        vertical-align: top;\n",
       "    }\n",
       "\n",
       "    .dataframe thead th {\n",
       "        text-align: right;\n",
       "    }\n",
       "</style>\n",
       "<table border=\"1\" class=\"dataframe\">\n",
       "  <thead>\n",
       "    <tr style=\"text-align: right;\">\n",
       "      <th></th>\n",
       "      <th>Code</th>\n",
       "      <th>Year</th>\n",
       "      <th>Policy name</th>\n",
       "      <th>Policy Title</th>\n",
       "      <th>Country</th>\n",
       "      <th>Sector name</th>\n",
       "      <th>Policy type</th>\n",
       "      <th>Policy objective</th>\n",
       "    </tr>\n",
       "  </thead>\n",
       "  <tbody>\n",
       "    <tr>\n",
       "      <th>0</th>\n",
       "      <td>AFG</td>\n",
       "      <td>2015.0</td>\n",
       "      <td>1</td>\n",
       "      <td>1</td>\n",
       "      <td>1</td>\n",
       "      <td>1</td>\n",
       "      <td>1</td>\n",
       "      <td>1</td>\n",
       "    </tr>\n",
       "    <tr>\n",
       "      <th>1</th>\n",
       "      <td>AGO</td>\n",
       "      <td>2008.0</td>\n",
       "      <td>2</td>\n",
       "      <td>2</td>\n",
       "      <td>2</td>\n",
       "      <td>2</td>\n",
       "      <td>2</td>\n",
       "      <td>2</td>\n",
       "    </tr>\n",
       "    <tr>\n",
       "      <th>2</th>\n",
       "      <td>AGO</td>\n",
       "      <td>2010.0</td>\n",
       "      <td>2</td>\n",
       "      <td>2</td>\n",
       "      <td>2</td>\n",
       "      <td>0</td>\n",
       "      <td>0</td>\n",
       "      <td>2</td>\n",
       "    </tr>\n",
       "    <tr>\n",
       "      <th>3</th>\n",
       "      <td>AGO</td>\n",
       "      <td>2012.0</td>\n",
       "      <td>2</td>\n",
       "      <td>2</td>\n",
       "      <td>2</td>\n",
       "      <td>1</td>\n",
       "      <td>1</td>\n",
       "      <td>2</td>\n",
       "    </tr>\n",
       "    <tr>\n",
       "      <th>4</th>\n",
       "      <td>AGO</td>\n",
       "      <td>2013.0</td>\n",
       "      <td>1</td>\n",
       "      <td>1</td>\n",
       "      <td>1</td>\n",
       "      <td>0</td>\n",
       "      <td>0</td>\n",
       "      <td>1</td>\n",
       "    </tr>\n",
       "    <tr>\n",
       "      <th>5</th>\n",
       "      <td>AGO</td>\n",
       "      <td>2015.0</td>\n",
       "      <td>1</td>\n",
       "      <td>1</td>\n",
       "      <td>1</td>\n",
       "      <td>1</td>\n",
       "      <td>1</td>\n",
       "      <td>1</td>\n",
       "    </tr>\n",
       "    <tr>\n",
       "      <th>6</th>\n",
       "      <td>AGO</td>\n",
       "      <td>2020.0</td>\n",
       "      <td>1</td>\n",
       "      <td>1</td>\n",
       "      <td>1</td>\n",
       "      <td>1</td>\n",
       "      <td>1</td>\n",
       "      <td>1</td>\n",
       "    </tr>\n",
       "    <tr>\n",
       "      <th>7</th>\n",
       "      <td>ALB</td>\n",
       "      <td>2010.0</td>\n",
       "      <td>1</td>\n",
       "      <td>1</td>\n",
       "      <td>1</td>\n",
       "      <td>1</td>\n",
       "      <td>1</td>\n",
       "      <td>1</td>\n",
       "    </tr>\n",
       "    <tr>\n",
       "      <th>8</th>\n",
       "      <td>ALB</td>\n",
       "      <td>2015.0</td>\n",
       "      <td>1</td>\n",
       "      <td>1</td>\n",
       "      <td>1</td>\n",
       "      <td>1</td>\n",
       "      <td>1</td>\n",
       "      <td>1</td>\n",
       "    </tr>\n",
       "    <tr>\n",
       "      <th>9</th>\n",
       "      <td>AND</td>\n",
       "      <td>2020.0</td>\n",
       "      <td>1</td>\n",
       "      <td>1</td>\n",
       "      <td>1</td>\n",
       "      <td>1</td>\n",
       "      <td>1</td>\n",
       "      <td>1</td>\n",
       "    </tr>\n",
       "    <tr>\n",
       "      <th>10</th>\n",
       "      <td>ARE</td>\n",
       "      <td>2002.0</td>\n",
       "      <td>1</td>\n",
       "      <td>1</td>\n",
       "      <td>1</td>\n",
       "      <td>1</td>\n",
       "      <td>1</td>\n",
       "      <td>1</td>\n",
       "    </tr>\n",
       "    <tr>\n",
       "      <th>11</th>\n",
       "      <td>ARE</td>\n",
       "      <td>2004.0</td>\n",
       "      <td>1</td>\n",
       "      <td>1</td>\n",
       "      <td>1</td>\n",
       "      <td>1</td>\n",
       "      <td>1</td>\n",
       "      <td>1</td>\n",
       "    </tr>\n",
       "    <tr>\n",
       "      <th>12</th>\n",
       "      <td>ARE</td>\n",
       "      <td>2006.0</td>\n",
       "      <td>2</td>\n",
       "      <td>2</td>\n",
       "      <td>2</td>\n",
       "      <td>2</td>\n",
       "      <td>2</td>\n",
       "      <td>2</td>\n",
       "    </tr>\n",
       "    <tr>\n",
       "      <th>13</th>\n",
       "      <td>ARE</td>\n",
       "      <td>2008.0</td>\n",
       "      <td>1</td>\n",
       "      <td>1</td>\n",
       "      <td>1</td>\n",
       "      <td>1</td>\n",
       "      <td>1</td>\n",
       "      <td>1</td>\n",
       "    </tr>\n",
       "    <tr>\n",
       "      <th>14</th>\n",
       "      <td>ARE</td>\n",
       "      <td>2009.0</td>\n",
       "      <td>2</td>\n",
       "      <td>2</td>\n",
       "      <td>2</td>\n",
       "      <td>2</td>\n",
       "      <td>2</td>\n",
       "      <td>2</td>\n",
       "    </tr>\n",
       "    <tr>\n",
       "      <th>15</th>\n",
       "      <td>ARE</td>\n",
       "      <td>2010.0</td>\n",
       "      <td>1</td>\n",
       "      <td>1</td>\n",
       "      <td>1</td>\n",
       "      <td>1</td>\n",
       "      <td>1</td>\n",
       "      <td>1</td>\n",
       "    </tr>\n",
       "    <tr>\n",
       "      <th>16</th>\n",
       "      <td>ARE</td>\n",
       "      <td>2011.0</td>\n",
       "      <td>6</td>\n",
       "      <td>6</td>\n",
       "      <td>6</td>\n",
       "      <td>6</td>\n",
       "      <td>6</td>\n",
       "      <td>6</td>\n",
       "    </tr>\n",
       "    <tr>\n",
       "      <th>17</th>\n",
       "      <td>ARE</td>\n",
       "      <td>2012.0</td>\n",
       "      <td>4</td>\n",
       "      <td>4</td>\n",
       "      <td>4</td>\n",
       "      <td>4</td>\n",
       "      <td>3</td>\n",
       "      <td>4</td>\n",
       "    </tr>\n",
       "    <tr>\n",
       "      <th>18</th>\n",
       "      <td>ARE</td>\n",
       "      <td>2013.0</td>\n",
       "      <td>1</td>\n",
       "      <td>1</td>\n",
       "      <td>1</td>\n",
       "      <td>1</td>\n",
       "      <td>1</td>\n",
       "      <td>1</td>\n",
       "    </tr>\n",
       "    <tr>\n",
       "      <th>19</th>\n",
       "      <td>ARE</td>\n",
       "      <td>2015.0</td>\n",
       "      <td>2</td>\n",
       "      <td>2</td>\n",
       "      <td>2</td>\n",
       "      <td>2</td>\n",
       "      <td>2</td>\n",
       "      <td>2</td>\n",
       "    </tr>\n",
       "    <tr>\n",
       "      <th>20</th>\n",
       "      <td>ARE</td>\n",
       "      <td>2017.0</td>\n",
       "      <td>3</td>\n",
       "      <td>3</td>\n",
       "      <td>3</td>\n",
       "      <td>3</td>\n",
       "      <td>3</td>\n",
       "      <td>3</td>\n",
       "    </tr>\n",
       "    <tr>\n",
       "      <th>21</th>\n",
       "      <td>ARE</td>\n",
       "      <td>2018.0</td>\n",
       "      <td>1</td>\n",
       "      <td>1</td>\n",
       "      <td>1</td>\n",
       "      <td>1</td>\n",
       "      <td>1</td>\n",
       "      <td>1</td>\n",
       "    </tr>\n",
       "    <tr>\n",
       "      <th>22</th>\n",
       "      <td>ARE</td>\n",
       "      <td>2020.0</td>\n",
       "      <td>1</td>\n",
       "      <td>1</td>\n",
       "      <td>1</td>\n",
       "      <td>1</td>\n",
       "      <td>1</td>\n",
       "      <td>1</td>\n",
       "    </tr>\n",
       "    <tr>\n",
       "      <th>23</th>\n",
       "      <td>ARG</td>\n",
       "      <td>1994.0</td>\n",
       "      <td>1</td>\n",
       "      <td>1</td>\n",
       "      <td>1</td>\n",
       "      <td>1</td>\n",
       "      <td>1</td>\n",
       "      <td>1</td>\n",
       "    </tr>\n",
       "    <tr>\n",
       "      <th>24</th>\n",
       "      <td>ARG</td>\n",
       "      <td>1996.0</td>\n",
       "      <td>1</td>\n",
       "      <td>1</td>\n",
       "      <td>1</td>\n",
       "      <td>1</td>\n",
       "      <td>1</td>\n",
       "      <td>1</td>\n",
       "    </tr>\n",
       "    <tr>\n",
       "      <th>25</th>\n",
       "      <td>ARG</td>\n",
       "      <td>1997.0</td>\n",
       "      <td>1</td>\n",
       "      <td>1</td>\n",
       "      <td>1</td>\n",
       "      <td>1</td>\n",
       "      <td>1</td>\n",
       "      <td>1</td>\n",
       "    </tr>\n",
       "    <tr>\n",
       "      <th>26</th>\n",
       "      <td>ARG</td>\n",
       "      <td>1998.0</td>\n",
       "      <td>1</td>\n",
       "      <td>1</td>\n",
       "      <td>1</td>\n",
       "      <td>1</td>\n",
       "      <td>1</td>\n",
       "      <td>1</td>\n",
       "    </tr>\n",
       "    <tr>\n",
       "      <th>27</th>\n",
       "      <td>ARG</td>\n",
       "      <td>1999.0</td>\n",
       "      <td>3</td>\n",
       "      <td>3</td>\n",
       "      <td>3</td>\n",
       "      <td>3</td>\n",
       "      <td>3</td>\n",
       "      <td>2</td>\n",
       "    </tr>\n",
       "    <tr>\n",
       "      <th>28</th>\n",
       "      <td>ARG</td>\n",
       "      <td>2001.0</td>\n",
       "      <td>3</td>\n",
       "      <td>3</td>\n",
       "      <td>3</td>\n",
       "      <td>3</td>\n",
       "      <td>3</td>\n",
       "      <td>3</td>\n",
       "    </tr>\n",
       "    <tr>\n",
       "      <th>29</th>\n",
       "      <td>ARG</td>\n",
       "      <td>2002.0</td>\n",
       "      <td>3</td>\n",
       "      <td>3</td>\n",
       "      <td>3</td>\n",
       "      <td>3</td>\n",
       "      <td>3</td>\n",
       "      <td>3</td>\n",
       "    </tr>\n",
       "    <tr>\n",
       "      <th>30</th>\n",
       "      <td>ARG</td>\n",
       "      <td>2003.0</td>\n",
       "      <td>1</td>\n",
       "      <td>1</td>\n",
       "      <td>1</td>\n",
       "      <td>1</td>\n",
       "      <td>1</td>\n",
       "      <td>1</td>\n",
       "    </tr>\n",
       "    <tr>\n",
       "      <th>31</th>\n",
       "      <td>ARG</td>\n",
       "      <td>2004.0</td>\n",
       "      <td>1</td>\n",
       "      <td>1</td>\n",
       "      <td>1</td>\n",
       "      <td>1</td>\n",
       "      <td>1</td>\n",
       "      <td>0</td>\n",
       "    </tr>\n",
       "    <tr>\n",
       "      <th>32</th>\n",
       "      <td>ARG</td>\n",
       "      <td>2005.0</td>\n",
       "      <td>2</td>\n",
       "      <td>2</td>\n",
       "      <td>2</td>\n",
       "      <td>2</td>\n",
       "      <td>2</td>\n",
       "      <td>2</td>\n",
       "    </tr>\n",
       "    <tr>\n",
       "      <th>33</th>\n",
       "      <td>ARG</td>\n",
       "      <td>2006.0</td>\n",
       "      <td>2</td>\n",
       "      <td>2</td>\n",
       "      <td>2</td>\n",
       "      <td>2</td>\n",
       "      <td>2</td>\n",
       "      <td>2</td>\n",
       "    </tr>\n",
       "    <tr>\n",
       "      <th>34</th>\n",
       "      <td>ARG</td>\n",
       "      <td>2007.0</td>\n",
       "      <td>5</td>\n",
       "      <td>5</td>\n",
       "      <td>5</td>\n",
       "      <td>5</td>\n",
       "      <td>5</td>\n",
       "      <td>5</td>\n",
       "    </tr>\n",
       "    <tr>\n",
       "      <th>35</th>\n",
       "      <td>ARG</td>\n",
       "      <td>2009.0</td>\n",
       "      <td>3</td>\n",
       "      <td>3</td>\n",
       "      <td>3</td>\n",
       "      <td>3</td>\n",
       "      <td>3</td>\n",
       "      <td>3</td>\n",
       "    </tr>\n",
       "    <tr>\n",
       "      <th>36</th>\n",
       "      <td>ARG</td>\n",
       "      <td>2010.0</td>\n",
       "      <td>3</td>\n",
       "      <td>3</td>\n",
       "      <td>3</td>\n",
       "      <td>3</td>\n",
       "      <td>3</td>\n",
       "      <td>3</td>\n",
       "    </tr>\n",
       "    <tr>\n",
       "      <th>37</th>\n",
       "      <td>ARG</td>\n",
       "      <td>2011.0</td>\n",
       "      <td>2</td>\n",
       "      <td>2</td>\n",
       "      <td>2</td>\n",
       "      <td>2</td>\n",
       "      <td>2</td>\n",
       "      <td>2</td>\n",
       "    </tr>\n",
       "    <tr>\n",
       "      <th>38</th>\n",
       "      <td>ARG</td>\n",
       "      <td>2012.0</td>\n",
       "      <td>1</td>\n",
       "      <td>1</td>\n",
       "      <td>1</td>\n",
       "      <td>1</td>\n",
       "      <td>1</td>\n",
       "      <td>1</td>\n",
       "    </tr>\n",
       "    <tr>\n",
       "      <th>39</th>\n",
       "      <td>ARG</td>\n",
       "      <td>2013.0</td>\n",
       "      <td>2</td>\n",
       "      <td>2</td>\n",
       "      <td>2</td>\n",
       "      <td>2</td>\n",
       "      <td>2</td>\n",
       "      <td>2</td>\n",
       "    </tr>\n",
       "    <tr>\n",
       "      <th>40</th>\n",
       "      <td>ARG</td>\n",
       "      <td>2015.0</td>\n",
       "      <td>5</td>\n",
       "      <td>5</td>\n",
       "      <td>5</td>\n",
       "      <td>5</td>\n",
       "      <td>5</td>\n",
       "      <td>5</td>\n",
       "    </tr>\n",
       "    <tr>\n",
       "      <th>41</th>\n",
       "      <td>ARG</td>\n",
       "      <td>2016.0</td>\n",
       "      <td>7</td>\n",
       "      <td>7</td>\n",
       "      <td>7</td>\n",
       "      <td>7</td>\n",
       "      <td>7</td>\n",
       "      <td>5</td>\n",
       "    </tr>\n",
       "    <tr>\n",
       "      <th>42</th>\n",
       "      <td>ARG</td>\n",
       "      <td>2017.0</td>\n",
       "      <td>9</td>\n",
       "      <td>9</td>\n",
       "      <td>9</td>\n",
       "      <td>9</td>\n",
       "      <td>9</td>\n",
       "      <td>5</td>\n",
       "    </tr>\n",
       "    <tr>\n",
       "      <th>43</th>\n",
       "      <td>ARG</td>\n",
       "      <td>2018.0</td>\n",
       "      <td>9</td>\n",
       "      <td>9</td>\n",
       "      <td>9</td>\n",
       "      <td>9</td>\n",
       "      <td>9</td>\n",
       "      <td>5</td>\n",
       "    </tr>\n",
       "    <tr>\n",
       "      <th>44</th>\n",
       "      <td>ARG</td>\n",
       "      <td>2019.0</td>\n",
       "      <td>8</td>\n",
       "      <td>8</td>\n",
       "      <td>8</td>\n",
       "      <td>8</td>\n",
       "      <td>8</td>\n",
       "      <td>6</td>\n",
       "    </tr>\n",
       "    <tr>\n",
       "      <th>45</th>\n",
       "      <td>ARG</td>\n",
       "      <td>2020.0</td>\n",
       "      <td>1</td>\n",
       "      <td>1</td>\n",
       "      <td>1</td>\n",
       "      <td>1</td>\n",
       "      <td>1</td>\n",
       "      <td>1</td>\n",
       "    </tr>\n",
       "    <tr>\n",
       "      <th>46</th>\n",
       "      <td>ARM</td>\n",
       "      <td>2015.0</td>\n",
       "      <td>1</td>\n",
       "      <td>1</td>\n",
       "      <td>1</td>\n",
       "      <td>1</td>\n",
       "      <td>1</td>\n",
       "      <td>1</td>\n",
       "    </tr>\n",
       "    <tr>\n",
       "      <th>47</th>\n",
       "      <td>ATG</td>\n",
       "      <td>2015.0</td>\n",
       "      <td>1</td>\n",
       "      <td>1</td>\n",
       "      <td>1</td>\n",
       "      <td>1</td>\n",
       "      <td>1</td>\n",
       "      <td>1</td>\n",
       "    </tr>\n",
       "    <tr>\n",
       "      <th>48</th>\n",
       "      <td>AUS</td>\n",
       "      <td>1989.0</td>\n",
       "      <td>2</td>\n",
       "      <td>2</td>\n",
       "      <td>2</td>\n",
       "      <td>2</td>\n",
       "      <td>2</td>\n",
       "      <td>2</td>\n",
       "    </tr>\n",
       "    <tr>\n",
       "      <th>49</th>\n",
       "      <td>AUS</td>\n",
       "      <td>1990.0</td>\n",
       "      <td>1</td>\n",
       "      <td>1</td>\n",
       "      <td>1</td>\n",
       "      <td>1</td>\n",
       "      <td>1</td>\n",
       "      <td>1</td>\n",
       "    </tr>\n",
       "  </tbody>\n",
       "</table>\n",
       "</div>"
      ],
      "text/plain": [
       "   Code    Year  Policy name  Policy Title  Country  Sector name  Policy type  \\\n",
       "0   AFG  2015.0            1             1        1            1            1   \n",
       "1   AGO  2008.0            2             2        2            2            2   \n",
       "2   AGO  2010.0            2             2        2            0            0   \n",
       "3   AGO  2012.0            2             2        2            1            1   \n",
       "4   AGO  2013.0            1             1        1            0            0   \n",
       "5   AGO  2015.0            1             1        1            1            1   \n",
       "6   AGO  2020.0            1             1        1            1            1   \n",
       "7   ALB  2010.0            1             1        1            1            1   \n",
       "8   ALB  2015.0            1             1        1            1            1   \n",
       "9   AND  2020.0            1             1        1            1            1   \n",
       "10  ARE  2002.0            1             1        1            1            1   \n",
       "11  ARE  2004.0            1             1        1            1            1   \n",
       "12  ARE  2006.0            2             2        2            2            2   \n",
       "13  ARE  2008.0            1             1        1            1            1   \n",
       "14  ARE  2009.0            2             2        2            2            2   \n",
       "15  ARE  2010.0            1             1        1            1            1   \n",
       "16  ARE  2011.0            6             6        6            6            6   \n",
       "17  ARE  2012.0            4             4        4            4            3   \n",
       "18  ARE  2013.0            1             1        1            1            1   \n",
       "19  ARE  2015.0            2             2        2            2            2   \n",
       "20  ARE  2017.0            3             3        3            3            3   \n",
       "21  ARE  2018.0            1             1        1            1            1   \n",
       "22  ARE  2020.0            1             1        1            1            1   \n",
       "23  ARG  1994.0            1             1        1            1            1   \n",
       "24  ARG  1996.0            1             1        1            1            1   \n",
       "25  ARG  1997.0            1             1        1            1            1   \n",
       "26  ARG  1998.0            1             1        1            1            1   \n",
       "27  ARG  1999.0            3             3        3            3            3   \n",
       "28  ARG  2001.0            3             3        3            3            3   \n",
       "29  ARG  2002.0            3             3        3            3            3   \n",
       "30  ARG  2003.0            1             1        1            1            1   \n",
       "31  ARG  2004.0            1             1        1            1            1   \n",
       "32  ARG  2005.0            2             2        2            2            2   \n",
       "33  ARG  2006.0            2             2        2            2            2   \n",
       "34  ARG  2007.0            5             5        5            5            5   \n",
       "35  ARG  2009.0            3             3        3            3            3   \n",
       "36  ARG  2010.0            3             3        3            3            3   \n",
       "37  ARG  2011.0            2             2        2            2            2   \n",
       "38  ARG  2012.0            1             1        1            1            1   \n",
       "39  ARG  2013.0            2             2        2            2            2   \n",
       "40  ARG  2015.0            5             5        5            5            5   \n",
       "41  ARG  2016.0            7             7        7            7            7   \n",
       "42  ARG  2017.0            9             9        9            9            9   \n",
       "43  ARG  2018.0            9             9        9            9            9   \n",
       "44  ARG  2019.0            8             8        8            8            8   \n",
       "45  ARG  2020.0            1             1        1            1            1   \n",
       "46  ARM  2015.0            1             1        1            1            1   \n",
       "47  ATG  2015.0            1             1        1            1            1   \n",
       "48  AUS  1989.0            2             2        2            2            2   \n",
       "49  AUS  1990.0            1             1        1            1            1   \n",
       "\n",
       "    Policy objective  \n",
       "0                  1  \n",
       "1                  2  \n",
       "2                  2  \n",
       "3                  2  \n",
       "4                  1  \n",
       "5                  1  \n",
       "6                  1  \n",
       "7                  1  \n",
       "8                  1  \n",
       "9                  1  \n",
       "10                 1  \n",
       "11                 1  \n",
       "12                 2  \n",
       "13                 1  \n",
       "14                 2  \n",
       "15                 1  \n",
       "16                 6  \n",
       "17                 4  \n",
       "18                 1  \n",
       "19                 2  \n",
       "20                 3  \n",
       "21                 1  \n",
       "22                 1  \n",
       "23                 1  \n",
       "24                 1  \n",
       "25                 1  \n",
       "26                 1  \n",
       "27                 2  \n",
       "28                 3  \n",
       "29                 3  \n",
       "30                 1  \n",
       "31                 0  \n",
       "32                 2  \n",
       "33                 2  \n",
       "34                 5  \n",
       "35                 3  \n",
       "36                 3  \n",
       "37                 2  \n",
       "38                 1  \n",
       "39                 2  \n",
       "40                 5  \n",
       "41                 5  \n",
       "42                 5  \n",
       "43                 5  \n",
       "44                 6  \n",
       "45                 1  \n",
       "46                 1  \n",
       "47                 1  \n",
       "48                 2  \n",
       "49                 1  "
      ]
     },
     "execution_count": 159,
     "metadata": {},
     "output_type": "execute_result"
    }
   ],
   "source": [
    "# grouping policy dataset\n",
    "\n",
    "# renaming 'Date of decision' to 'Year' and 'Country ISO' to 'Code' to help with the join\n",
    "grouped_policy = climate_policy_data.rename(columns = {'Date of decision':'Year'})\n",
    "grouped_policy = grouped_policy.rename(columns = {'Country ISO':'Code'})\n",
    "\n",
    "grouped_policy = grouped_policy.groupby(['Code', 'Year']).agg('count').reset_index()\n",
    "grouped_policy.head(50)"
   ]
  },
  {
   "cell_type": "markdown",
   "metadata": {},
   "source": [
    "Finally, we merge the two grouped datasets with an outer merge based on 'Code' and 'Year'.\n",
    "We do an outer merge, because we want to merge by matching rows based on 'Code' and 'Year and at the\n",
    "same time we still want to include unmatched rows that have either emissions or a climate policy but, not both."
   ]
  },
  {
   "cell_type": "code",
   "execution_count": 160,
   "metadata": {},
   "outputs": [
    {
     "data": {
      "text/html": [
       "<div>\n",
       "<style scoped>\n",
       "    .dataframe tbody tr th:only-of-type {\n",
       "        vertical-align: middle;\n",
       "    }\n",
       "\n",
       "    .dataframe tbody tr th {\n",
       "        vertical-align: top;\n",
       "    }\n",
       "\n",
       "    .dataframe thead th {\n",
       "        text-align: right;\n",
       "    }\n",
       "</style>\n",
       "<table border=\"1\" class=\"dataframe\">\n",
       "  <thead>\n",
       "    <tr style=\"text-align: right;\">\n",
       "      <th></th>\n",
       "      <th>Code</th>\n",
       "      <th>Year</th>\n",
       "      <th>Number of Policies</th>\n",
       "      <th>Policy Title</th>\n",
       "      <th>Country</th>\n",
       "      <th>Sector name</th>\n",
       "      <th>Policy type</th>\n",
       "      <th>Policy objective</th>\n",
       "      <th>Emissions</th>\n",
       "    </tr>\n",
       "  </thead>\n",
       "  <tbody>\n",
       "    <tr>\n",
       "      <th>0</th>\n",
       "      <td>AFG</td>\n",
       "      <td>2015.0</td>\n",
       "      <td>1.0</td>\n",
       "      <td>1.0</td>\n",
       "      <td>1.0</td>\n",
       "      <td>1.0</td>\n",
       "      <td>1.0</td>\n",
       "      <td>1.0</td>\n",
       "      <td>9.800058</td>\n",
       "    </tr>\n",
       "    <tr>\n",
       "      <th>1</th>\n",
       "      <td>AGO</td>\n",
       "      <td>2008.0</td>\n",
       "      <td>2.0</td>\n",
       "      <td>2.0</td>\n",
       "      <td>2.0</td>\n",
       "      <td>2.0</td>\n",
       "      <td>2.0</td>\n",
       "      <td>2.0</td>\n",
       "      <td>19.672835</td>\n",
       "    </tr>\n",
       "    <tr>\n",
       "      <th>2</th>\n",
       "      <td>AGO</td>\n",
       "      <td>2010.0</td>\n",
       "      <td>2.0</td>\n",
       "      <td>2.0</td>\n",
       "      <td>2.0</td>\n",
       "      <td>0.0</td>\n",
       "      <td>0.0</td>\n",
       "      <td>2.0</td>\n",
       "      <td>24.018474</td>\n",
       "    </tr>\n",
       "    <tr>\n",
       "      <th>3</th>\n",
       "      <td>AGO</td>\n",
       "      <td>2012.0</td>\n",
       "      <td>2.0</td>\n",
       "      <td>2.0</td>\n",
       "      <td>2.0</td>\n",
       "      <td>1.0</td>\n",
       "      <td>1.0</td>\n",
       "      <td>2.0</td>\n",
       "      <td>25.221763</td>\n",
       "    </tr>\n",
       "    <tr>\n",
       "      <th>4</th>\n",
       "      <td>AGO</td>\n",
       "      <td>2013.0</td>\n",
       "      <td>1.0</td>\n",
       "      <td>1.0</td>\n",
       "      <td>1.0</td>\n",
       "      <td>0.0</td>\n",
       "      <td>0.0</td>\n",
       "      <td>1.0</td>\n",
       "      <td>27.426121</td>\n",
       "    </tr>\n",
       "    <tr>\n",
       "      <th>...</th>\n",
       "      <td>...</td>\n",
       "      <td>...</td>\n",
       "      <td>...</td>\n",
       "      <td>...</td>\n",
       "      <td>...</td>\n",
       "      <td>...</td>\n",
       "      <td>...</td>\n",
       "      <td>...</td>\n",
       "      <td>...</td>\n",
       "    </tr>\n",
       "    <tr>\n",
       "      <th>10572</th>\n",
       "      <td>ZWE</td>\n",
       "      <td>2009.0</td>\n",
       "      <td>NaN</td>\n",
       "      <td>NaN</td>\n",
       "      <td>NaN</td>\n",
       "      <td>NaN</td>\n",
       "      <td>NaN</td>\n",
       "      <td>NaN</td>\n",
       "      <td>7.757873</td>\n",
       "    </tr>\n",
       "    <tr>\n",
       "      <th>10573</th>\n",
       "      <td>ZWE</td>\n",
       "      <td>2014.0</td>\n",
       "      <td>NaN</td>\n",
       "      <td>NaN</td>\n",
       "      <td>NaN</td>\n",
       "      <td>NaN</td>\n",
       "      <td>NaN</td>\n",
       "      <td>NaN</td>\n",
       "      <td>12.567990</td>\n",
       "    </tr>\n",
       "    <tr>\n",
       "      <th>10574</th>\n",
       "      <td>ZWE</td>\n",
       "      <td>2016.0</td>\n",
       "      <td>NaN</td>\n",
       "      <td>NaN</td>\n",
       "      <td>NaN</td>\n",
       "      <td>NaN</td>\n",
       "      <td>NaN</td>\n",
       "      <td>NaN</td>\n",
       "      <td>11.472800</td>\n",
       "    </tr>\n",
       "    <tr>\n",
       "      <th>10575</th>\n",
       "      <td>ZWE</td>\n",
       "      <td>2017.0</td>\n",
       "      <td>NaN</td>\n",
       "      <td>NaN</td>\n",
       "      <td>NaN</td>\n",
       "      <td>NaN</td>\n",
       "      <td>NaN</td>\n",
       "      <td>NaN</td>\n",
       "      <td>12.812133</td>\n",
       "    </tr>\n",
       "    <tr>\n",
       "      <th>10576</th>\n",
       "      <td>ZWE</td>\n",
       "      <td>2018.0</td>\n",
       "      <td>NaN</td>\n",
       "      <td>NaN</td>\n",
       "      <td>NaN</td>\n",
       "      <td>NaN</td>\n",
       "      <td>NaN</td>\n",
       "      <td>NaN</td>\n",
       "      <td>13.044641</td>\n",
       "    </tr>\n",
       "  </tbody>\n",
       "</table>\n",
       "<p>10577 rows × 9 columns</p>\n",
       "</div>"
      ],
      "text/plain": [
       "      Code    Year  Number of Policies  Policy Title  Country  Sector name  \\\n",
       "0      AFG  2015.0                 1.0           1.0      1.0          1.0   \n",
       "1      AGO  2008.0                 2.0           2.0      2.0          2.0   \n",
       "2      AGO  2010.0                 2.0           2.0      2.0          0.0   \n",
       "3      AGO  2012.0                 2.0           2.0      2.0          1.0   \n",
       "4      AGO  2013.0                 1.0           1.0      1.0          0.0   \n",
       "...    ...     ...                 ...           ...      ...          ...   \n",
       "10572  ZWE  2009.0                 NaN           NaN      NaN          NaN   \n",
       "10573  ZWE  2014.0                 NaN           NaN      NaN          NaN   \n",
       "10574  ZWE  2016.0                 NaN           NaN      NaN          NaN   \n",
       "10575  ZWE  2017.0                 NaN           NaN      NaN          NaN   \n",
       "10576  ZWE  2018.0                 NaN           NaN      NaN          NaN   \n",
       "\n",
       "       Policy type  Policy objective  Emissions  \n",
       "0              1.0               1.0   9.800058  \n",
       "1              2.0               2.0  19.672835  \n",
       "2              0.0               2.0  24.018474  \n",
       "3              1.0               2.0  25.221763  \n",
       "4              0.0               1.0  27.426121  \n",
       "...            ...               ...        ...  \n",
       "10572          NaN               NaN   7.757873  \n",
       "10573          NaN               NaN  12.567990  \n",
       "10574          NaN               NaN  11.472800  \n",
       "10575          NaN               NaN  12.812133  \n",
       "10576          NaN               NaN  13.044641  \n",
       "\n",
       "[10577 rows x 9 columns]"
      ]
     },
     "execution_count": 160,
     "metadata": {},
     "output_type": "execute_result"
    }
   ],
   "source": [
    "merged_data = pd.merge(grouped_policy, grouped_co2_data, how = 'outer', on = ['Code', 'Year'])\n",
    "\n",
    "# How many policy names is equivalent to the number of policies\n",
    "merged_data = merged_data.rename(columns = {'Policy name':'Number of Policies'})\n",
    "\n",
    "merged_data"
   ]
  },
  {
   "cell_type": "markdown",
   "metadata": {},
   "source": [
    "Drop columns in our merged dataframe:\n",
    "1. Country is dropped due to Code being used.\n",
    "2. Policy Title, Sector Name, Policy type, and Policy objective are dropped since, we are only looking at number of policies that year and these columns all originated from the climate policy dataset"
   ]
  },
  {
   "cell_type": "code",
   "execution_count": 161,
   "metadata": {},
   "outputs": [
    {
     "data": {
      "text/html": [
       "<div>\n",
       "<style scoped>\n",
       "    .dataframe tbody tr th:only-of-type {\n",
       "        vertical-align: middle;\n",
       "    }\n",
       "\n",
       "    .dataframe tbody tr th {\n",
       "        vertical-align: top;\n",
       "    }\n",
       "\n",
       "    .dataframe thead th {\n",
       "        text-align: right;\n",
       "    }\n",
       "</style>\n",
       "<table border=\"1\" class=\"dataframe\">\n",
       "  <thead>\n",
       "    <tr style=\"text-align: right;\">\n",
       "      <th></th>\n",
       "      <th>Code</th>\n",
       "      <th>Year</th>\n",
       "      <th>Number of Policies</th>\n",
       "      <th>Emissions</th>\n",
       "    </tr>\n",
       "  </thead>\n",
       "  <tbody>\n",
       "    <tr>\n",
       "      <th>0</th>\n",
       "      <td>AFG</td>\n",
       "      <td>2015.0</td>\n",
       "      <td>1.0</td>\n",
       "      <td>9.800058</td>\n",
       "    </tr>\n",
       "    <tr>\n",
       "      <th>1</th>\n",
       "      <td>AGO</td>\n",
       "      <td>2008.0</td>\n",
       "      <td>2.0</td>\n",
       "      <td>19.672835</td>\n",
       "    </tr>\n",
       "    <tr>\n",
       "      <th>2</th>\n",
       "      <td>AGO</td>\n",
       "      <td>2010.0</td>\n",
       "      <td>2.0</td>\n",
       "      <td>24.018474</td>\n",
       "    </tr>\n",
       "    <tr>\n",
       "      <th>3</th>\n",
       "      <td>AGO</td>\n",
       "      <td>2012.0</td>\n",
       "      <td>2.0</td>\n",
       "      <td>25.221763</td>\n",
       "    </tr>\n",
       "    <tr>\n",
       "      <th>4</th>\n",
       "      <td>AGO</td>\n",
       "      <td>2013.0</td>\n",
       "      <td>1.0</td>\n",
       "      <td>27.426121</td>\n",
       "    </tr>\n",
       "    <tr>\n",
       "      <th>...</th>\n",
       "      <td>...</td>\n",
       "      <td>...</td>\n",
       "      <td>...</td>\n",
       "      <td>...</td>\n",
       "    </tr>\n",
       "    <tr>\n",
       "      <th>10572</th>\n",
       "      <td>ZWE</td>\n",
       "      <td>2009.0</td>\n",
       "      <td>NaN</td>\n",
       "      <td>7.757873</td>\n",
       "    </tr>\n",
       "    <tr>\n",
       "      <th>10573</th>\n",
       "      <td>ZWE</td>\n",
       "      <td>2014.0</td>\n",
       "      <td>NaN</td>\n",
       "      <td>12.567990</td>\n",
       "    </tr>\n",
       "    <tr>\n",
       "      <th>10574</th>\n",
       "      <td>ZWE</td>\n",
       "      <td>2016.0</td>\n",
       "      <td>NaN</td>\n",
       "      <td>11.472800</td>\n",
       "    </tr>\n",
       "    <tr>\n",
       "      <th>10575</th>\n",
       "      <td>ZWE</td>\n",
       "      <td>2017.0</td>\n",
       "      <td>NaN</td>\n",
       "      <td>12.812133</td>\n",
       "    </tr>\n",
       "    <tr>\n",
       "      <th>10576</th>\n",
       "      <td>ZWE</td>\n",
       "      <td>2018.0</td>\n",
       "      <td>NaN</td>\n",
       "      <td>13.044641</td>\n",
       "    </tr>\n",
       "  </tbody>\n",
       "</table>\n",
       "<p>10577 rows × 4 columns</p>\n",
       "</div>"
      ],
      "text/plain": [
       "      Code    Year  Number of Policies  Emissions\n",
       "0      AFG  2015.0                 1.0   9.800058\n",
       "1      AGO  2008.0                 2.0  19.672835\n",
       "2      AGO  2010.0                 2.0  24.018474\n",
       "3      AGO  2012.0                 2.0  25.221763\n",
       "4      AGO  2013.0                 1.0  27.426121\n",
       "...    ...     ...                 ...        ...\n",
       "10572  ZWE  2009.0                 NaN   7.757873\n",
       "10573  ZWE  2014.0                 NaN  12.567990\n",
       "10574  ZWE  2016.0                 NaN  11.472800\n",
       "10575  ZWE  2017.0                 NaN  12.812133\n",
       "10576  ZWE  2018.0                 NaN  13.044641\n",
       "\n",
       "[10577 rows x 4 columns]"
      ]
     },
     "execution_count": 161,
     "metadata": {},
     "output_type": "execute_result"
    }
   ],
   "source": [
    "# Drop remaining columns\n",
    "merged_data = merged_data.drop(labels = ['Country', 'Policy Title', 'Sector name', 'Policy type', 'Policy objective'], axis = 1)\n",
    "\n",
    "merged_data"
   ]
  },
  {
   "cell_type": "markdown",
   "metadata": {},
   "source": [
    "Any row with NaN for Number of Policies should be changed to 0. \n",
    "It just means that for that country at a certain year there was no climate policies passed but, there still could be emissions."
   ]
  },
  {
   "cell_type": "code",
   "execution_count": 163,
   "metadata": {},
   "outputs": [
    {
     "data": {
      "text/html": [
       "<div>\n",
       "<style scoped>\n",
       "    .dataframe tbody tr th:only-of-type {\n",
       "        vertical-align: middle;\n",
       "    }\n",
       "\n",
       "    .dataframe tbody tr th {\n",
       "        vertical-align: top;\n",
       "    }\n",
       "\n",
       "    .dataframe thead th {\n",
       "        text-align: right;\n",
       "    }\n",
       "</style>\n",
       "<table border=\"1\" class=\"dataframe\">\n",
       "  <thead>\n",
       "    <tr style=\"text-align: right;\">\n",
       "      <th></th>\n",
       "      <th>Code</th>\n",
       "      <th>Year</th>\n",
       "      <th>Number of Policies</th>\n",
       "      <th>Emissions</th>\n",
       "    </tr>\n",
       "  </thead>\n",
       "  <tbody>\n",
       "    <tr>\n",
       "      <th>0</th>\n",
       "      <td>AFG</td>\n",
       "      <td>2015.0</td>\n",
       "      <td>1.0</td>\n",
       "      <td>9.800058</td>\n",
       "    </tr>\n",
       "    <tr>\n",
       "      <th>1</th>\n",
       "      <td>AGO</td>\n",
       "      <td>2008.0</td>\n",
       "      <td>2.0</td>\n",
       "      <td>19.672835</td>\n",
       "    </tr>\n",
       "    <tr>\n",
       "      <th>2</th>\n",
       "      <td>AGO</td>\n",
       "      <td>2010.0</td>\n",
       "      <td>2.0</td>\n",
       "      <td>24.018474</td>\n",
       "    </tr>\n",
       "    <tr>\n",
       "      <th>3</th>\n",
       "      <td>AGO</td>\n",
       "      <td>2012.0</td>\n",
       "      <td>2.0</td>\n",
       "      <td>25.221763</td>\n",
       "    </tr>\n",
       "    <tr>\n",
       "      <th>4</th>\n",
       "      <td>AGO</td>\n",
       "      <td>2013.0</td>\n",
       "      <td>1.0</td>\n",
       "      <td>27.426121</td>\n",
       "    </tr>\n",
       "    <tr>\n",
       "      <th>...</th>\n",
       "      <td>...</td>\n",
       "      <td>...</td>\n",
       "      <td>...</td>\n",
       "      <td>...</td>\n",
       "    </tr>\n",
       "    <tr>\n",
       "      <th>10572</th>\n",
       "      <td>ZWE</td>\n",
       "      <td>2009.0</td>\n",
       "      <td>0.0</td>\n",
       "      <td>7.757873</td>\n",
       "    </tr>\n",
       "    <tr>\n",
       "      <th>10573</th>\n",
       "      <td>ZWE</td>\n",
       "      <td>2014.0</td>\n",
       "      <td>0.0</td>\n",
       "      <td>12.567990</td>\n",
       "    </tr>\n",
       "    <tr>\n",
       "      <th>10574</th>\n",
       "      <td>ZWE</td>\n",
       "      <td>2016.0</td>\n",
       "      <td>0.0</td>\n",
       "      <td>11.472800</td>\n",
       "    </tr>\n",
       "    <tr>\n",
       "      <th>10575</th>\n",
       "      <td>ZWE</td>\n",
       "      <td>2017.0</td>\n",
       "      <td>0.0</td>\n",
       "      <td>12.812133</td>\n",
       "    </tr>\n",
       "    <tr>\n",
       "      <th>10576</th>\n",
       "      <td>ZWE</td>\n",
       "      <td>2018.0</td>\n",
       "      <td>0.0</td>\n",
       "      <td>13.044641</td>\n",
       "    </tr>\n",
       "  </tbody>\n",
       "</table>\n",
       "<p>10577 rows × 4 columns</p>\n",
       "</div>"
      ],
      "text/plain": [
       "      Code    Year  Number of Policies  Emissions\n",
       "0      AFG  2015.0                 1.0   9.800058\n",
       "1      AGO  2008.0                 2.0  19.672835\n",
       "2      AGO  2010.0                 2.0  24.018474\n",
       "3      AGO  2012.0                 2.0  25.221763\n",
       "4      AGO  2013.0                 1.0  27.426121\n",
       "...    ...     ...                 ...        ...\n",
       "10572  ZWE  2009.0                 0.0   7.757873\n",
       "10573  ZWE  2014.0                 0.0  12.567990\n",
       "10574  ZWE  2016.0                 0.0  11.472800\n",
       "10575  ZWE  2017.0                 0.0  12.812133\n",
       "10576  ZWE  2018.0                 0.0  13.044641\n",
       "\n",
       "[10577 rows x 4 columns]"
      ]
     },
     "execution_count": 163,
     "metadata": {},
     "output_type": "execute_result"
    }
   ],
   "source": [
    "# Change NaN for Number of Policies to 0\n",
    "merged_data['Number of Policies'] = merged_data['Number of Policies'].fillna(0)\n",
    "\n",
    "merged_data"
   ]
  },
  {
   "cell_type": "markdown",
   "metadata": {},
   "source": [
    "Any row that contains NaN for Emissions should be dropped.\n",
    "They need to be dropped since, that means that there is no Emissions data across time for that Code. \n",
    "Even if it did have number of policies, we are not able to compare number of policies to emissions.\n",
    "\n",
    "Also, the amount of countries in this scenario is few in comparison to the entire dataset."
   ]
  },
  {
   "cell_type": "code",
   "execution_count": 165,
   "metadata": {},
   "outputs": [
    {
     "data": {
      "text/html": [
       "<div>\n",
       "<style scoped>\n",
       "    .dataframe tbody tr th:only-of-type {\n",
       "        vertical-align: middle;\n",
       "    }\n",
       "\n",
       "    .dataframe tbody tr th {\n",
       "        vertical-align: top;\n",
       "    }\n",
       "\n",
       "    .dataframe thead th {\n",
       "        text-align: right;\n",
       "    }\n",
       "</style>\n",
       "<table border=\"1\" class=\"dataframe\">\n",
       "  <thead>\n",
       "    <tr style=\"text-align: right;\">\n",
       "      <th></th>\n",
       "      <th>Code</th>\n",
       "      <th>Year</th>\n",
       "      <th>Number of Policies</th>\n",
       "      <th>Emissions</th>\n",
       "    </tr>\n",
       "  </thead>\n",
       "  <tbody>\n",
       "    <tr>\n",
       "      <th>263</th>\n",
       "      <td>CHE</td>\n",
       "      <td>2015.0</td>\n",
       "      <td>1.0</td>\n",
       "      <td>NaN</td>\n",
       "    </tr>\n",
       "    <tr>\n",
       "      <th>479</th>\n",
       "      <td>ESP</td>\n",
       "      <td>2015.0</td>\n",
       "      <td>12.0</td>\n",
       "      <td>NaN</td>\n",
       "    </tr>\n",
       "    <tr>\n",
       "      <th>519</th>\n",
       "      <td>EUE</td>\n",
       "      <td>2015.0</td>\n",
       "      <td>4.0</td>\n",
       "      <td>NaN</td>\n",
       "    </tr>\n",
       "    <tr>\n",
       "      <th>556</th>\n",
       "      <td>FRA</td>\n",
       "      <td>2015.0</td>\n",
       "      <td>8.0</td>\n",
       "      <td>NaN</td>\n",
       "    </tr>\n",
       "    <tr>\n",
       "      <th>565</th>\n",
       "      <td>FSM</td>\n",
       "      <td>2015.0</td>\n",
       "      <td>1.0</td>\n",
       "      <td>NaN</td>\n",
       "    </tr>\n",
       "    <tr>\n",
       "      <th>729</th>\n",
       "      <td>ISR</td>\n",
       "      <td>2015.0</td>\n",
       "      <td>1.0</td>\n",
       "      <td>NaN</td>\n",
       "    </tr>\n",
       "    <tr>\n",
       "      <th>750</th>\n",
       "      <td>ITA</td>\n",
       "      <td>2015.0</td>\n",
       "      <td>1.0</td>\n",
       "      <td>NaN</td>\n",
       "    </tr>\n",
       "    <tr>\n",
       "      <th>866</th>\n",
       "      <td>LIE</td>\n",
       "      <td>2015.0</td>\n",
       "      <td>1.0</td>\n",
       "      <td>NaN</td>\n",
       "    </tr>\n",
       "    <tr>\n",
       "      <th>896</th>\n",
       "      <td>MCO</td>\n",
       "      <td>2015.0</td>\n",
       "      <td>1.0</td>\n",
       "      <td>NaN</td>\n",
       "    </tr>\n",
       "    <tr>\n",
       "      <th>956</th>\n",
       "      <td>MNE</td>\n",
       "      <td>2015.0</td>\n",
       "      <td>1.0</td>\n",
       "      <td>NaN</td>\n",
       "    </tr>\n",
       "    <tr>\n",
       "      <th>1002</th>\n",
       "      <td>NIU</td>\n",
       "      <td>2015.0</td>\n",
       "      <td>1.0</td>\n",
       "      <td>NaN</td>\n",
       "    </tr>\n",
       "    <tr>\n",
       "      <th>1051</th>\n",
       "      <td>NRU</td>\n",
       "      <td>2015.0</td>\n",
       "      <td>1.0</td>\n",
       "      <td>NaN</td>\n",
       "    </tr>\n",
       "    <tr>\n",
       "      <th>1180</th>\n",
       "      <td>SDN</td>\n",
       "      <td>2015.0</td>\n",
       "      <td>1.0</td>\n",
       "      <td>NaN</td>\n",
       "    </tr>\n",
       "    <tr>\n",
       "      <th>1216</th>\n",
       "      <td>SMR</td>\n",
       "      <td>2015.0</td>\n",
       "      <td>1.0</td>\n",
       "      <td>NaN</td>\n",
       "    </tr>\n",
       "    <tr>\n",
       "      <th>1220</th>\n",
       "      <td>SRB</td>\n",
       "      <td>2015.0</td>\n",
       "      <td>1.0</td>\n",
       "      <td>NaN</td>\n",
       "    </tr>\n",
       "    <tr>\n",
       "      <th>1222</th>\n",
       "      <td>SSD</td>\n",
       "      <td>2015.0</td>\n",
       "      <td>2.0</td>\n",
       "      <td>NaN</td>\n",
       "    </tr>\n",
       "    <tr>\n",
       "      <th>1374</th>\n",
       "      <td>TUV</td>\n",
       "      <td>2015.0</td>\n",
       "      <td>1.0</td>\n",
       "      <td>NaN</td>\n",
       "    </tr>\n",
       "  </tbody>\n",
       "</table>\n",
       "</div>"
      ],
      "text/plain": [
       "     Code    Year  Number of Policies  Emissions\n",
       "263   CHE  2015.0                 1.0        NaN\n",
       "479   ESP  2015.0                12.0        NaN\n",
       "519   EUE  2015.0                 4.0        NaN\n",
       "556   FRA  2015.0                 8.0        NaN\n",
       "565   FSM  2015.0                 1.0        NaN\n",
       "729   ISR  2015.0                 1.0        NaN\n",
       "750   ITA  2015.0                 1.0        NaN\n",
       "866   LIE  2015.0                 1.0        NaN\n",
       "896   MCO  2015.0                 1.0        NaN\n",
       "956   MNE  2015.0                 1.0        NaN\n",
       "1002  NIU  2015.0                 1.0        NaN\n",
       "1051  NRU  2015.0                 1.0        NaN\n",
       "1180  SDN  2015.0                 1.0        NaN\n",
       "1216  SMR  2015.0                 1.0        NaN\n",
       "1220  SRB  2015.0                 1.0        NaN\n",
       "1222  SSD  2015.0                 2.0        NaN\n",
       "1374  TUV  2015.0                 1.0        NaN"
      ]
     },
     "execution_count": 165,
     "metadata": {},
     "output_type": "execute_result"
    }
   ],
   "source": [
    "# Check the number of rows that have NaN for emissions in a specific year\n",
    "merged_data[(merged_data['Emissions'].isnull() == True) & (merged_data['Year'] == 2015)]"
   ]
  },
  {
   "cell_type": "code",
   "execution_count": 166,
   "metadata": {},
   "outputs": [
    {
     "data": {
      "text/html": [
       "<div>\n",
       "<style scoped>\n",
       "    .dataframe tbody tr th:only-of-type {\n",
       "        vertical-align: middle;\n",
       "    }\n",
       "\n",
       "    .dataframe tbody tr th {\n",
       "        vertical-align: top;\n",
       "    }\n",
       "\n",
       "    .dataframe thead th {\n",
       "        text-align: right;\n",
       "    }\n",
       "</style>\n",
       "<table border=\"1\" class=\"dataframe\">\n",
       "  <thead>\n",
       "    <tr style=\"text-align: right;\">\n",
       "      <th></th>\n",
       "      <th>Code</th>\n",
       "      <th>Year</th>\n",
       "      <th>Number of Policies</th>\n",
       "      <th>Emissions</th>\n",
       "    </tr>\n",
       "  </thead>\n",
       "  <tbody>\n",
       "    <tr>\n",
       "      <th>0</th>\n",
       "      <td>AFG</td>\n",
       "      <td>2015.0</td>\n",
       "      <td>1.0</td>\n",
       "      <td>9.800058</td>\n",
       "    </tr>\n",
       "    <tr>\n",
       "      <th>1</th>\n",
       "      <td>AGO</td>\n",
       "      <td>2008.0</td>\n",
       "      <td>2.0</td>\n",
       "      <td>19.672835</td>\n",
       "    </tr>\n",
       "    <tr>\n",
       "      <th>2</th>\n",
       "      <td>AGO</td>\n",
       "      <td>2010.0</td>\n",
       "      <td>2.0</td>\n",
       "      <td>24.018474</td>\n",
       "    </tr>\n",
       "    <tr>\n",
       "      <th>3</th>\n",
       "      <td>AGO</td>\n",
       "      <td>2012.0</td>\n",
       "      <td>2.0</td>\n",
       "      <td>25.221763</td>\n",
       "    </tr>\n",
       "    <tr>\n",
       "      <th>4</th>\n",
       "      <td>AGO</td>\n",
       "      <td>2013.0</td>\n",
       "      <td>1.0</td>\n",
       "      <td>27.426121</td>\n",
       "    </tr>\n",
       "    <tr>\n",
       "      <th>...</th>\n",
       "      <td>...</td>\n",
       "      <td>...</td>\n",
       "      <td>...</td>\n",
       "      <td>...</td>\n",
       "    </tr>\n",
       "    <tr>\n",
       "      <th>10572</th>\n",
       "      <td>ZWE</td>\n",
       "      <td>2009.0</td>\n",
       "      <td>0.0</td>\n",
       "      <td>7.757873</td>\n",
       "    </tr>\n",
       "    <tr>\n",
       "      <th>10573</th>\n",
       "      <td>ZWE</td>\n",
       "      <td>2014.0</td>\n",
       "      <td>0.0</td>\n",
       "      <td>12.567990</td>\n",
       "    </tr>\n",
       "    <tr>\n",
       "      <th>10574</th>\n",
       "      <td>ZWE</td>\n",
       "      <td>2016.0</td>\n",
       "      <td>0.0</td>\n",
       "      <td>11.472800</td>\n",
       "    </tr>\n",
       "    <tr>\n",
       "      <th>10575</th>\n",
       "      <td>ZWE</td>\n",
       "      <td>2017.0</td>\n",
       "      <td>0.0</td>\n",
       "      <td>12.812133</td>\n",
       "    </tr>\n",
       "    <tr>\n",
       "      <th>10576</th>\n",
       "      <td>ZWE</td>\n",
       "      <td>2018.0</td>\n",
       "      <td>0.0</td>\n",
       "      <td>13.044641</td>\n",
       "    </tr>\n",
       "  </tbody>\n",
       "</table>\n",
       "<p>10290 rows × 4 columns</p>\n",
       "</div>"
      ],
      "text/plain": [
       "      Code    Year  Number of Policies  Emissions\n",
       "0      AFG  2015.0                 1.0   9.800058\n",
       "1      AGO  2008.0                 2.0  19.672835\n",
       "2      AGO  2010.0                 2.0  24.018474\n",
       "3      AGO  2012.0                 2.0  25.221763\n",
       "4      AGO  2013.0                 1.0  27.426121\n",
       "...    ...     ...                 ...        ...\n",
       "10572  ZWE  2009.0                 0.0   7.757873\n",
       "10573  ZWE  2014.0                 0.0  12.567990\n",
       "10574  ZWE  2016.0                 0.0  11.472800\n",
       "10575  ZWE  2017.0                 0.0  12.812133\n",
       "10576  ZWE  2018.0                 0.0  13.044641\n",
       "\n",
       "[10290 rows x 4 columns]"
      ]
     },
     "execution_count": 166,
     "metadata": {},
     "output_type": "execute_result"
    }
   ],
   "source": [
    "# Drop rows that contain NaN for Emissions\n",
    "merged_data = merged_data.dropna(subset=['Emissions'])\n",
    "merged_data"
   ]
  },
  {
   "cell_type": "markdown",
   "metadata": {},
   "source": [
    "The above dataset is the final form of the merged climate policy and emissions dataset. It is clean of NaNs."
   ]
  },
  {
   "cell_type": "markdown",
   "metadata": {},
   "source": [
    "## Geospatial Analysis:"
   ]
  },
  {
   "cell_type": "code",
   "execution_count": 178,
   "metadata": {},
   "outputs": [
    {
     "data": {
      "text/html": [
       "<div>\n",
       "<style scoped>\n",
       "    .dataframe tbody tr th:only-of-type {\n",
       "        vertical-align: middle;\n",
       "    }\n",
       "\n",
       "    .dataframe tbody tr th {\n",
       "        vertical-align: top;\n",
       "    }\n",
       "\n",
       "    .dataframe thead th {\n",
       "        text-align: right;\n",
       "    }\n",
       "</style>\n",
       "<table border=\"1\" class=\"dataframe\">\n",
       "  <thead>\n",
       "    <tr style=\"text-align: right;\">\n",
       "      <th></th>\n",
       "      <th>Code</th>\n",
       "      <th>Number of Policies</th>\n",
       "    </tr>\n",
       "  </thead>\n",
       "  <tbody>\n",
       "    <tr>\n",
       "      <th>0</th>\n",
       "      <td>ABW</td>\n",
       "      <td>0.0</td>\n",
       "    </tr>\n",
       "    <tr>\n",
       "      <th>1</th>\n",
       "      <td>AFG</td>\n",
       "      <td>1.0</td>\n",
       "    </tr>\n",
       "    <tr>\n",
       "      <th>2</th>\n",
       "      <td>AGO</td>\n",
       "      <td>8.0</td>\n",
       "    </tr>\n",
       "    <tr>\n",
       "      <th>3</th>\n",
       "      <td>AIA</td>\n",
       "      <td>0.0</td>\n",
       "    </tr>\n",
       "    <tr>\n",
       "      <th>4</th>\n",
       "      <td>AIR</td>\n",
       "      <td>0.0</td>\n",
       "    </tr>\n",
       "  </tbody>\n",
       "</table>\n",
       "</div>"
      ],
      "text/plain": [
       "  Code  Number of Policies\n",
       "0  ABW                 0.0\n",
       "1  AFG                 1.0\n",
       "2  AGO                 8.0\n",
       "3  AIA                 0.0\n",
       "4  AIR                 0.0"
      ]
     },
     "execution_count": 178,
     "metadata": {},
     "output_type": "execute_result"
    }
   ],
   "source": [
    "temp_merged = merged_data\n",
    "temp_merged = temp_merged.groupby(['Code'])['Number of Policies'].agg('sum').reset_index()\n",
    "temp_merged.head()"
   ]
  },
  {
   "cell_type": "code",
   "execution_count": 179,
   "metadata": {},
   "outputs": [],
   "source": [
    "world = gpd.read_file(gpd.datasets.get_path('naturalearth_lowres'))\n",
    "\n",
    "cities = gpd.read_file(gpd.datasets.get_path('naturalearth_cities'))\n",
    "\n",
    "# Statements used to double check the merged dataframes\n",
    "#print(df[(df['Code'] == 'AFG') & (df['Year'] ==  1970)]['Emissions'].sum())\n",
    "#df[(df['Code'] ==  'SRB')]['Emissions']\n",
    "#climate_policy_data[(climate_policy_data['Country ISO'] == 'USA') & (climate_policy_data['Date of decision'] == 2012) ]\n",
    "#grouped_policy[(grouped_policy['Country'] == 'United States of America')]\n",
    "#merged_data[(merged_data['Code'] == 'SRB')]\n",
    "#merged_data[(merged_data['Emissions'].isnull() == True) & (merged_data['Year'] == 2015)]"
   ]
  },
  {
   "cell_type": "code",
   "execution_count": 180,
   "metadata": {},
   "outputs": [
    {
     "data": {
      "text/html": [
       "<div>\n",
       "<style scoped>\n",
       "    .dataframe tbody tr th:only-of-type {\n",
       "        vertical-align: middle;\n",
       "    }\n",
       "\n",
       "    .dataframe tbody tr th {\n",
       "        vertical-align: top;\n",
       "    }\n",
       "\n",
       "    .dataframe thead th {\n",
       "        text-align: right;\n",
       "    }\n",
       "</style>\n",
       "<table border=\"1\" class=\"dataframe\">\n",
       "  <thead>\n",
       "    <tr style=\"text-align: right;\">\n",
       "      <th></th>\n",
       "      <th>pop_est</th>\n",
       "      <th>continent</th>\n",
       "      <th>name</th>\n",
       "      <th>iso_a3</th>\n",
       "      <th>gdp_md_est</th>\n",
       "      <th>geometry</th>\n",
       "    </tr>\n",
       "  </thead>\n",
       "  <tbody>\n",
       "    <tr>\n",
       "      <th>0</th>\n",
       "      <td>920938</td>\n",
       "      <td>Oceania</td>\n",
       "      <td>Fiji</td>\n",
       "      <td>FJI</td>\n",
       "      <td>8374.0</td>\n",
       "      <td>MULTIPOLYGON (((180.00000 -16.06713, 180.00000...</td>\n",
       "    </tr>\n",
       "    <tr>\n",
       "      <th>1</th>\n",
       "      <td>53950935</td>\n",
       "      <td>Africa</td>\n",
       "      <td>Tanzania</td>\n",
       "      <td>TZA</td>\n",
       "      <td>150600.0</td>\n",
       "      <td>POLYGON ((33.90371 -0.95000, 34.07262 -1.05982...</td>\n",
       "    </tr>\n",
       "    <tr>\n",
       "      <th>2</th>\n",
       "      <td>603253</td>\n",
       "      <td>Africa</td>\n",
       "      <td>W. Sahara</td>\n",
       "      <td>ESH</td>\n",
       "      <td>906.5</td>\n",
       "      <td>POLYGON ((-8.66559 27.65643, -8.66512 27.58948...</td>\n",
       "    </tr>\n",
       "    <tr>\n",
       "      <th>3</th>\n",
       "      <td>35623680</td>\n",
       "      <td>North America</td>\n",
       "      <td>Canada</td>\n",
       "      <td>CAN</td>\n",
       "      <td>1674000.0</td>\n",
       "      <td>MULTIPOLYGON (((-122.84000 49.00000, -122.9742...</td>\n",
       "    </tr>\n",
       "    <tr>\n",
       "      <th>4</th>\n",
       "      <td>326625791</td>\n",
       "      <td>North America</td>\n",
       "      <td>United States of America</td>\n",
       "      <td>USA</td>\n",
       "      <td>18560000.0</td>\n",
       "      <td>MULTIPOLYGON (((-122.84000 49.00000, -120.0000...</td>\n",
       "    </tr>\n",
       "    <tr>\n",
       "      <th>...</th>\n",
       "      <td>...</td>\n",
       "      <td>...</td>\n",
       "      <td>...</td>\n",
       "      <td>...</td>\n",
       "      <td>...</td>\n",
       "      <td>...</td>\n",
       "    </tr>\n",
       "    <tr>\n",
       "      <th>172</th>\n",
       "      <td>7111024</td>\n",
       "      <td>Europe</td>\n",
       "      <td>Serbia</td>\n",
       "      <td>SRB</td>\n",
       "      <td>101800.0</td>\n",
       "      <td>POLYGON ((18.82982 45.90887, 18.82984 45.90888...</td>\n",
       "    </tr>\n",
       "    <tr>\n",
       "      <th>173</th>\n",
       "      <td>642550</td>\n",
       "      <td>Europe</td>\n",
       "      <td>Montenegro</td>\n",
       "      <td>MNE</td>\n",
       "      <td>10610.0</td>\n",
       "      <td>POLYGON ((20.07070 42.58863, 19.80161 42.50009...</td>\n",
       "    </tr>\n",
       "    <tr>\n",
       "      <th>174</th>\n",
       "      <td>1895250</td>\n",
       "      <td>Europe</td>\n",
       "      <td>Kosovo</td>\n",
       "      <td>-99</td>\n",
       "      <td>18490.0</td>\n",
       "      <td>POLYGON ((20.59025 41.85541, 20.52295 42.21787...</td>\n",
       "    </tr>\n",
       "    <tr>\n",
       "      <th>175</th>\n",
       "      <td>1218208</td>\n",
       "      <td>North America</td>\n",
       "      <td>Trinidad and Tobago</td>\n",
       "      <td>TTO</td>\n",
       "      <td>43570.0</td>\n",
       "      <td>POLYGON ((-61.68000 10.76000, -61.10500 10.890...</td>\n",
       "    </tr>\n",
       "    <tr>\n",
       "      <th>176</th>\n",
       "      <td>13026129</td>\n",
       "      <td>Africa</td>\n",
       "      <td>S. Sudan</td>\n",
       "      <td>SSD</td>\n",
       "      <td>20880.0</td>\n",
       "      <td>POLYGON ((30.83385 3.50917, 29.95350 4.17370, ...</td>\n",
       "    </tr>\n",
       "  </tbody>\n",
       "</table>\n",
       "<p>177 rows × 6 columns</p>\n",
       "</div>"
      ],
      "text/plain": [
       "       pop_est      continent                      name iso_a3  gdp_md_est  \\\n",
       "0       920938        Oceania                      Fiji    FJI      8374.0   \n",
       "1     53950935         Africa                  Tanzania    TZA    150600.0   \n",
       "2       603253         Africa                 W. Sahara    ESH       906.5   \n",
       "3     35623680  North America                    Canada    CAN   1674000.0   \n",
       "4    326625791  North America  United States of America    USA  18560000.0   \n",
       "..         ...            ...                       ...    ...         ...   \n",
       "172    7111024         Europe                    Serbia    SRB    101800.0   \n",
       "173     642550         Europe                Montenegro    MNE     10610.0   \n",
       "174    1895250         Europe                    Kosovo    -99     18490.0   \n",
       "175    1218208  North America       Trinidad and Tobago    TTO     43570.0   \n",
       "176   13026129         Africa                  S. Sudan    SSD     20880.0   \n",
       "\n",
       "                                              geometry  \n",
       "0    MULTIPOLYGON (((180.00000 -16.06713, 180.00000...  \n",
       "1    POLYGON ((33.90371 -0.95000, 34.07262 -1.05982...  \n",
       "2    POLYGON ((-8.66559 27.65643, -8.66512 27.58948...  \n",
       "3    MULTIPOLYGON (((-122.84000 49.00000, -122.9742...  \n",
       "4    MULTIPOLYGON (((-122.84000 49.00000, -120.0000...  \n",
       "..                                                 ...  \n",
       "172  POLYGON ((18.82982 45.90887, 18.82984 45.90888...  \n",
       "173  POLYGON ((20.07070 42.58863, 19.80161 42.50009...  \n",
       "174  POLYGON ((20.59025 41.85541, 20.52295 42.21787...  \n",
       "175  POLYGON ((-61.68000 10.76000, -61.10500 10.890...  \n",
       "176  POLYGON ((30.83385 3.50917, 29.95350 4.17370, ...  \n",
       "\n",
       "[177 rows x 6 columns]"
      ]
     },
     "execution_count": 180,
     "metadata": {},
     "output_type": "execute_result"
    }
   ],
   "source": [
    "world"
   ]
  },
  {
   "cell_type": "code",
   "execution_count": 181,
   "metadata": {},
   "outputs": [
    {
     "data": {
      "text/html": [
       "<div>\n",
       "<style scoped>\n",
       "    .dataframe tbody tr th:only-of-type {\n",
       "        vertical-align: middle;\n",
       "    }\n",
       "\n",
       "    .dataframe tbody tr th {\n",
       "        vertical-align: top;\n",
       "    }\n",
       "\n",
       "    .dataframe thead th {\n",
       "        text-align: right;\n",
       "    }\n",
       "</style>\n",
       "<table border=\"1\" class=\"dataframe\">\n",
       "  <thead>\n",
       "    <tr style=\"text-align: right;\">\n",
       "      <th></th>\n",
       "      <th>pop_est</th>\n",
       "      <th>continent</th>\n",
       "      <th>name</th>\n",
       "      <th>Code</th>\n",
       "      <th>gdp_md_est</th>\n",
       "      <th>geometry</th>\n",
       "    </tr>\n",
       "  </thead>\n",
       "  <tbody>\n",
       "    <tr>\n",
       "      <th>0</th>\n",
       "      <td>920938</td>\n",
       "      <td>Oceania</td>\n",
       "      <td>Fiji</td>\n",
       "      <td>FJI</td>\n",
       "      <td>8374.0</td>\n",
       "      <td>MULTIPOLYGON (((180.00000 -16.06713, 180.00000...</td>\n",
       "    </tr>\n",
       "    <tr>\n",
       "      <th>1</th>\n",
       "      <td>53950935</td>\n",
       "      <td>Africa</td>\n",
       "      <td>Tanzania</td>\n",
       "      <td>TZA</td>\n",
       "      <td>150600.0</td>\n",
       "      <td>POLYGON ((33.90371 -0.95000, 34.07262 -1.05982...</td>\n",
       "    </tr>\n",
       "    <tr>\n",
       "      <th>2</th>\n",
       "      <td>603253</td>\n",
       "      <td>Africa</td>\n",
       "      <td>W. Sahara</td>\n",
       "      <td>ESH</td>\n",
       "      <td>906.5</td>\n",
       "      <td>POLYGON ((-8.66559 27.65643, -8.66512 27.58948...</td>\n",
       "    </tr>\n",
       "    <tr>\n",
       "      <th>3</th>\n",
       "      <td>35623680</td>\n",
       "      <td>North America</td>\n",
       "      <td>Canada</td>\n",
       "      <td>CAN</td>\n",
       "      <td>1674000.0</td>\n",
       "      <td>MULTIPOLYGON (((-122.84000 49.00000, -122.9742...</td>\n",
       "    </tr>\n",
       "    <tr>\n",
       "      <th>4</th>\n",
       "      <td>326625791</td>\n",
       "      <td>North America</td>\n",
       "      <td>United States of America</td>\n",
       "      <td>USA</td>\n",
       "      <td>18560000.0</td>\n",
       "      <td>MULTIPOLYGON (((-122.84000 49.00000, -120.0000...</td>\n",
       "    </tr>\n",
       "    <tr>\n",
       "      <th>...</th>\n",
       "      <td>...</td>\n",
       "      <td>...</td>\n",
       "      <td>...</td>\n",
       "      <td>...</td>\n",
       "      <td>...</td>\n",
       "      <td>...</td>\n",
       "    </tr>\n",
       "    <tr>\n",
       "      <th>172</th>\n",
       "      <td>7111024</td>\n",
       "      <td>Europe</td>\n",
       "      <td>Serbia</td>\n",
       "      <td>SRB</td>\n",
       "      <td>101800.0</td>\n",
       "      <td>POLYGON ((18.82982 45.90887, 18.82984 45.90888...</td>\n",
       "    </tr>\n",
       "    <tr>\n",
       "      <th>173</th>\n",
       "      <td>642550</td>\n",
       "      <td>Europe</td>\n",
       "      <td>Montenegro</td>\n",
       "      <td>MNE</td>\n",
       "      <td>10610.0</td>\n",
       "      <td>POLYGON ((20.07070 42.58863, 19.80161 42.50009...</td>\n",
       "    </tr>\n",
       "    <tr>\n",
       "      <th>174</th>\n",
       "      <td>1895250</td>\n",
       "      <td>Europe</td>\n",
       "      <td>Kosovo</td>\n",
       "      <td>-99</td>\n",
       "      <td>18490.0</td>\n",
       "      <td>POLYGON ((20.59025 41.85541, 20.52295 42.21787...</td>\n",
       "    </tr>\n",
       "    <tr>\n",
       "      <th>175</th>\n",
       "      <td>1218208</td>\n",
       "      <td>North America</td>\n",
       "      <td>Trinidad and Tobago</td>\n",
       "      <td>TTO</td>\n",
       "      <td>43570.0</td>\n",
       "      <td>POLYGON ((-61.68000 10.76000, -61.10500 10.890...</td>\n",
       "    </tr>\n",
       "    <tr>\n",
       "      <th>176</th>\n",
       "      <td>13026129</td>\n",
       "      <td>Africa</td>\n",
       "      <td>S. Sudan</td>\n",
       "      <td>SSD</td>\n",
       "      <td>20880.0</td>\n",
       "      <td>POLYGON ((30.83385 3.50917, 29.95350 4.17370, ...</td>\n",
       "    </tr>\n",
       "  </tbody>\n",
       "</table>\n",
       "<p>177 rows × 6 columns</p>\n",
       "</div>"
      ],
      "text/plain": [
       "       pop_est      continent                      name Code  gdp_md_est  \\\n",
       "0       920938        Oceania                      Fiji  FJI      8374.0   \n",
       "1     53950935         Africa                  Tanzania  TZA    150600.0   \n",
       "2       603253         Africa                 W. Sahara  ESH       906.5   \n",
       "3     35623680  North America                    Canada  CAN   1674000.0   \n",
       "4    326625791  North America  United States of America  USA  18560000.0   \n",
       "..         ...            ...                       ...  ...         ...   \n",
       "172    7111024         Europe                    Serbia  SRB    101800.0   \n",
       "173     642550         Europe                Montenegro  MNE     10610.0   \n",
       "174    1895250         Europe                    Kosovo  -99     18490.0   \n",
       "175    1218208  North America       Trinidad and Tobago  TTO     43570.0   \n",
       "176   13026129         Africa                  S. Sudan  SSD     20880.0   \n",
       "\n",
       "                                              geometry  \n",
       "0    MULTIPOLYGON (((180.00000 -16.06713, 180.00000...  \n",
       "1    POLYGON ((33.90371 -0.95000, 34.07262 -1.05982...  \n",
       "2    POLYGON ((-8.66559 27.65643, -8.66512 27.58948...  \n",
       "3    MULTIPOLYGON (((-122.84000 49.00000, -122.9742...  \n",
       "4    MULTIPOLYGON (((-122.84000 49.00000, -120.0000...  \n",
       "..                                                 ...  \n",
       "172  POLYGON ((18.82982 45.90887, 18.82984 45.90888...  \n",
       "173  POLYGON ((20.07070 42.58863, 19.80161 42.50009...  \n",
       "174  POLYGON ((20.59025 41.85541, 20.52295 42.21787...  \n",
       "175  POLYGON ((-61.68000 10.76000, -61.10500 10.890...  \n",
       "176  POLYGON ((30.83385 3.50917, 29.95350 4.17370, ...  \n",
       "\n",
       "[177 rows x 6 columns]"
      ]
     },
     "execution_count": 181,
     "metadata": {},
     "output_type": "execute_result"
    }
   ],
   "source": [
    "world = world.rename(columns={'iso_a3':'Code'})\n",
    "world"
   ]
  },
  {
   "cell_type": "code",
   "execution_count": 182,
   "metadata": {},
   "outputs": [
    {
     "data": {
      "text/html": [
       "<div>\n",
       "<style scoped>\n",
       "    .dataframe tbody tr th:only-of-type {\n",
       "        vertical-align: middle;\n",
       "    }\n",
       "\n",
       "    .dataframe tbody tr th {\n",
       "        vertical-align: top;\n",
       "    }\n",
       "\n",
       "    .dataframe thead th {\n",
       "        text-align: right;\n",
       "    }\n",
       "</style>\n",
       "<table border=\"1\" class=\"dataframe\">\n",
       "  <thead>\n",
       "    <tr style=\"text-align: right;\">\n",
       "      <th></th>\n",
       "      <th>pop_est</th>\n",
       "      <th>continent</th>\n",
       "      <th>name</th>\n",
       "      <th>Code</th>\n",
       "      <th>gdp_md_est</th>\n",
       "      <th>geometry</th>\n",
       "      <th>Number of Policies</th>\n",
       "    </tr>\n",
       "  </thead>\n",
       "  <tbody>\n",
       "    <tr>\n",
       "      <th>0</th>\n",
       "      <td>920938</td>\n",
       "      <td>Oceania</td>\n",
       "      <td>Fiji</td>\n",
       "      <td>FJI</td>\n",
       "      <td>8374.0</td>\n",
       "      <td>MULTIPOLYGON (((180.00000 -16.06713, 180.00000...</td>\n",
       "      <td>3.0</td>\n",
       "    </tr>\n",
       "    <tr>\n",
       "      <th>1</th>\n",
       "      <td>53950935</td>\n",
       "      <td>Africa</td>\n",
       "      <td>Tanzania</td>\n",
       "      <td>TZA</td>\n",
       "      <td>150600.0</td>\n",
       "      <td>POLYGON ((33.90371 -0.95000, 34.07262 -1.05982...</td>\n",
       "      <td>15.0</td>\n",
       "    </tr>\n",
       "    <tr>\n",
       "      <th>2</th>\n",
       "      <td>603253</td>\n",
       "      <td>Africa</td>\n",
       "      <td>W. Sahara</td>\n",
       "      <td>ESH</td>\n",
       "      <td>906.5</td>\n",
       "      <td>POLYGON ((-8.66559 27.65643, -8.66512 27.58948...</td>\n",
       "      <td>0.0</td>\n",
       "    </tr>\n",
       "    <tr>\n",
       "      <th>3</th>\n",
       "      <td>35623680</td>\n",
       "      <td>North America</td>\n",
       "      <td>Canada</td>\n",
       "      <td>CAN</td>\n",
       "      <td>1674000.0</td>\n",
       "      <td>MULTIPOLYGON (((-122.84000 49.00000, -122.9742...</td>\n",
       "      <td>255.0</td>\n",
       "    </tr>\n",
       "    <tr>\n",
       "      <th>4</th>\n",
       "      <td>326625791</td>\n",
       "      <td>North America</td>\n",
       "      <td>United States of America</td>\n",
       "      <td>USA</td>\n",
       "      <td>18560000.0</td>\n",
       "      <td>MULTIPOLYGON (((-122.84000 49.00000, -120.0000...</td>\n",
       "      <td>418.0</td>\n",
       "    </tr>\n",
       "    <tr>\n",
       "      <th>...</th>\n",
       "      <td>...</td>\n",
       "      <td>...</td>\n",
       "      <td>...</td>\n",
       "      <td>...</td>\n",
       "      <td>...</td>\n",
       "      <td>...</td>\n",
       "      <td>...</td>\n",
       "    </tr>\n",
       "    <tr>\n",
       "      <th>172</th>\n",
       "      <td>7111024</td>\n",
       "      <td>Europe</td>\n",
       "      <td>Serbia</td>\n",
       "      <td>SRB</td>\n",
       "      <td>101800.0</td>\n",
       "      <td>POLYGON ((18.82982 45.90887, 18.82984 45.90888...</td>\n",
       "      <td>NaN</td>\n",
       "    </tr>\n",
       "    <tr>\n",
       "      <th>173</th>\n",
       "      <td>642550</td>\n",
       "      <td>Europe</td>\n",
       "      <td>Montenegro</td>\n",
       "      <td>MNE</td>\n",
       "      <td>10610.0</td>\n",
       "      <td>POLYGON ((20.07070 42.58863, 19.80161 42.50009...</td>\n",
       "      <td>NaN</td>\n",
       "    </tr>\n",
       "    <tr>\n",
       "      <th>174</th>\n",
       "      <td>1895250</td>\n",
       "      <td>Europe</td>\n",
       "      <td>Kosovo</td>\n",
       "      <td>-99</td>\n",
       "      <td>18490.0</td>\n",
       "      <td>POLYGON ((20.59025 41.85541, 20.52295 42.21787...</td>\n",
       "      <td>NaN</td>\n",
       "    </tr>\n",
       "    <tr>\n",
       "      <th>175</th>\n",
       "      <td>1218208</td>\n",
       "      <td>North America</td>\n",
       "      <td>Trinidad and Tobago</td>\n",
       "      <td>TTO</td>\n",
       "      <td>43570.0</td>\n",
       "      <td>POLYGON ((-61.68000 10.76000, -61.10500 10.890...</td>\n",
       "      <td>6.0</td>\n",
       "    </tr>\n",
       "    <tr>\n",
       "      <th>176</th>\n",
       "      <td>13026129</td>\n",
       "      <td>Africa</td>\n",
       "      <td>S. Sudan</td>\n",
       "      <td>SSD</td>\n",
       "      <td>20880.0</td>\n",
       "      <td>POLYGON ((30.83385 3.50917, 29.95350 4.17370, ...</td>\n",
       "      <td>NaN</td>\n",
       "    </tr>\n",
       "  </tbody>\n",
       "</table>\n",
       "<p>177 rows × 7 columns</p>\n",
       "</div>"
      ],
      "text/plain": [
       "       pop_est      continent                      name Code  gdp_md_est  \\\n",
       "0       920938        Oceania                      Fiji  FJI      8374.0   \n",
       "1     53950935         Africa                  Tanzania  TZA    150600.0   \n",
       "2       603253         Africa                 W. Sahara  ESH       906.5   \n",
       "3     35623680  North America                    Canada  CAN   1674000.0   \n",
       "4    326625791  North America  United States of America  USA  18560000.0   \n",
       "..         ...            ...                       ...  ...         ...   \n",
       "172    7111024         Europe                    Serbia  SRB    101800.0   \n",
       "173     642550         Europe                Montenegro  MNE     10610.0   \n",
       "174    1895250         Europe                    Kosovo  -99     18490.0   \n",
       "175    1218208  North America       Trinidad and Tobago  TTO     43570.0   \n",
       "176   13026129         Africa                  S. Sudan  SSD     20880.0   \n",
       "\n",
       "                                              geometry  Number of Policies  \n",
       "0    MULTIPOLYGON (((180.00000 -16.06713, 180.00000...                 3.0  \n",
       "1    POLYGON ((33.90371 -0.95000, 34.07262 -1.05982...                15.0  \n",
       "2    POLYGON ((-8.66559 27.65643, -8.66512 27.58948...                 0.0  \n",
       "3    MULTIPOLYGON (((-122.84000 49.00000, -122.9742...               255.0  \n",
       "4    MULTIPOLYGON (((-122.84000 49.00000, -120.0000...               418.0  \n",
       "..                                                 ...                 ...  \n",
       "172  POLYGON ((18.82982 45.90887, 18.82984 45.90888...                 NaN  \n",
       "173  POLYGON ((20.07070 42.58863, 19.80161 42.50009...                 NaN  \n",
       "174  POLYGON ((20.59025 41.85541, 20.52295 42.21787...                 NaN  \n",
       "175  POLYGON ((-61.68000 10.76000, -61.10500 10.890...                 6.0  \n",
       "176  POLYGON ((30.83385 3.50917, 29.95350 4.17370, ...                 NaN  \n",
       "\n",
       "[177 rows x 7 columns]"
      ]
     },
     "execution_count": 182,
     "metadata": {},
     "output_type": "execute_result"
    }
   ],
   "source": [
    "geo_data = pd.merge(world, temp_merged, how = 'left', on = ['Code'])\n",
    "geo_data"
   ]
  },
  {
   "cell_type": "code",
   "execution_count": 183,
   "metadata": {},
   "outputs": [
    {
     "data": {
      "text/html": [
       "<div>\n",
       "<style scoped>\n",
       "    .dataframe tbody tr th:only-of-type {\n",
       "        vertical-align: middle;\n",
       "    }\n",
       "\n",
       "    .dataframe tbody tr th {\n",
       "        vertical-align: top;\n",
       "    }\n",
       "\n",
       "    .dataframe thead th {\n",
       "        text-align: right;\n",
       "    }\n",
       "</style>\n",
       "<table border=\"1\" class=\"dataframe\">\n",
       "  <thead>\n",
       "    <tr style=\"text-align: right;\">\n",
       "      <th></th>\n",
       "      <th>pop_est</th>\n",
       "      <th>continent</th>\n",
       "      <th>name</th>\n",
       "      <th>Code</th>\n",
       "      <th>gdp_md_est</th>\n",
       "      <th>geometry</th>\n",
       "      <th>policies_per_cap</th>\n",
       "    </tr>\n",
       "  </thead>\n",
       "  <tbody>\n",
       "    <tr>\n",
       "      <th>0</th>\n",
       "      <td>920938</td>\n",
       "      <td>Oceania</td>\n",
       "      <td>Fiji</td>\n",
       "      <td>FJI</td>\n",
       "      <td>8374.0</td>\n",
       "      <td>MULTIPOLYGON (((180.00000 -16.06713, 180.00000...</td>\n",
       "      <td>3.257548e-06</td>\n",
       "    </tr>\n",
       "    <tr>\n",
       "      <th>1</th>\n",
       "      <td>53950935</td>\n",
       "      <td>Africa</td>\n",
       "      <td>Tanzania</td>\n",
       "      <td>TZA</td>\n",
       "      <td>150600.0</td>\n",
       "      <td>POLYGON ((33.90371 -0.95000, 34.07262 -1.05982...</td>\n",
       "      <td>2.780304e-07</td>\n",
       "    </tr>\n",
       "    <tr>\n",
       "      <th>2</th>\n",
       "      <td>603253</td>\n",
       "      <td>Africa</td>\n",
       "      <td>W. Sahara</td>\n",
       "      <td>ESH</td>\n",
       "      <td>906.5</td>\n",
       "      <td>POLYGON ((-8.66559 27.65643, -8.66512 27.58948...</td>\n",
       "      <td>0.000000e+00</td>\n",
       "    </tr>\n",
       "    <tr>\n",
       "      <th>3</th>\n",
       "      <td>35623680</td>\n",
       "      <td>North America</td>\n",
       "      <td>Canada</td>\n",
       "      <td>CAN</td>\n",
       "      <td>1674000.0</td>\n",
       "      <td>MULTIPOLYGON (((-122.84000 49.00000, -122.9742...</td>\n",
       "      <td>7.158160e-06</td>\n",
       "    </tr>\n",
       "    <tr>\n",
       "      <th>4</th>\n",
       "      <td>326625791</td>\n",
       "      <td>North America</td>\n",
       "      <td>United States of America</td>\n",
       "      <td>USA</td>\n",
       "      <td>18560000.0</td>\n",
       "      <td>MULTIPOLYGON (((-122.84000 49.00000, -120.0000...</td>\n",
       "      <td>1.279752e-06</td>\n",
       "    </tr>\n",
       "    <tr>\n",
       "      <th>...</th>\n",
       "      <td>...</td>\n",
       "      <td>...</td>\n",
       "      <td>...</td>\n",
       "      <td>...</td>\n",
       "      <td>...</td>\n",
       "      <td>...</td>\n",
       "      <td>...</td>\n",
       "    </tr>\n",
       "    <tr>\n",
       "      <th>172</th>\n",
       "      <td>7111024</td>\n",
       "      <td>Europe</td>\n",
       "      <td>Serbia</td>\n",
       "      <td>SRB</td>\n",
       "      <td>101800.0</td>\n",
       "      <td>POLYGON ((18.82982 45.90887, 18.82984 45.90888...</td>\n",
       "      <td>NaN</td>\n",
       "    </tr>\n",
       "    <tr>\n",
       "      <th>173</th>\n",
       "      <td>642550</td>\n",
       "      <td>Europe</td>\n",
       "      <td>Montenegro</td>\n",
       "      <td>MNE</td>\n",
       "      <td>10610.0</td>\n",
       "      <td>POLYGON ((20.07070 42.58863, 19.80161 42.50009...</td>\n",
       "      <td>NaN</td>\n",
       "    </tr>\n",
       "    <tr>\n",
       "      <th>174</th>\n",
       "      <td>1895250</td>\n",
       "      <td>Europe</td>\n",
       "      <td>Kosovo</td>\n",
       "      <td>-99</td>\n",
       "      <td>18490.0</td>\n",
       "      <td>POLYGON ((20.59025 41.85541, 20.52295 42.21787...</td>\n",
       "      <td>NaN</td>\n",
       "    </tr>\n",
       "    <tr>\n",
       "      <th>175</th>\n",
       "      <td>1218208</td>\n",
       "      <td>North America</td>\n",
       "      <td>Trinidad and Tobago</td>\n",
       "      <td>TTO</td>\n",
       "      <td>43570.0</td>\n",
       "      <td>POLYGON ((-61.68000 10.76000, -61.10500 10.890...</td>\n",
       "      <td>4.925267e-06</td>\n",
       "    </tr>\n",
       "    <tr>\n",
       "      <th>176</th>\n",
       "      <td>13026129</td>\n",
       "      <td>Africa</td>\n",
       "      <td>S. Sudan</td>\n",
       "      <td>SSD</td>\n",
       "      <td>20880.0</td>\n",
       "      <td>POLYGON ((30.83385 3.50917, 29.95350 4.17370, ...</td>\n",
       "      <td>NaN</td>\n",
       "    </tr>\n",
       "  </tbody>\n",
       "</table>\n",
       "<p>177 rows × 7 columns</p>\n",
       "</div>"
      ],
      "text/plain": [
       "       pop_est      continent                      name Code  gdp_md_est  \\\n",
       "0       920938        Oceania                      Fiji  FJI      8374.0   \n",
       "1     53950935         Africa                  Tanzania  TZA    150600.0   \n",
       "2       603253         Africa                 W. Sahara  ESH       906.5   \n",
       "3     35623680  North America                    Canada  CAN   1674000.0   \n",
       "4    326625791  North America  United States of America  USA  18560000.0   \n",
       "..         ...            ...                       ...  ...         ...   \n",
       "172    7111024         Europe                    Serbia  SRB    101800.0   \n",
       "173     642550         Europe                Montenegro  MNE     10610.0   \n",
       "174    1895250         Europe                    Kosovo  -99     18490.0   \n",
       "175    1218208  North America       Trinidad and Tobago  TTO     43570.0   \n",
       "176   13026129         Africa                  S. Sudan  SSD     20880.0   \n",
       "\n",
       "                                              geometry  policies_per_cap  \n",
       "0    MULTIPOLYGON (((180.00000 -16.06713, 180.00000...      3.257548e-06  \n",
       "1    POLYGON ((33.90371 -0.95000, 34.07262 -1.05982...      2.780304e-07  \n",
       "2    POLYGON ((-8.66559 27.65643, -8.66512 27.58948...      0.000000e+00  \n",
       "3    MULTIPOLYGON (((-122.84000 49.00000, -122.9742...      7.158160e-06  \n",
       "4    MULTIPOLYGON (((-122.84000 49.00000, -120.0000...      1.279752e-06  \n",
       "..                                                 ...               ...  \n",
       "172  POLYGON ((18.82982 45.90887, 18.82984 45.90888...               NaN  \n",
       "173  POLYGON ((20.07070 42.58863, 19.80161 42.50009...               NaN  \n",
       "174  POLYGON ((20.59025 41.85541, 20.52295 42.21787...               NaN  \n",
       "175  POLYGON ((-61.68000 10.76000, -61.10500 10.890...      4.925267e-06  \n",
       "176  POLYGON ((30.83385 3.50917, 29.95350 4.17370, ...               NaN  \n",
       "\n",
       "[177 rows x 7 columns]"
      ]
     },
     "execution_count": 183,
     "metadata": {},
     "output_type": "execute_result"
    }
   ],
   "source": [
    "world['policies_per_cap'] = geo_data['Number of Policies'] / geo_data['pop_est']\n",
    "world"
   ]
  },
  {
   "cell_type": "code",
   "execution_count": 184,
   "metadata": {},
   "outputs": [
    {
     "data": {
      "text/plain": [
       "<AxesSubplot:>"
      ]
     },
     "execution_count": 184,
     "metadata": {},
     "output_type": "execute_result"
    },
    {
     "data": {
      "image/png": "[encoded data removed]",
      "text/plain": [
       "<Figure size 1224x504 with 2 Axes>"
      ]
     },
     "metadata": {
      "needs_background": "light"
     },
     "output_type": "display_data"
    }
   ],
   "source": [
    "fix, ax = plt.subplots(1,1, figsize=(17,7))\n",
    "\n",
    "world.plot(column='policies_per_cap', ax=ax, cmap='YlGn', legend=True)"
   ]
  },
  {
   "cell_type": "markdown",
   "metadata": {},
   "source": [
    "# Ethics & Privacy"
   ]
  },
  {
   "cell_type": "markdown",
   "metadata": {},
   "source": [
    "**Instructions: Acknowledge and address any ethics & privacy related issues of your question(s), proposed dataset(s), and/or analyses. Use the information provided in lecture to guide your group discussion and thinking. If you need further guidance, check out Deon's Ethics Checklist. In particular:**\n",
    "\n",
    "**Are there any biases/privacy/terms of use issues with the data you propsed?\n",
    "Are there potential biases in your dataset(s), in terms of who it composes, and how it was collected, that may be problematic in terms of it allowing for equitable analysis? (For example, does your data exclude particular populations, or is it likely to reflect particular human biases in a way that could be a problem?)\n",
    "How will you set out to detect these specific biases before, during, and after/when communicating your analysis?\n",
    "Are there any other issues related to your topic area, data, and/or analyses that are potentially problematic in terms of data privacy and equitable impact?\n",
    "How will you handle issues you identified?**\n",
    "\n",
    "\n",
    "\n",
    "\n",
    "\n",
    "In order to uphold ethics and privacy, we must ensure that our data does not contain any harmful biases and that our resulting subsequent analysis does not further such harmful biases. While our intentions may not be malicious, we must still be vigilant of any harmful practices that may occur unknowingly throughout our project. Furthermore, we should always consider the risks of using certain data sets. We want to make sure that the data we work with is substantial enough to make reliable inferences. Doing so would result in inaccurate predictions and spurious correlations. If we are not able to find sufficient data, we will need to consider changing our research. \n",
    "\n",
    "\n",
    "For our two datasets, there is little indication of any biases. The climate policy dataset is objective in that it lists all climate policies, both opened and closed, from 1970 to 2018. It also includes all country codes indicating that it does not exclude any particular populations. We retrieved the climate policy dataset from the Climate Policy Database which aims to establish an \"open and collaborative platform\" to gather and retrieve data. Therefore, there seems to be little bias in the type of information we used in our project. \n",
    "\n",
    "For the EDGAR CO2 emissions dataset, there is little bias. It provides emission data for every country code and therefore does not exclude any populations. EDGAR provides \"idependent\" emission information regardless of reports by European Member states of parties under the UNFCCC. Their collection methodology is made transparent and is applied to all countries. \n",
    "\n",
    "It is notable that we did only consider the top **X** emission producing countries in our analysis. Our EDA indicated that many countries did not product significant amounts of carbon emissions which in turn affects the number of climate policies implemented throughout the years. "
   ]
  },
  {
   "cell_type": "markdown",
   "metadata": {},
   "source": [
    "# Conclusion & Discussion"
   ]
  },
  {
   "cell_type": "markdown",
   "metadata": {},
   "source": [
    "*Fill in your discussion information here*"
   ]
  },
  {
   "cell_type": "markdown",
   "metadata": {},
   "source": [
    "# Team Contributions"
   ]
  },
  {
   "cell_type": "markdown",
   "metadata": {},
   "source": [
    "*Specify who in your group worked on which parts of the project.*"
   ]
  }
 ],
 "metadata": {
  "kernelspec": {
   "display_name": "Python 3",
   "language": "python",
   "name": "python3"
  },
  "language_info": {
   "codemirror_mode": {
    "name": "ipython",
    "version": 3
   },
   "file_extension": ".py",
   "mimetype": "text/x-python",
   "name": "python",
   "nbconvert_exporter": "python",
   "pygments_lexer": "ipython3",
   "version": "3.8.6"
  }
 },
 "nbformat": 4,
 "nbformat_minor": 2
}
